{
  "nbformat": 4,
  "nbformat_minor": 0,
  "metadata": {
    "colab": {
      "provenance": [],
      "include_colab_link": true
    },
    "kernelspec": {
      "name": "ir",
      "display_name": "R"
    },
    "language_info": {
      "name": "R"
    }
  },
  "cells": [
    {
      "cell_type": "markdown",
      "metadata": {
        "id": "view-in-github",
        "colab_type": "text"
      },
      "source": [
        "<a href=\"https://colab.research.google.com/github/nicknaks/kis/blob/main/%D0%9D%D0%B0%D0%BA%D0%B0%D0%B7%D0%BD%D0%BE%D0%B8%CC%86_%D0%9D_%D0%90_%D0%9B%D0%B0%D0%B1_2.ipynb\" target=\"_parent\"><img src=\"https://colab.research.google.com/assets/colab-badge.svg\" alt=\"Open In Colab\"/></a>"
      ]
    },
    {
      "cell_type": "code",
      "execution_count": null,
      "metadata": {
        "id": "_nd2JZDDzsXa"
      },
      "outputs": [],
      "source": [
        "# Задание 1\n",
        "Variant<-16\n",
        "set.seed(Variant) \n",
        "X1<-sample(c(1:20),5)\n",
        "X2<-sample(c(3:100),5)\n",
        "X3<-sample(c(0:40),5)\n",
        "pp1<-runif(5)\n",
        "p1<-pp1/sum(pp1)\n",
        "pp2<-runif(5)\n",
        "p2<-pp2/sum(pp2)\n",
        "pp3<-runif(5)\n",
        "p3<-pp3/sum(pp3)"
      ]
    },
    {
      "cell_type": "code",
      "source": [
        "View(data.frame(X1, X2, X3, p1, p2, p3))"
      ],
      "metadata": {
        "colab": {
          "base_uri": "https://localhost:8080/",
          "height": 255
        },
        "id": "Qx51x0iU0M9Y",
        "outputId": "d7246789-725e-49d9-9a23-9cf1aa228591"
      },
      "execution_count": null,
      "outputs": [
        {
          "output_type": "display_data",
          "data": {
            "text/plain": [
              "  X1 X2 X3 p1         p2        p3        \n",
              "1  1 96 16 0.29609135 0.2397487 0.12065678\n",
              "2 15 48  2 0.30313183 0.1984502 0.36343173\n",
              "3 11 93 37 0.23801734 0.2467172 0.35757481\n",
              "4  8 86 18 0.14777439 0.1885358 0.13791732\n",
              "5  4 66 20 0.01498509 0.1265481 0.02041935"
            ],
            "text/html": [
              "<table class=\"dataframe\">\n",
              "<caption>A data.frame: 5 × 6</caption>\n",
              "<thead>\n",
              "\t<tr><th scope=col>X1</th><th scope=col>X2</th><th scope=col>X3</th><th scope=col>p1</th><th scope=col>p2</th><th scope=col>p3</th></tr>\n",
              "\t<tr><th scope=col>&lt;int&gt;</th><th scope=col>&lt;int&gt;</th><th scope=col>&lt;int&gt;</th><th scope=col>&lt;dbl&gt;</th><th scope=col>&lt;dbl&gt;</th><th scope=col>&lt;dbl&gt;</th></tr>\n",
              "</thead>\n",
              "<tbody>\n",
              "\t<tr><td> 1</td><td>96</td><td>16</td><td>0.29609135</td><td>0.2397487</td><td>0.12065678</td></tr>\n",
              "\t<tr><td>15</td><td>48</td><td> 2</td><td>0.30313183</td><td>0.1984502</td><td>0.36343173</td></tr>\n",
              "\t<tr><td>11</td><td>93</td><td>37</td><td>0.23801734</td><td>0.2467172</td><td>0.35757481</td></tr>\n",
              "\t<tr><td> 8</td><td>86</td><td>18</td><td>0.14777439</td><td>0.1885358</td><td>0.13791732</td></tr>\n",
              "\t<tr><td> 4</td><td>66</td><td>20</td><td>0.01498509</td><td>0.1265481</td><td>0.02041935</td></tr>\n",
              "</tbody>\n",
              "</table>\n"
            ],
            "text/markdown": "\nA data.frame: 5 × 6\n\n| X1 &lt;int&gt; | X2 &lt;int&gt; | X3 &lt;int&gt; | p1 &lt;dbl&gt; | p2 &lt;dbl&gt; | p3 &lt;dbl&gt; |\n|---|---|---|---|---|---|\n|  1 | 96 | 16 | 0.29609135 | 0.2397487 | 0.12065678 |\n| 15 | 48 |  2 | 0.30313183 | 0.1984502 | 0.36343173 |\n| 11 | 93 | 37 | 0.23801734 | 0.2467172 | 0.35757481 |\n|  8 | 86 | 18 | 0.14777439 | 0.1885358 | 0.13791732 |\n|  4 | 66 | 20 | 0.01498509 | 0.1265481 | 0.02041935 |\n\n",
            "text/latex": "A data.frame: 5 × 6\n\\begin{tabular}{llllll}\n X1 & X2 & X3 & p1 & p2 & p3\\\\\n <int> & <int> & <int> & <dbl> & <dbl> & <dbl>\\\\\n\\hline\n\t  1 & 96 & 16 & 0.29609135 & 0.2397487 & 0.12065678\\\\\n\t 15 & 48 &  2 & 0.30313183 & 0.1984502 & 0.36343173\\\\\n\t 11 & 93 & 37 & 0.23801734 & 0.2467172 & 0.35757481\\\\\n\t  8 & 86 & 18 & 0.14777439 & 0.1885358 & 0.13791732\\\\\n\t  4 & 66 & 20 & 0.01498509 & 0.1265481 & 0.02041935\\\\\n\\end{tabular}\n"
          },
          "metadata": {}
        }
      ]
    },
    {
      "cell_type": "code",
      "source": [
        "# Теоретический способ\n",
        "# Мат ожидание\n",
        "M_X1<-sum(p1*X1) \n",
        "M_X2<-sum(p2*X2)\n",
        "M_X3<-sum(p3*X3)\n",
        "M_X<-M_X1+M_X2+M_X3"
      ],
      "metadata": {
        "id": "e0X9bIbh0PNR"
      },
      "execution_count": null,
      "outputs": []
    },
    {
      "cell_type": "code",
      "source": [
        "# Дисперсия\n",
        "D_X1<-sum(p1*(X1-M_X1)^2)\n",
        "D_X2<-sum(p2*(X2-M_X2)^2)\n",
        "D_X3<-sum(p3*(X3-M_X3)^2)\n",
        "D_X<-D_X1+D_X2+D_X3\n"
      ],
      "metadata": {
        "id": "kTZc6zwv0PXy"
      },
      "execution_count": null,
      "outputs": []
    },
    {
      "cell_type": "code",
      "source": [
        "# Ср. квадратичное отклонение\n",
        "Q=sqrt(D_X)"
      ],
      "metadata": {
        "id": "sNRKjtZS0Pg4"
      },
      "execution_count": null,
      "outputs": []
    },
    {
      "cell_type": "code",
      "source": [
        "# Коэфф. вариации случайной величины\n",
        "K=(Q/M_X)*100"
      ],
      "metadata": {
        "id": "UkdB1Fik7dtm"
      },
      "execution_count": null,
      "outputs": []
    },
    {
      "cell_type": "code",
      "source": [
        "# Экспериментальный способ\n",
        "getRes<-function(X,P){\n",
        "  y<-runif(1) # случайные числа от 0 до 1\n",
        "  sum<-0\n",
        "  res<-0\n",
        "  for(i in 1:length(P))\n",
        "    {\n",
        "    sum<-sum+P[i]\n",
        "    if(y<=sum)\n",
        "      {\n",
        "      res<-X[i]\n",
        "      break\n",
        "      }\n",
        "    }\n",
        "  return(res)\n",
        "}\n",
        "\n",
        "experimental<-c()\n",
        "for( i in 1:1000){\n",
        "  experimental<-c(experimental,getRes(X1,p1)+getRes(X2,p2)+getRes(X3,p3))\n",
        "}\n",
        "# Мат ожидание\n",
        "M_exp<-mean(experimental) \n",
        "# Ср. квадратич. отклонение\n",
        "sr_exp<-sd(experimental)\n",
        "# Дисперсия\n",
        "D_exp<-sr_exp^2 \n",
        "# Коэфф. вариации случайной величины\n",
        "K_exp<-(sr_exp/M_exp)*100"
      ],
      "metadata": {
        "id": "SFXucgRS7pJx"
      },
      "execution_count": null,
      "outputs": []
    },
    {
      "cell_type": "code",
      "source": [
        "install.packages(\"polynom\")\n",
        "library(polynom)"
      ],
      "metadata": {
        "id": "2RFyy3ZRvCOQ",
        "colab": {
          "base_uri": "https://localhost:8080/"
        },
        "outputId": "91afbd5b-1ec9-4d44-ecc8-8b72234b13a9"
      },
      "execution_count": null,
      "outputs": [
        {
          "output_type": "stream",
          "name": "stderr",
          "text": [
            "Installing package into ‘/usr/local/lib/R/site-library’\n",
            "(as ‘lib’ is unspecified)\n",
            "\n"
          ]
        }
      ]
    },
    {
      "cell_type": "code",
      "source": [
        "# Способ с использованием производящей функции\n",
        "#expand((0.296*z^1+0.303*z^15+0.238*z11+0.148*z^8+0.01*z^4)*(0.239*z^96+0.198*z^48+0.246*z^93+0.188*z^86+0.014*z^66)*(0.120*z^16+0.363*z^2+0.357*z^37+0.137*z^18+0.0204*z^20)\n",
        "\n",
        "generate_poly <- function(X, P) {\n",
        "  res <- sample(0, max(X), replace=TRUE)\n",
        "  for (i in 1:(length(X) + 1)) {\n",
        "    res[X[i] + 1] <- P[i]\n",
        "  }\n",
        "  return(res)\n",
        "}\n",
        "gf <- polynomial(coef = generate_poly(X1, p1)) * polynomial(coef = generate_poly(X2, p2)) *\n",
        "  polynomial(coef = generate_poly(X3, p3))\n",
        "\n",
        "# используем свойства из определения производящей функции\n",
        "\n",
        "# Мат. ожидание (путем взятия  первой производной от точки 1)\n",
        "M <- as.function(deriv(gf))(1)\n",
        "# Дисперсия (путем взятия второй производной)\n",
        "D <- as.function(deriv(deriv(gf)))(1) + M - M^2 \n",
        "# Ср. квадратич.\n",
        "sr <- sqrt(D) \n",
        "# Коэфф. вариации случайной величины, умноженный на 100%\n",
        "k <- (sr / M)*100 # коэффициент вариации случайной величины + умножаем на 100%\n",
        "\n",
        "# Cравним результаты\n",
        "\n",
        "way_1<-c(M_X,D_X,Q,K)\n",
        "way_2<-c(M_exp,D_exp,sr_exp,K_exp)\n",
        "way_3<-c(M,D,sr,k)\n",
        "\n",
        "new_matrix<-rbind(way_1,way_2,way_3)\n",
        "new_matrix\n"
      ],
      "metadata": {
        "colab": {
          "base_uri": "https://localhost:8080/",
          "height": 128
        },
        "id": "dhreOk5t7teS",
        "outputId": "22824280-3aed-432a-9d14-2f950466d4d7"
      },
      "execution_count": 10,
      "outputs": [
        {
          "output_type": "display_data",
          "data": {
            "text/html": [
              "<table class=\"dataframe\">\n",
              "<caption>A matrix: 3 × 4 of type dbl</caption>\n",
              "<tbody>\n",
              "\t<tr><th scope=row>way_1</th><td>107.5344</td><td>591.2022</td><td>24.31465</td><td>22.61105</td></tr>\n",
              "\t<tr><th scope=row>way_2</th><td>108.1500</td><td>572.1116</td><td>23.91885</td><td>22.11637</td></tr>\n",
              "\t<tr><th scope=row>way_3</th><td>107.5344</td><td>591.2022</td><td>24.31465</td><td>22.61105</td></tr>\n",
              "</tbody>\n",
              "</table>\n"
            ],
            "text/markdown": "\nA matrix: 3 × 4 of type dbl\n\n| way_1 | 107.5344 | 591.2022 | 24.31465 | 22.61105 |\n| way_2 | 108.1500 | 572.1116 | 23.91885 | 22.11637 |\n| way_3 | 107.5344 | 591.2022 | 24.31465 | 22.61105 |\n\n",
            "text/latex": "A matrix: 3 × 4 of type dbl\n\\begin{tabular}{r|llll}\n\tway\\_1 & 107.5344 & 591.2022 & 24.31465 & 22.61105\\\\\n\tway\\_2 & 108.1500 & 572.1116 & 23.91885 & 22.11637\\\\\n\tway\\_3 & 107.5344 & 591.2022 & 24.31465 & 22.61105\\\\\n\\end{tabular}\n",
            "text/plain": [
              "      [,1]     [,2]     [,3]     [,4]    \n",
              "way_1 107.5344 591.2022 24.31465 22.61105\n",
              "way_2 108.1500 572.1116 23.91885 22.11637\n",
              "way_3 107.5344 591.2022 24.31465 22.61105"
            ]
          },
          "metadata": {}
        }
      ]
    },
    {
      "cell_type": "code",
      "source": [
        "# Полученные значения практически не отличаются"
      ],
      "metadata": {
        "id": "VZg-V7Ep40Oh"
      },
      "execution_count": 11,
      "outputs": []
    },
    {
      "cell_type": "code",
      "source": [
        "# Задание 2\n",
        "Variant<-16\n",
        "set.seed(Variant) \n",
        "# a=lambda*tau == теоретическое мат.ожидание и дисперсия, т.к. дисперсия случайной величины, распределенной по закону Пуассона, равна ее математическому ожиданию\n",
        "a<-runif(3) \n",
        "n<-200000 # произвольное количество"
      ],
      "metadata": {
        "id": "V3AlPps88r9-"
      },
      "execution_count": 12,
      "outputs": []
    },
    {
      "cell_type": "code",
      "source": [
        "# Способ с использованием производящей функцию для случайной величины, которая распределена по закону Пуассона\n",
        "#Функция rpois из пакета stats генерит случайные числа, распределенные по закону Пуассона с параметром a=lambda*tau\n",
        "\n",
        "library(stats)\n",
        "X1<-rpois(n,a[1])\n",
        "X2<-rpois(n,a[2])\n",
        "X3<-rpois(n,a[3])\n",
        "X<-X1+X2+X3\n",
        "\n",
        "# Теоретическое мат.ожидание и дисперсия распр. по закону Пуассона\n",
        "M_2<-a[1]+a[2]+a[3] \n",
        "D_2<-a[1]+a[2]+a[3]\n",
        "# Ср. квадратич.\n",
        "sr_2<-sqrt(D_2)\n",
        "k_2<-(sr_2/M_2)*100"
      ],
      "metadata": {
        "id": "GD0Uz28h3SfY"
      },
      "execution_count": 13,
      "outputs": []
    },
    {
      "cell_type": "code",
      "source": [
        "# Другой способ\n",
        "M_py<-mean(X)\n",
        "# Ср. квадратич.\n",
        "sr_py<-sd(X)\n",
        "# Дисперсия\n",
        "D_py<-sr_py^2 \n",
        "K_py<-(sr_py/M_py)*100\n",
        "\n",
        "\n",
        "# Выведем результаты\n",
        "way_1<-c(M_2,D_2,sr_2,k_2)\n",
        "way_2<-c(M_py,D_py,sr_py,K_py)\n",
        "\n",
        "new_matrix1<-rbind(way_1,way_2)\n",
        "new_matrix1\n"
      ],
      "metadata": {
        "colab": {
          "base_uri": "https://localhost:8080/",
          "height": 97
        },
        "id": "9qyKKl2D4EQ3",
        "outputId": "cc3fb545-3e39-41ee-d800-ed106591a602"
      },
      "execution_count": 14,
      "outputs": [
        {
          "output_type": "display_data",
          "data": {
            "text/html": [
              "<table class=\"dataframe\">\n",
              "<caption>A matrix: 2 × 4 of type dbl</caption>\n",
              "<tbody>\n",
              "\t<tr><th scope=row>way_1</th><td>1.377339</td><td>1.377339</td><td>1.173601</td><td>85.20785</td></tr>\n",
              "\t<tr><th scope=row>way_2</th><td>1.371020</td><td>1.369761</td><td>1.170368</td><td>85.36476</td></tr>\n",
              "</tbody>\n",
              "</table>\n"
            ],
            "text/markdown": "\nA matrix: 2 × 4 of type dbl\n\n| way_1 | 1.377339 | 1.377339 | 1.173601 | 85.20785 |\n| way_2 | 1.371020 | 1.369761 | 1.170368 | 85.36476 |\n\n",
            "text/latex": "A matrix: 2 × 4 of type dbl\n\\begin{tabular}{r|llll}\n\tway\\_1 & 1.377339 & 1.377339 & 1.173601 & 85.20785\\\\\n\tway\\_2 & 1.371020 & 1.369761 & 1.170368 & 85.36476\\\\\n\\end{tabular}\n",
            "text/plain": [
              "      [,1]     [,2]     [,3]     [,4]    \n",
              "way_1 1.377339 1.377339 1.173601 85.20785\n",
              "way_2 1.371020 1.369761 1.170368 85.36476"
            ]
          },
          "metadata": {}
        }
      ]
    },
    {
      "cell_type": "code",
      "source": [
        "# Полученные значения практически не отличаются"
      ],
      "metadata": {
        "id": "CKevcT7J3hY_"
      },
      "execution_count": null,
      "outputs": []
    },
    {
      "cell_type": "code",
      "source": [
        "# Задание 3 \n",
        "\n",
        "Variant<-16\n",
        "set.seed(Variant) \n",
        "lambda<-runif(7)[7]\n",
        "T<-1/lambda\n",
        "\n",
        "# закон распределения случайной величины (СВ), \n",
        "# распределенной по экспоненциальному закону\n",
        "# F(t) = P(тау<t) = 1 - e^(-lambda*t)\n",
        "\n",
        "# плотность вероятности F(t)\n",
        "# f(t) = F'(t) = lambda*e^(-lambda*t)\n",
        "\n",
        "# переход от действительной переменной к комплексной\n",
        "# Bi(s) = integral(0,inf) [e^-st] dF(t) \n",
        "#      = integral(0,inf) [(e^-st) * f(t)] dt\n",
        "#      = integral(0,inf) [(e^-st) * lambda*e^(-lambda*t)]dt <- это вводим в вольфрам\n",
        "#      = lambda/(lambda+s)\n",
        "\n",
        "# мат.ожидание \n",
        "# M(тау) = -B'(s) |s=0\n",
        "#        = -(lambda/(lambda+s))'\n",
        "#        = -(-lambda/((lambda+s)^2)) | s=0\n",
        "#        = 1/lambda\n",
        "M3teor = 1/lambda\n",
        "# дисперсия\n",
        "# D(тау) = B''(s) - (B'(s))^2 |s=0\n",
        "# B''(s) = (lambda/(lambda+s))''\n",
        "#        = (2*lambda) / (lambda + s)^3 |s=0\n",
        "#        = 2/*lambda^2\n",
        "# D(тау) = 2/*lambda^2 - (-1/lambda)^2\n",
        "#        = 1/*lambda^2\n",
        "D3teor = 1/(lambda^2)\n",
        "# среднее квадратичное\n",
        "SD3teor <- sqrt(D3teor)\n",
        "# коэфициент вариации\n",
        "COV3teor <- (SD3teor/M3teor)*100\n",
        "\n",
        "# экспериментально\n",
        "n <- 10000\n",
        "exp3<-rexp(n,lambda) \n",
        "M3exp = mean(exp3)\n",
        "SD3exp = sd(exp3)\n",
        "D3exp <- SD3exp^2\n",
        "COV3exp <- (SD3exp/M3exp)*100\n",
        "\n",
        "# для k программ\n",
        "# если непрерывная случайная величина тау определяется, как сумма случайных величин\n",
        "# значит преобразование Лапласа-Стилтьеса (Л-С) для СВ тау равно произведению \n",
        "# преобразований Л-С для каждой величин тау_1 + ... + тау_k\n",
        "# тау =  тау_1 + тау_2 + ... + тау_k\n",
        "# B(s) = B1(s) + B2(s) + ... + Bk(s) = (Bi(s))^k\n",
        "# B'(s) = ((lambda/(lambda+s))^k)' -> в вольфрам \n",
        "#       = - k * lambda^k * (s+lambda)^(-k-1) |s=0\n",
        "#       = - k * lambda^k * lambda^(-k-1)\n",
        "#       = - k / lambda\n",
        "# B''(s) = ((lambda/(lambda+s))^k)''\n",
        "#        = - k * (-k-1) * lambda^k * (s+lambda)^(-k-2) |s=0\n",
        "#        = (k^2+k) * lambda^k * lambda^(-k-2)\n",
        "#        = (k^2+k) / lambda^2\n",
        "# M = -B'(s) = k/lambda\n",
        "# D = B''(s) - (B'(s))^2 = \n",
        "#   = (k^2+k)/lambda^2 - k^2/lambda^2\n",
        "#   = k/lambda^2\n",
        "k <- 100 # любой\n",
        "\n",
        "M3teork = k/lambda\n",
        "D3teork = k/(lambda^2)\n",
        "SD3teork <- sqrt(D3teork)\n",
        "COV3teork <- (SD3teork/M3teork)*100\n",
        "\n",
        "# экспериментально для k случайных величин\n",
        "n <- 10000\n",
        "\n",
        "exp3k<-c()\n",
        "for (i in c(1:n)) {\n",
        "  r <- rexp(k,lambda);\n",
        "  exp3k <- append(exp3k ,sum(r))\n",
        "}\n",
        "\n",
        "M3expk = mean(exp3k)\n",
        "SD3expk = sd(exp3k)\n",
        "D3expk <- SD3expk^2\n",
        "COV3expk <- (SD3expk/M3expk)*100\n",
        "\n",
        "results3 = data.frame(row.names=c(\"мат.ожидание\", \"дисперсия\", \"ср.квадратичное\", \"коэф.вариации\"))\n",
        "results3['Теоретически'] = c(M3teor, D3teor, SD3teor, COV3teor)\n",
        "results3['Экспериментально'] = c(M3exp, D3exp, SD3exp, COV3exp)\n",
        "results3[paste('Экспериментально для k =', k)] = c(M3teork, D3teork, SD3teork, COV3teork)\n",
        "results3[paste('Теоретически для k =', k)] = c(M3expk, D3expk, SD3expk, COV3expk)\n",
        "\n",
        "View(results3)"
      ],
      "metadata": {
        "id": "sJDdQdOo47uw",
        "colab": {
          "base_uri": "https://localhost:8080/",
          "height": 224
        },
        "outputId": "9aa3379d-1b4e-471d-ac29-19afb059ee79"
      },
      "execution_count": 15,
      "outputs": [
        {
          "output_type": "display_data",
          "data": {
            "text/plain": [
              "                Теоретически Экспериментально Экспериментально для k = 100\n",
              "мат.ожидание     13.4522      13.51251         1345.220                   \n",
              "дисперсия       180.9617     182.64936        18096.173                   \n",
              "ср.квадратичное  13.4522      13.51478          134.522                   \n",
              "коэф.вариации   100.0000     100.01681           10.000                   \n",
              "                Теоретически для k = 100\n",
              "мат.ожидание     1344.67842             \n",
              "дисперсия       18719.87571             \n",
              "ср.квадратичное   136.82060             \n",
              "коэф.вариации      10.17497             "
            ],
            "text/html": [
              "<table class=\"dataframe\">\n",
              "<caption>A data.frame: 4 × 4</caption>\n",
              "<thead>\n",
              "\t<tr><th></th><th scope=col>Теоретически</th><th scope=col>Экспериментально</th><th scope=col>Экспериментально для k = 100</th><th scope=col>Теоретически для k = 100</th></tr>\n",
              "\t<tr><th></th><th scope=col>&lt;dbl&gt;</th><th scope=col>&lt;dbl&gt;</th><th scope=col>&lt;dbl&gt;</th><th scope=col>&lt;dbl&gt;</th></tr>\n",
              "</thead>\n",
              "<tbody>\n",
              "\t<tr><th scope=row>мат.ожидание</th><td> 13.4522</td><td> 13.51251</td><td> 1345.220</td><td> 1344.67842</td></tr>\n",
              "\t<tr><th scope=row>дисперсия</th><td>180.9617</td><td>182.64936</td><td>18096.173</td><td>18719.87571</td></tr>\n",
              "\t<tr><th scope=row>ср.квадратичное</th><td> 13.4522</td><td> 13.51478</td><td>  134.522</td><td>  136.82060</td></tr>\n",
              "\t<tr><th scope=row>коэф.вариации</th><td>100.0000</td><td>100.01681</td><td>   10.000</td><td>   10.17497</td></tr>\n",
              "</tbody>\n",
              "</table>\n"
            ],
            "text/markdown": "\nA data.frame: 4 × 4\n\n| <!--/--> | Теоретически &lt;dbl&gt; | Экспериментально &lt;dbl&gt; | Экспериментально для k = 100 &lt;dbl&gt; | Теоретически для k = 100 &lt;dbl&gt; |\n|---|---|---|---|---|\n| мат.ожидание |  13.4522 |  13.51251 |  1345.220 |  1344.67842 |\n| дисперсия | 180.9617 | 182.64936 | 18096.173 | 18719.87571 |\n| ср.квадратичное |  13.4522 |  13.51478 |   134.522 |   136.82060 |\n| коэф.вариации | 100.0000 | 100.01681 |    10.000 |    10.17497 |\n\n",
            "text/latex": "A data.frame: 4 × 4\n\\begin{tabular}{r|llll}\n  & Теоретически & Экспериментально & Экспериментально для k = 100 & Теоретически для k = 100\\\\\n  & <dbl> & <dbl> & <dbl> & <dbl>\\\\\n\\hline\n\tмат.ожидание &  13.4522 &  13.51251 &  1345.220 &  1344.67842\\\\\n\tдисперсия & 180.9617 & 182.64936 & 18096.173 & 18719.87571\\\\\n\tср.квадратичное &  13.4522 &  13.51478 &   134.522 &   136.82060\\\\\n\tкоэф.вариации & 100.0000 & 100.01681 &    10.000 &    10.17497\\\\\n\\end{tabular}\n"
          },
          "metadata": {}
        }
      ]
    },
    {
      "cell_type": "code",
      "source": [
        "# Задание 4 \n",
        "T <- 1\n",
        "n <- 1000\n",
        "sum <- 0\n",
        "lambda <- 3 # берем любой, для эксперимента\n",
        "\n",
        "for (i in c(1:n)){\n",
        "  r<- rpois(1, lambda*T) # случайная величина, распределенная по закону Пуассона\n",
        "  \n",
        "  for (j in c(1:r)) {\n",
        "    r = runif(1)\n",
        "    if (r <= 1) {\n",
        "      sum <- sum+1\n",
        "    }\n",
        "  }\n",
        "}\n",
        "\n",
        "print(sum/n)\n",
        "print(lambda*T)\n",
        "# > print(sum/n)\n",
        "# [1] 3.0835\n",
        "# > print(lambda*T)\n",
        "# [1] 3\n",
        "# числа примерно равны, значит суммарная величина распределена по закону пуассона\n",
        "\n",
        "results4 = data.frame(row.names=c(\"мат.ожидание\"))\n",
        "results4['Теоретически'] = c(lambda*T)\n",
        "results4['Экспериментально'] = c(sum/n)\n",
        "View(results4)"
      ],
      "metadata": {
        "id": "CgfsObnWboHV",
        "colab": {
          "base_uri": "https://localhost:8080/",
          "height": 165
        },
        "outputId": "e9c3f12e-c388-44e6-e170-fbd62835265e"
      },
      "execution_count": 16,
      "outputs": [
        {
          "output_type": "stream",
          "name": "stdout",
          "text": [
            "[1] 3.033\n",
            "[1] 3\n"
          ]
        },
        {
          "output_type": "display_data",
          "data": {
            "text/plain": [
              "             Теоретически Экспериментально\n",
              "мат.ожидание 3            3.033           "
            ],
            "text/html": [
              "<table class=\"dataframe\">\n",
              "<caption>A data.frame: 1 × 2</caption>\n",
              "<thead>\n",
              "\t<tr><th></th><th scope=col>Теоретически</th><th scope=col>Экспериментально</th></tr>\n",
              "\t<tr><th></th><th scope=col>&lt;dbl&gt;</th><th scope=col>&lt;dbl&gt;</th></tr>\n",
              "</thead>\n",
              "<tbody>\n",
              "\t<tr><th scope=row>мат.ожидание</th><td>3</td><td>3.033</td></tr>\n",
              "</tbody>\n",
              "</table>\n"
            ],
            "text/markdown": "\nA data.frame: 1 × 2\n\n| <!--/--> | Теоретически &lt;dbl&gt; | Экспериментально &lt;dbl&gt; |\n|---|---|---|\n| мат.ожидание | 3 | 3.033 |\n\n",
            "text/latex": "A data.frame: 1 × 2\n\\begin{tabular}{r|ll}\n  & Теоретически & Экспериментально\\\\\n  & <dbl> & <dbl>\\\\\n\\hline\n\tмат.ожидание & 3 & 3.033\\\\\n\\end{tabular}\n"
          },
          "metadata": {}
        }
      ]
    },
    {
      "cell_type": "code",
      "source": [
        "# Задание 5"
      ],
      "metadata": {
        "id": "sYoyYJyvwVDH"
      },
      "execution_count": 17,
      "outputs": []
    },
    {
      "cell_type": "markdown",
      "source": [
        "\n",
        "Серверная станция состоит из двух модулей питания. Время безотказной работы каждого из них распределено по показательному закону с одинаковыми параметрами:\n",
        "\\begin{align}\n",
        "𝑓(𝑡)=𝜆𝑒^{−𝜆𝑡} \n",
        "\\end{align}\n",
        "𝑡  - время работы одного модуля до первого отказа. Второй модуль питания включается сразу же после отказа первого. Определить плотность вероятности времени безотказной работы всей системы, а также математическое ожидание и дисперсию времени безотказной работы."
      ],
      "metadata": {
        "id": "bqL16Z63SPW-"
      }
    },
    {
      "cell_type": "markdown",
      "source": [
        "время безотказной работы модуля 1 и 2:\n",
        "\\begin{align}\n",
        "t1, t2 \n",
        "\\end{align}\n",
        "\n",
        "время безотказной работы всей системы:\n",
        "\\begin{align}\n",
        "t = t_1+t_2 \n",
        "\\end{align}\n",
        "\n",
        "Таким образом, необходимо определить, каково распределение вероятности для случайной величины t.\n",
        "\n",
        "\\begin{align}\n",
        "F(t_i<T) = 1 - e^{-λt_i}\n",
        "\\end{align}\n",
        "** Плотность распределения вероятностей **\n",
        "(Свойство 9)\n",
        "\n",
        "\\begin{align}\n",
        "  \\int_{A(t)}^{B(t)} f(t1)*f(t-t1) dt1\n",
        "\\end{align}\n",
        "\n",
        "\\begin{align}\n",
        "  f(t1) = λe^{-λt1}\n",
        "\\end{align}\n",
        "\n",
        "\\begin{align}\n",
        "  f(t2) = λe^{-λ(t-t1)}\n",
        "\\end{align}\n",
        "\n",
        "Пределы интегрирования A и B вычисляются по формулам:\n",
        "\\begin{align}\n",
        "  A(t) = a + \\frac{(t-(a+d) + |t-(a+d)|)}{2}\n",
        "\\end{align}\n",
        "\n",
        "\\begin{align}\n",
        "B(t) =  b + \\frac{(t-(b+c) - |t-(b+c)|)}{2}\n",
        "\\end{align}\n",
        "\n",
        "\\begin{align}\n",
        "  a <= t1 <= b, c <= t2 <= d\n",
        "\\end{align}\n",
        "\n",
        "\\begin{align}\n",
        "  a = c = 0, b = d = inf\n",
        "\\end{align}\n",
        "Выполним преобразование Лапласа над плотностью вероятности:\n",
        "\\begin{align}\n",
        "   B_t(s) = \\int_{0}^{inf} e^{-st}dF(t) = \\int_{0}^{inf} e^{-st}f(t)dt\n",
        "\\end{align}\n",
        "\n",
        "\\begin{align}\n",
        "   B_t(s) = \\int_{0}^{inf} e^{-st}λ^2 e^{(-λt)}t dt\n",
        "\\end{align}\n",
        "\n",
        "\\begin{align}\n",
        "   B_t(s) = \\frac{λ^2}{(λ+s)^2}\n",
        "\\end{align}\n",
        "\n",
        "** Математическое ожидание **\n",
        "\\begin{align}\n",
        "   M = -B'_t(s)|_{s=0}\n",
        "\\end{align}\n",
        "\n",
        "\\begin{align}\n",
        "   M = - \\frac{-2λ^2}{(s+λ)^3} |_{s=0} = - \\frac{-2}{λ} = \\frac{2}{λ}\n",
        "\\end{align}\n",
        "\n",
        "** Дисперсия **\n",
        "\\begin{align}\n",
        "   D = B''_t(s)-(B'_t(s))^2|_{s=0}\n",
        "\\end{align}\n",
        "\n",
        "\\begin{align}\n",
        "   D = \\frac{6}{λ^2} - \\left(\\frac{-2}{λ}\\right)^2 = \\frac{2}{λ^2}\n",
        "\\end{align}"
      ],
      "metadata": {
        "id": "xIu2-WhwSSxY"
      }
    },
    {
      "cell_type": "code",
      "source": [
        "Variant<-16\n",
        "alpha<-runif(100)[77]\n",
        "alpha"
      ],
      "metadata": {
        "colab": {
          "base_uri": "https://localhost:8080/",
          "height": 34
        },
        "id": "jxy7SNmowWx1",
        "outputId": "4a7d508b-dd8d-41dd-dd7d-455dec949c19"
      },
      "execution_count": 18,
      "outputs": [
        {
          "output_type": "display_data",
          "data": {
            "text/html": [
              "0.876852816203609"
            ],
            "text/markdown": "0.876852816203609",
            "text/latex": "0.876852816203609",
            "text/plain": [
              "[1] 0.8768528"
            ]
          },
          "metadata": {}
        }
      ]
    },
    {
      "cell_type": "code",
      "source": [
        "# Теоретический способ\n",
        "M_5<-2/alpha\n",
        "D_5<-2/(alpha)^2"
      ],
      "metadata": {
        "id": "dAJKQn4RwZu4"
      },
      "execution_count": 19,
      "outputs": []
    },
    {
      "cell_type": "code",
      "source": [
        "# Экспериментальный способ\n",
        "library(stats)\n",
        "n<-20000\n",
        "t1<-c()\n",
        "for (i in c(1:n)) {\n",
        "  t<-sum(rexp(2, alpha))\n",
        "  t1<-c(t1, t)\n",
        "}\n",
        "\n",
        "M_exp<-mean(t1)\n",
        "D_exp<-sd(t1)^2"
      ],
      "metadata": {
        "id": "28xINcp9w0tu"
      },
      "execution_count": 20,
      "outputs": []
    },
    {
      "cell_type": "code",
      "source": [
        "way_1<-c(M_5,D_5) # теоретическое\n",
        "way_2<-c(M_exp,D_exp) #экспериментальное\n",
        "\n",
        "new_matrix5<-rbind(way_1,way_2)\n",
        "new_matrix5"
      ],
      "metadata": {
        "colab": {
          "base_uri": "https://localhost:8080/",
          "height": 97
        },
        "id": "lXN3FHLaFD3Q",
        "outputId": "0bf5bd51-50de-4140-bbb6-99fd1b0ff3fc"
      },
      "execution_count": 22,
      "outputs": [
        {
          "output_type": "display_data",
          "data": {
            "text/html": [
              "<table class=\"dataframe\">\n",
              "<caption>A matrix: 2 × 2 of type dbl</caption>\n",
              "<tbody>\n",
              "\t<tr><th scope=row>way_1</th><td>2.280885</td><td>2.601217</td></tr>\n",
              "\t<tr><th scope=row>way_2</th><td>2.304251</td><td>2.660954</td></tr>\n",
              "</tbody>\n",
              "</table>\n"
            ],
            "text/markdown": "\nA matrix: 2 × 2 of type dbl\n\n| way_1 | 2.280885 | 2.601217 |\n| way_2 | 2.304251 | 2.660954 |\n\n",
            "text/latex": "A matrix: 2 × 2 of type dbl\n\\begin{tabular}{r|ll}\n\tway\\_1 & 2.280885 & 2.601217\\\\\n\tway\\_2 & 2.304251 & 2.660954\\\\\n\\end{tabular}\n",
            "text/plain": [
              "      [,1]     [,2]    \n",
              "way_1 2.280885 2.601217\n",
              "way_2 2.304251 2.660954"
            ]
          },
          "metadata": {}
        }
      ]
    },
    {
      "cell_type": "code",
      "source": [
        "# Полученные значения практически не отличаются"
      ],
      "metadata": {
        "id": "HNQO382cFZav"
      },
      "execution_count": null,
      "outputs": []
    }
  ]
}