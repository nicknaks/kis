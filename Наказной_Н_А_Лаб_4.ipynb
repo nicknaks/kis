{
  "nbformat": 4,
  "nbformat_minor": 0,
  "metadata": {
    "colab": {
      "provenance": [],
      "include_colab_link": true
    },
    "kernelspec": {
      "name": "ir",
      "display_name": "R"
    },
    "language_info": {
      "name": "R"
    }
  },
  "cells": [
    {
      "cell_type": "markdown",
      "metadata": {
        "id": "view-in-github",
        "colab_type": "text"
      },
      "source": [
        "<a href=\"https://colab.research.google.com/github/nicknaks/kis/blob/main/%D0%9D%D0%B0%D0%BA%D0%B0%D0%B7%D0%BD%D0%BE%D0%B8%CC%86_%D0%9D_%D0%90_%D0%9B%D0%B0%D0%B1_4.ipynb\" target=\"_parent\"><img src=\"https://colab.research.google.com/assets/colab-badge.svg\" alt=\"Open In Colab\"/></a>"
      ]
    },
    {
      "cell_type": "markdown",
      "source": [
        "#Лабораторная работа 4\n",
        "\n",
        "\n",
        "Вычислительный центр фирмы состоит из $m$ главных серверов коллективного пользования. Число работающих в в центре программистов в любой момент времени равно $k$. Каждый программист готовит свою программу и через терминал передает ее на сервер для выполнения, куда она сразу попадает. Время подготовки программ имеет экспоненциальное распределение со средним значением $t_{1}$ мин. Время выполнения программы на любом из серверов имеет экспоненциальное распределение со средним значением $t_{2}$ мин. Каждый программист ожидает ответа от сервера, прежде, чем начнет писать следующую программу.\n",
        "    \n",
        "   Найти (теоретически и экспериментально):\n",
        "\n",
        "*   вероятность того, что программа не будет выполнена сразу же, как только она поступила на терминал;\n",
        "*   среднее время до получения пользователем результатов реализации;\n",
        "*   среднее количество программ, ожидающих выполнения на сервере.\n",
        "\n",
        "Требуется выполнить расчет при заданном по варианту значении $m$, а также при $m=1$."
      ],
      "metadata": {
        "id": "vgM1jOhBloq7"
      }
    },
    {
      "cell_type": "markdown",
      "source": [
        "Теоретический метод"
      ],
      "metadata": {
        "id": "3_0xQCWumPWy"
      }
    },
    {
      "cell_type": "markdown",
      "source": [
        "Имеем граф состояний системы вычислительного центра с $k+1$ состоянием.\n",
        "\n",
        "$S_0$ - все серверы свободны, очередь пуста\n",
        "\n",
        "$S_i, \\; где \\; 1 \\le i \\le \\ min(m, k)$ - занято $i$ серверов, очередь пуста\n",
        "\n",
        "$S_i, \\; где \\; min(m, k) < i \\le k$ - заняты все $m$ серверов, в очереди $i - m$ программ"
      ],
      "metadata": {
        "id": "zqrPCnV7lth-"
      }
    },
    {
      "cell_type": "markdown",
      "source": [
        "При $k > m:$\n",
        "Вероятность состояния S1\n",
        "\n",
        "$$\n",
        "P_1 = P_0 \\cdot \\frac{k\\cdot \\lambda}{\\mu} = k \\cdot y \\cdot P_0\n",
        "$$"
      ],
      "metadata": {
        "id": "cYLE_cwdmbiZ"
      }
    },
    {
      "cell_type": "markdown",
      "source": [
        "Вероятность состояния S2\n",
        "\n",
        "$$\n",
        "P_2 = P_1 \\cdot \\frac{(k-1)\\cdot \\lambda}{2\\mu} = k \\cdot y \\cdot \\frac{(k-1)\\cdot \\lambda}{2\\mu} \\cdot P_0 = \\frac{(k-1)\\cdot k}{2} \\cdot y^2 \\cdot P_0 = \\frac{k!}{(k-2)! \\cdot 2!} \\cdot y^2 \\cdot P_0\n",
        "$$"
      ],
      "metadata": {
        "id": "qTj6dcimmkE0"
      }
    },
    {
      "cell_type": "markdown",
      "source": [
        "Следовательно\n",
        "\n",
        "$$\n",
        "P_m = \\frac{k!}{(k-m)! \\cdot m!} \\cdot y^m \\cdot P_0\n",
        "$$"
      ],
      "metadata": {
        "id": "thEAJ548mqk3"
      }
    },
    {
      "cell_type": "markdown",
      "source": [
        "Начиная с m-ого состояния, все сервера заняты\n",
        "\n",
        "$$\n",
        "P_{m+1} = \\frac{(k-m) \\cdot \\lambda}{m \\mu} \\cdot P_m = \\frac{(k-m) \\cdot \\lambda}{m \\mu} \\cdot \\frac{k!}{(k-m)! \\cdot m!} \\cdot y^m \\cdot P_0= \\frac{k!}{(k-m - 1)! \\cdot m!} \\cdot \\frac{y^{m+1}}{m^1} \\cdot P_0 \\\\\n",
        "P_{k} = \\frac{k!}{m!} \\cdot \\frac{ y^{k}}{m^{k-m}} \\cdot P_0 \n",
        "$$"
      ],
      "metadata": {
        "id": "xHLbNIBkmykE"
      }
    },
    {
      "cell_type": "markdown",
      "source": [
        "Теперь можем выразить $P_0$:\n",
        "\n",
        "$$\n",
        "P_0 = (1+\\frac{k!}{(k-1)! \\cdot 1!} \\cdot y^1 + \\frac{k!}{(k-2)! \\cdot 2!} \\cdot y^2 + ... + \\frac{k!}{(k-m)! \\cdot m!} \\cdot y^m + \\frac{k!}{(k-m-1)! \\cdot m!} \\cdot \\frac{y^{m+1}}{m} + ... + \\frac{k!}{m!} \\cdot \\frac{ y^{k}}{m^{k-m}})^{-1} = \\\\ = (\\sum_{i=0}^{m}(\\frac{k!}{(k-i)! \\cdot i!} \\cdot y^i) + \\sum_{j=1}^{k-m}(\\frac{k!}{(k-m - j)! \\cdot m!}\\cdot \\frac{y^{m+j}}{m^j}))^{-1}\n",
        "$$"
      ],
      "metadata": {
        "id": "PgFgH9vmm52I"
      }
    },
    {
      "cell_type": "markdown",
      "source": [
        "Вероятность того, что задача не будет выполнена при поступлении на терминал:\n",
        "\n",
        "$$\n",
        "P_{queue} = 1 - \\sum_{i=0}^{m-1}P_i = 1 - \\sum_{i=0}^{m-1}\\frac{k!}{(k-i)! \\cdot i!} \\cdot y^i \\cdot P_0\n",
        "$$"
      ],
      "metadata": {
        "id": "WzUGgxKonBkY"
      }
    },
    {
      "cell_type": "markdown",
      "source": [
        "Средняя длина очереди:\n",
        "\n",
        "$$\n",
        "L_{mid} = \\sum_{i=m+1}^{k}(i-m) \\cdot P_{i} = \\sum_{i=m+1}^{k}(i-m) \\cdot \\frac{k!}{(k-i)! \\cdot m!} \\cdot \\frac{y^i}{m^{i-m}} \\cdot P_0\n",
        "$$"
      ],
      "metadata": {
        "id": "tuqbEeLOnM92"
      }
    },
    {
      "cell_type": "markdown",
      "source": [
        "Среднее время программы в системе:\n",
        "\n",
        "$$\n",
        "T_{sys} = \\frac{L_{task}}{\\mu_{sys}}\n",
        "$$"
      ],
      "metadata": {
        "id": "xlHQ_fOtnW0b"
      }
    },
    {
      "cell_type": "markdown",
      "source": [
        "Абсолютная пропускная способность системы серверов:\n",
        "\n",
        "$$\n",
        "\\mu_{sys} = L_{task-served} \\cdot \\mu\n",
        "$$"
      ],
      "metadata": {
        "id": "INtOcWDbnoKb"
      }
    },
    {
      "cell_type": "markdown",
      "source": [
        "Среднее число задач в системе:\n",
        "\n",
        "$$\n",
        "L_{mid-task-sys} = \\sum_{j=1}^kP_j \\cdot j = \\sum_{j=1}^mP_j \\cdot j + \\sum_{i=m+1}^kP_i \\cdot i = (\\sum_{j=0}^{m}j\\cdot\\frac{k!}{(k-j)! \\cdot j!} \\cdot y^j) \\cdot P_0 +(\\sum_{i=m+1}^{k} i \\cdot \\frac{k!}{(k-i)! \\cdot m!}\\cdot \\frac{y^i}{m^{i-m}}) \\cdot P_0 \n",
        "$$"
      ],
      "metadata": {
        "id": "ou0RfKQBn0AW"
      }
    },
    {
      "cell_type": "markdown",
      "source": [
        "Среднее число занятых каналов или среднее число задач на обслуживании:\n",
        "\n",
        "$$\n",
        "L_{task-served} = \\sum_{j=0}^{m}P_j \\cdot j + m \\cdot \\sum_{j=m+1}^{k}P_j = (\\sum_{j=0}^{m}j\\cdot\\frac{k!}{(k-j)! \\cdot j!}\\cdot y^j) \\cdot P_0 + m \\cdot (\\sum_{j=m+1}^{k} \\frac{k!}{(k-j)! \\cdot m!} \\frac{y^j}{m^{j-m}})\\cdot  P_0\n",
        "$$"
      ],
      "metadata": {
        "id": "Cs6Q2V0LoDxr"
      }
    },
    {
      "cell_type": "markdown",
      "source": [
        "Практический метод"
      ],
      "metadata": {
        "id": "_Xbhj8dNma8l"
      }
    },
    {
      "cell_type": "code",
      "execution_count": null,
      "metadata": {
        "colab": {
          "base_uri": "https://localhost:8080/",
          "height": 147
        },
        "id": "fMaD0Q4pkM5W",
        "outputId": "7d5409c9-96df-4eb7-91e1-ed55e23dd39f"
      },
      "outputs": [
        {
          "output_type": "display_data",
          "data": {
            "text/plain": [
              "  k  m t1 t2\n",
              "1 10 5 16 2 "
            ],
            "text/html": [
              "<table class=\"dataframe\">\n",
              "<caption>A data.frame: 1 × 4</caption>\n",
              "<thead>\n",
              "\t<tr><th scope=col>k</th><th scope=col>m</th><th scope=col>t1</th><th scope=col>t2</th></tr>\n",
              "\t<tr><th scope=col>&lt;int&gt;</th><th scope=col>&lt;int&gt;</th><th scope=col>&lt;int&gt;</th><th scope=col>&lt;int&gt;</th></tr>\n",
              "</thead>\n",
              "<tbody>\n",
              "\t<tr><td>10</td><td>5</td><td>16</td><td>2</td></tr>\n",
              "</tbody>\n",
              "</table>\n"
            ],
            "text/markdown": "\nA data.frame: 1 × 4\n\n| k &lt;int&gt; | m &lt;int&gt; | t1 &lt;int&gt; | t2 &lt;int&gt; |\n|---|---|---|---|\n| 10 | 5 | 16 | 2 |\n\n",
            "text/latex": "A data.frame: 1 × 4\n\\begin{tabular}{llll}\n k & m & t1 & t2\\\\\n <int> & <int> & <int> & <int>\\\\\n\\hline\n\t 10 & 5 & 16 & 2\\\\\n\\end{tabular}\n"
          },
          "metadata": {}
        },
        {
          "output_type": "display_data",
          "data": {
            "text/html": [
              "0.307926808235252"
            ],
            "text/markdown": "0.307926808235252",
            "text/latex": "0.307926808235252",
            "text/plain": [
              "[1] 0.3079268"
            ]
          },
          "metadata": {}
        }
      ],
      "source": [
        "Variant<-16\n",
        "set.seed(Variant) \n",
        "k<-sample(c(10:25),1)\n",
        "m<-sample(c(3:6),1)\n",
        "t1<-sample(c(14:20),1)\n",
        "t2<-sample(c(2:5),1)\n",
        "View(data.frame(k,m,t1,t2))\n",
        "\n",
        "mu <- 1/t2\n",
        "a <- 1/t1\n",
        "\n",
        "P_task_gen <- function(j, m, k) {\n",
        "  if (j <= m) {\n",
        "    return(choose(k,j) * a^j / mu^j);\n",
        "  } \n",
        "  return(choose(k,j) * factorial(j) / factorial(m) * a^(j) / mu^(j) / m ^(j-m))\n",
        "}\n",
        "\n",
        "P0 <- 0\n",
        "for (j in c(0:k)) {\n",
        "  P0 <- P0 + P_task_gen(j, m, k)\n",
        "}\n",
        "\n",
        "P0 <- 1 / P0\n",
        "P0"
      ]
    },
    {
      "cell_type": "code",
      "source": [
        "# Вероятность, что задача не будет выполнена в срок\n",
        "P_sys <- 0\n",
        "for (j in c(0:m-1)) {\n",
        "  P_sys <- P_sys + P_task_gen(j, m, k)\n",
        "}\n",
        "\n",
        "P_sys <- 1 - (P_sys * P0) \n",
        "\n",
        "P_sys"
      ],
      "metadata": {
        "id": "hlOz51j0mvoy",
        "colab": {
          "base_uri": "https://localhost:8080/",
          "height": 34
        },
        "outputId": "2a9c79a4-f460-43b3-ea67-70387ecd2631"
      },
      "execution_count": null,
      "outputs": [
        {
          "output_type": "display_data",
          "data": {
            "text/html": [
              "0.00269603563260301"
            ],
            "text/markdown": "0.00269603563260301",
            "text/latex": "0.00269603563260301",
            "text/plain": [
              "[1] 0.002696036"
            ]
          },
          "metadata": {}
        }
      ]
    },
    {
      "cell_type": "code",
      "source": [
        "# Сред. длина очереди\n",
        "mid_queue <- 0\n",
        "for (j in c((m+1):k)) {\n",
        "  mid_queue <- mid_queue + (j-m) * P_task_gen(j, m, k)\n",
        "}\n",
        "mid_queue <- mid_queue * P0\n",
        "\n",
        "mid_queue"
      ],
      "metadata": {
        "id": "fFtkLcnUm3i1",
        "colab": {
          "base_uri": "https://localhost:8080/",
          "height": 34
        },
        "outputId": "4dd4ff69-39bd-4481-8134-88889b793c0a"
      },
      "execution_count": null,
      "outputs": [
        {
          "output_type": "display_data",
          "data": {
            "text/html": [
              "0.000362331564071539"
            ],
            "text/markdown": "0.000362331564071539",
            "text/latex": "0.000362331564071539",
            "text/plain": [
              "[1] 0.0003623316"
            ]
          },
          "metadata": {}
        }
      ]
    },
    {
      "cell_type": "code",
      "source": [
        "# Число задач в сис\n",
        "count_task <- 0\n",
        "for (j in c(0:k)) {\n",
        "  count_task <- count_task + j * P_task_gen(j, m, k)\n",
        "}\n",
        "count_task <- count_task * P0\n",
        "count_task"
      ],
      "metadata": {
        "colab": {
          "base_uri": "https://localhost:8080/",
          "height": 34
        },
        "id": "gHx9J6pzd6Rp",
        "outputId": "4cc53218-7841-4c9d-8c2a-e576360fbb55"
      },
      "execution_count": null,
      "outputs": [
        {
          "output_type": "display_data",
          "data": {
            "text/html": [
              "1.11143318361251"
            ],
            "text/markdown": "1.11143318361251",
            "text/latex": "1.11143318361251",
            "text/plain": [
              "[1] 1.111433"
            ]
          },
          "metadata": {}
        }
      ]
    },
    {
      "cell_type": "code",
      "source": [
        "# Число задач, обслуживающихся в системе\n",
        "count_task_served <- 0\n",
        "for (j in c(0:m)) {\n",
        "  count_task_served <- count_task_served + j * P_task_gen(j, m, k)\n",
        "}\n",
        "for (j in c((m+1):k)) {\n",
        "  count_task_served <- count_task_served + m * P_task_gen(j, m, k)\n",
        "}\n",
        "count_task_served <- count_task_served * P0\n",
        "count_task_served"
      ],
      "metadata": {
        "colab": {
          "base_uri": "https://localhost:8080/",
          "height": 34
        },
        "id": "-NUea2uEeKF5",
        "outputId": "42199479-bfd2-42e3-846c-53fd0298009e"
      },
      "execution_count": null,
      "outputs": [
        {
          "output_type": "display_data",
          "data": {
            "text/html": [
              "1.11107085204844"
            ],
            "text/markdown": "1.11107085204844",
            "text/latex": "1.11107085204844",
            "text/plain": [
              "[1] 1.111071"
            ]
          },
          "metadata": {}
        }
      ]
    },
    {
      "cell_type": "code",
      "source": [
        "# Абсолютная пропускная способность системы серверов\n",
        "throughput <- count_task_served * mu\n",
        "throughput"
      ],
      "metadata": {
        "colab": {
          "base_uri": "https://localhost:8080/",
          "height": 34
        },
        "id": "yRta_aBAfXTV",
        "outputId": "45ab8695-6767-492f-bf05-bbce90371ec4"
      },
      "execution_count": null,
      "outputs": [
        {
          "output_type": "display_data",
          "data": {
            "text/html": [
              "0.555535426024218"
            ],
            "text/markdown": "0.555535426024218",
            "text/latex": "0.555535426024218",
            "text/plain": [
              "[1] 0.5555354"
            ]
          },
          "metadata": {}
        }
      ]
    },
    {
      "cell_type": "code",
      "source": [
        "# Среднее время программы в сис\n",
        "mid_t <- count_task/throughput\n",
        "mid_t\n"
      ],
      "metadata": {
        "colab": {
          "base_uri": "https://localhost:8080/",
          "height": 34
        },
        "id": "yyJIawk5f2dE",
        "outputId": "af4153ee-5819-4dd5-f7a6-71e80dc88527"
      },
      "execution_count": null,
      "outputs": [
        {
          "output_type": "display_data",
          "data": {
            "text/html": [
              "2.00065222044733"
            ],
            "text/markdown": "2.00065222044733",
            "text/latex": "2.00065222044733",
            "text/plain": [
              "[1] 2.000652"
            ]
          },
          "metadata": {}
        }
      ]
    },
    {
      "cell_type": "code",
      "source": [
        "# При m=1\n",
        "m <- 1\n",
        "P0 <- 0\n",
        "for (j in c(0:k)) {\n",
        "  P0 <- P0 + P_task_gen(j, m, k)\n",
        "}\n",
        "\n",
        "P0 <- 1 / P0\n",
        "P0"
      ],
      "metadata": {
        "colab": {
          "base_uri": "https://localhost:8080/",
          "height": 34
        },
        "id": "IjqDlyJ-f-ES",
        "outputId": "a78b0487-3125-480f-d039-7409da56d265"
      },
      "execution_count": null,
      "outputs": [
        {
          "output_type": "display_data",
          "data": {
            "text/html": [
              "0.121661064252952"
            ],
            "text/markdown": "0.121661064252952",
            "text/latex": "0.121661064252952",
            "text/plain": [
              "[1] 0.1216611"
            ]
          },
          "metadata": {}
        }
      ]
    },
    {
      "cell_type": "code",
      "source": [
        "# Вероятность того, что задача не будет выполнена при поступлении на терминал\n",
        "P_sys <- 0 \n",
        "for (j in c(0:m-1)) {\n",
        "  P_sys <- P_sys + P_task_gen(j, m, k)\n",
        "}\n",
        "\n",
        "P_sys <- 1 - (P_sys * P0) \n",
        "\n",
        "P_sys"
      ],
      "metadata": {
        "colab": {
          "base_uri": "https://localhost:8080/",
          "height": 34
        },
        "id": "piI6PiqqhEh2",
        "outputId": "b435281a-c723-4bfc-b666-902132eda7d7"
      },
      "execution_count": null,
      "outputs": [
        {
          "output_type": "display_data",
          "data": {
            "text/html": [
              "0.878338935747048"
            ],
            "text/markdown": "0.878338935747048",
            "text/latex": "0.878338935747048",
            "text/plain": [
              "[1] 0.8783389"
            ]
          },
          "metadata": {}
        }
      ]
    },
    {
      "cell_type": "code",
      "source": [
        "# Ср. длина очереди\n",
        "mid_queue <- 0\n",
        "for (j in c((m+1):k)) {\n",
        "  mid_queue <- mid_queue + (j-m) * P_task_gen(j, m, k)\n",
        "}\n",
        "mid_queue <- mid_queue * P0\n",
        "\n",
        "mid_queue"
      ],
      "metadata": {
        "colab": {
          "base_uri": "https://localhost:8080/",
          "height": 34
        },
        "id": "TIMlVJdtiHIC",
        "outputId": "7568f1e5-f150-4b45-e516-0c3ad39dd530"
      },
      "execution_count": null,
      "outputs": [
        {
          "output_type": "display_data",
          "data": {
            "text/html": [
              "2.09494957827656"
            ],
            "text/markdown": "2.09494957827656",
            "text/latex": "2.09494957827656",
            "text/plain": [
              "[1] 2.09495"
            ]
          },
          "metadata": {}
        }
      ]
    },
    {
      "cell_type": "code",
      "source": [
        "# Число задач в сис.\n",
        "count_task <- 0\n",
        "for (j in c(0:k)) {\n",
        "  count_task <- count_task + j * P_task_gen(j, m, k)\n",
        "}\n",
        "count_task <- count_task * P0\n",
        "count_task"
      ],
      "metadata": {
        "colab": {
          "base_uri": "https://localhost:8080/",
          "height": 34
        },
        "id": "KfOT4GR8iYoP",
        "outputId": "3336d826-3324-4b6e-bc52-aa62948d76b0"
      },
      "execution_count": null,
      "outputs": [
        {
          "output_type": "display_data",
          "data": {
            "text/html": [
              "2.97328851402361"
            ],
            "text/markdown": "2.97328851402361",
            "text/latex": "2.97328851402361",
            "text/plain": [
              "[1] 2.973289"
            ]
          },
          "metadata": {}
        }
      ]
    },
    {
      "cell_type": "code",
      "source": [
        "# Число задач, обслуживающихся в сис.\n",
        "count_task_served <- 0 \n",
        "for (j in c(0:m)) {\n",
        "  count_task_served <- count_task_served + j * P_task_gen(j, m, k)\n",
        "}\n",
        "for (j in c((m+1):k)) {\n",
        "  count_task_served <- count_task_served + m * P_task_gen(j, m, k)\n",
        "}\n",
        "count_task_served <- count_task_served * P0\n",
        "count_task_served"
      ],
      "metadata": {
        "colab": {
          "base_uri": "https://localhost:8080/",
          "height": 34
        },
        "id": "5vU9yuAKicW5",
        "outputId": "81d367e3-5a09-44c5-df9b-c4fad26aa7f4"
      },
      "execution_count": null,
      "outputs": [
        {
          "output_type": "display_data",
          "data": {
            "text/html": [
              "0.878338935747048"
            ],
            "text/markdown": "0.878338935747048",
            "text/latex": "0.878338935747048",
            "text/plain": [
              "[1] 0.8783389"
            ]
          },
          "metadata": {}
        }
      ]
    },
    {
      "cell_type": "code",
      "source": [
        "# Абсолютная пропускная способность системы серверов\n",
        "throughput <- count_task_served * mu\n",
        "throughput"
      ],
      "metadata": {
        "colab": {
          "base_uri": "https://localhost:8080/",
          "height": 34
        },
        "id": "9I5zp58OjL1s",
        "outputId": "7a31acd4-ac39-4066-f850-2c3231162178"
      },
      "execution_count": null,
      "outputs": [
        {
          "output_type": "display_data",
          "data": {
            "text/html": [
              "0.439169467873524"
            ],
            "text/markdown": "0.439169467873524",
            "text/latex": "0.439169467873524",
            "text/plain": [
              "[1] 0.4391695"
            ]
          },
          "metadata": {}
        }
      ]
    },
    {
      "cell_type": "code",
      "source": [
        "# Среднее время программы в сис\n",
        "mid_t <- count_task/throughput\n",
        "mid_t"
      ],
      "metadata": {
        "colab": {
          "base_uri": "https://localhost:8080/",
          "height": 34
        },
        "id": "3prjdhcpjdvR",
        "outputId": "fbeee84d-408e-4fab-e57c-849a02256c8f"
      },
      "execution_count": null,
      "outputs": [
        {
          "output_type": "display_data",
          "data": {
            "text/html": [
              "6.77025324283218"
            ],
            "text/markdown": "6.77025324283218",
            "text/latex": "6.77025324283218",
            "text/plain": [
              "[1] 6.770253"
            ]
          },
          "metadata": {}
        }
      ]
    },
    {
      "cell_type": "code",
      "source": [
        "# Экпериментальный метод\n",
        "N = 20000\n",
        "m = 5\n",
        "a = 1/t1\n",
        "mu =1/t2\n",
        "\n",
        "all_servers_times <- c() \n",
        "tasks_passed_queue <- 0  \n",
        "queue_lenght <- c() \n",
        "exit_queue_time <- c()\n",
        "entry_queue_time <- c()\n",
        "processing_server_times <- rep(0, m)  \n",
        "task_creation_times <- sort(rexp(k, a))"
      ],
      "metadata": {
        "id": "oQNsgi4Cjl_8"
      },
      "execution_count": null,
      "outputs": []
    },
    {
      "cell_type": "code",
      "source": [
        "# Учтем, что задача должна ждать, пока предыдущая не будет выполнена\n",
        "for (i in 1:N) {\n",
        "  task_time <- task_creation_times[1]\n",
        "  processing_time <- rexp(1, mu)\n",
        "  if (task_time > processing_server_times[1]) {\n",
        "    processing_server_times[1] <- task_time + processing_time\n",
        "    all_servers_times <- c(all_servers_times, processing_time)\n",
        "  } \n",
        "  else {                                        \n",
        "    processing_server_times[1] <- processing_server_times[1] + processing_time\n",
        "    tasks_passed_queue <- tasks_passed_queue + 1\n",
        "    all_servers_times <- c(all_servers_times, processing_server_times[1] - task_time)\n",
        "    exit_queue_time <- c(exit_queue_time, processing_server_times[1] - processing_time)\n",
        "    entry_queue_time <- c(entry_queue_time, task_time)\n",
        "  }\n",
        "  task_creation_times[1] <- processing_server_times[1] + rexp(1, a)\n",
        "  processing_server_times <- sort(processing_server_times)\n",
        "  task_creation_times <- sort(task_creation_times)\n",
        "}\n"
      ],
      "metadata": {
        "id": "-fo7iqenj8hJ"
      },
      "execution_count": null,
      "outputs": []
    },
    {
      "cell_type": "code",
      "source": [
        "# Длина очереди\n",
        "max <- max(exit_queue_time)\n",
        "for(i in seq(0, max, 0.5)) {   \n",
        "  num <- exit_queue_time[entry_queue_time < i]\n",
        "  queue_lenght <- c(queue_lenght, length(num[num > i]))\n",
        "}"
      ],
      "metadata": {
        "id": "Ag4lx8zlkGbV"
      },
      "execution_count": null,
      "outputs": []
    },
    {
      "cell_type": "code",
      "source": [
        "# Результаты\n",
        "print(\"Вероятность того, что задача не будет выполнена при поступлении на терминал:\")\n",
        "P_sys_with_q <- tasks_passed_queue / N\n",
        "P_sys_with_q\n",
        "print(\"Время задач в системе\")\n",
        "Tsyst <- mean(all_servers_times)\n",
        "Tsyst\n",
        "print(\"Средняя длина очереди\")\n",
        "sred_queue <- mean(queue_lenght)\n",
        "sred_queue"
      ],
      "metadata": {
        "colab": {
          "base_uri": "https://localhost:8080/",
          "height": 123
        },
        "id": "tWsA20TCkQ3X",
        "outputId": "757b8eb9-3fb6-45f2-c727-cc5cf62d9ff4"
      },
      "execution_count": null,
      "outputs": [
        {
          "output_type": "stream",
          "name": "stdout",
          "text": [
            "[1] \"Вероятность того, что задача не будет выполнена при поступлении на терминал:\"\n"
          ]
        },
        {
          "output_type": "display_data",
          "data": {
            "text/html": [
              "0.00125"
            ],
            "text/markdown": "0.00125",
            "text/latex": "0.00125",
            "text/plain": [
              "[1] 0.00125"
            ]
          },
          "metadata": {}
        },
        {
          "output_type": "stream",
          "name": "stdout",
          "text": [
            "[1] \"Время задач в системе\"\n"
          ]
        },
        {
          "output_type": "display_data",
          "data": {
            "text/html": [
              "1.99723694593203"
            ],
            "text/markdown": "1.99723694593203",
            "text/latex": "1.99723694593203",
            "text/plain": [
              "[1] 1.997237"
            ]
          },
          "metadata": {}
        },
        {
          "output_type": "stream",
          "name": "stdout",
          "text": [
            "[1] \"Средняя длина очереди\"\n"
          ]
        },
        {
          "output_type": "display_data",
          "data": {
            "text/html": [
              "0.000380501416310827"
            ],
            "text/markdown": "0.000380501416310827",
            "text/latex": "0.000380501416310827",
            "text/plain": [
              "[1] 0.0003805014"
            ]
          },
          "metadata": {}
        }
      ]
    },
    {
      "cell_type": "code",
      "source": [
        "# При m=1\n",
        "m = 1\n",
        "\n",
        "all_servers_times <- c() \n",
        "tasks_passed_queue <- 0  \n",
        "queue_lenght <- c() \n",
        "exit_queue_time <- c()\n",
        "entry_queue_time <- c()\n",
        "processing_server_times <- rep(0, m)  \n",
        "task_creation_times <- sort(rexp(k, a))  "
      ],
      "metadata": {
        "id": "bQuE1LhNkY4d"
      },
      "execution_count": null,
      "outputs": []
    },
    {
      "cell_type": "code",
      "source": [
        "for (i in 1:N) {\n",
        "  task_time <- task_creation_times[1]\n",
        "  processing_time <- rexp(1, mu)\n",
        "  if (task_time > processing_server_times[1]) { \n",
        "    processing_server_times[1] <- task_time + processing_time\n",
        "    all_servers_times <- c(all_servers_times, processing_time)\n",
        "  } \n",
        "  else {                                      \n",
        "    processing_server_times[1] <- processing_server_times[1] + processing_time\n",
        "    tasks_passed_queue <- tasks_passed_queue + 1\n",
        "    all_servers_times <- c(all_servers_times, processing_server_times[1] - task_time)\n",
        "    exit_queue_time <- c(exit_queue_time, processing_server_times[1] - processing_time)\n",
        "    entry_queue_time <- c(entry_queue_time, task_time)\n",
        "  }\n",
        "  task_creation_times[1] <- processing_server_times[1] + rexp(1, a)\n",
        "  processing_server_times <- sort(processing_server_times)\n",
        "  task_creation_times <- sort(task_creation_times)\n",
        "}\n"
      ],
      "metadata": {
        "id": "_UpiANbxklwP"
      },
      "execution_count": null,
      "outputs": []
    },
    {
      "cell_type": "code",
      "source": [
        "max <- max(exit_queue_time)\n",
        "for(i in seq(0, max, 0.5)) { \n",
        "  num <- exit_queue_time[entry_queue_time < i]\n",
        "  queue_lenght <- c(queue_lenght, length(num[num > i]))\n",
        "}"
      ],
      "metadata": {
        "id": "IxM0T6VlkntH"
      },
      "execution_count": null,
      "outputs": []
    },
    {
      "cell_type": "code",
      "source": [
        "print(\"При m=1\")\n",
        "print(\"Вероятность того, что задача не будет выполнена при поступлении на терминал:\")\n",
        "P_sys_with_q <- tasks_passed_queue / N\n",
        "P_sys_with_q\n",
        "print(\"Время задач в системе\")\n",
        "Tsyst <- mean(all_servers_times)\n",
        "Tsyst\n",
        "print(\"Средняя длина очереди\")\n",
        "sred_queue <- mean(queue_lenght)\n",
        "sred_queue"
      ],
      "metadata": {
        "colab": {
          "base_uri": "https://localhost:8080/",
          "height": 141
        },
        "id": "I9nq1M2kkv01",
        "outputId": "544e1f90-a383-402e-c641-bb3bb18d97f8"
      },
      "execution_count": null,
      "outputs": [
        {
          "output_type": "stream",
          "name": "stdout",
          "text": [
            "[1] \"При m=1\"\n",
            "[1] \"Вероятность того, что задача не будет выполнена при поступлении на терминал:\"\n"
          ]
        },
        {
          "output_type": "display_data",
          "data": {
            "text/html": [
              "0.8313"
            ],
            "text/markdown": "0.8313",
            "text/latex": "0.8313",
            "text/plain": [
              "[1] 0.8313"
            ]
          },
          "metadata": {}
        },
        {
          "output_type": "stream",
          "name": "stdout",
          "text": [
            "[1] \"Время задач в системе\"\n"
          ]
        },
        {
          "output_type": "display_data",
          "data": {
            "text/html": [
              "6.83271525715145"
            ],
            "text/markdown": "6.83271525715145",
            "text/latex": "6.83271525715145",
            "text/plain": [
              "[1] 6.832715"
            ]
          },
          "metadata": {}
        },
        {
          "output_type": "stream",
          "name": "stdout",
          "text": [
            "[1] \"Средняя длина очереди\"\n"
          ]
        },
        {
          "output_type": "display_data",
          "data": {
            "text/html": [
              "2.08978584091972"
            ],
            "text/markdown": "2.08978584091972",
            "text/latex": "2.08978584091972",
            "text/plain": [
              "[1] 2.089786"
            ]
          },
          "metadata": {}
        }
      ]
    }
  ]
}