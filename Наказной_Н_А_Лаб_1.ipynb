{
  "nbformat": 4,
  "nbformat_minor": 0,
  "metadata": {
    "colab": {
      "provenance": [],
      "include_colab_link": true
    },
    "kernelspec": {
      "name": "ir",
      "display_name": "R"
    },
    "language_info": {
      "name": "R"
    }
  },
  "cells": [
    {
      "cell_type": "markdown",
      "metadata": {
        "id": "view-in-github",
        "colab_type": "text"
      },
      "source": [
        "<a href=\"https://colab.research.google.com/github/nicknaks/kis/blob/main/%D0%9D%D0%B0%D0%BA%D0%B0%D0%B7%D0%BD%D0%BE%D0%B8%CC%86_%D0%9D_%D0%90_%D0%98%D0%A35_83%D0%91_%D0%9B%D0%B0%D0%B1_1.ipynb\" target=\"_parent\"><img src=\"https://colab.research.google.com/assets/colab-badge.svg\" alt=\"Open In Colab\"/></a>"
      ]
    },
    {
      "cell_type": "markdown",
      "metadata": {
        "tags": [],
        "id": "600fdd04-6c08-4254-966e-05c271ac0a39"
      },
      "source": [
        "# Лабораторная работа 1. Формализация постановок задач исследования КИС"
      ]
    },
    {
      "cell_type": "markdown",
      "source": [
        "Наказной Никита, ИУ5-83Б, Вариант 16"
      ],
      "metadata": {
        "id": "knLvgWi0coBR"
      }
    },
    {
      "cell_type": "markdown",
      "metadata": {
        "id": "45355d10-4830-4977-82e3-fea79979b152"
      },
      "source": [
        "## Ход лабораторной работы"
      ]
    },
    {
      "cell_type": "markdown",
      "metadata": {
        "id": "d82d6898-8898-4355-87cd-430e5e96f95b"
      },
      "source": [
        "Используем data.frame Computers:"
      ]
    },
    {
      "cell_type": "code",
      "execution_count": 20,
      "metadata": {
        "id": "7474b7ee-b71f-452a-8945-c9d061fe1633",
        "outputId": "5ba2fbfa-ba15-4ef3-b121-93c344496cf5",
        "colab": {
          "base_uri": "https://localhost:8080/",
          "height": 1000
        }
      },
      "outputs": [
        {
          "output_type": "display_data",
          "data": {
            "text/plain": [
              "     X    price speed hd   ram screen cd  multi premium ads trend\n",
              "1     1   1499  25     80   4  14     no  no    yes     94  1    \n",
              "2     2   1795  33     85   2  14     no  no    yes     94  1    \n",
              "3     3   1595  25    170   4  15     no  no    yes     94  1    \n",
              "4     4   1849  25    170   8  14     no  no    no      94  1    \n",
              "5     5   3295  33    340  16  14     no  no    yes     94  1    \n",
              "6     6   3695  66    340  16  14     no  no    yes     94  1    \n",
              "7     7   1720  25    170   4  14     yes no    yes     94  1    \n",
              "8     8   1995  50     85   2  14     no  no    yes     94  1    \n",
              "9     9   2225  50    210   8  14     no  no    yes     94  1    \n",
              "10   10   2575  50    210   4  15     no  no    yes     94  1    \n",
              "11   11   2195  33    170   8  15     no  no    yes     94  1    \n",
              "12   12   2605  66    210   8  14     no  no    yes     94  1    \n",
              "13   13   2045  50    130   4  14     no  no    yes     94  1    \n",
              "14   14   2295  25    245   8  14     no  no    yes     94  1    \n",
              "15   15   2699  50    212   8  14     no  no    yes     94  1    \n",
              "16   16   2225  50    130   4  14     no  no    yes     94  1    \n",
              "17   17   1595  33     85   2  14     no  no    yes     94  1    \n",
              "18   18   2325  33    210   4  15     no  no    yes     94  1    \n",
              "19   19   2095  33    250   4  15     no  no    yes     94  1    \n",
              "20   20   4395  66    452   8  14     no  no    yes     94  1    \n",
              "21   21   1695  33    130   4  14     no  no    yes     94  1    \n",
              "22   22   2795  66    130   4  14     no  no    yes     94  1    \n",
              "23   23   2895  25    340  16  14     no  no    yes     94  1    \n",
              "24   24   2875  50    210   4  17     no  no    yes     94  1    \n",
              "25   25   4195  50    452   8  14     no  no    yes     94  1    \n",
              "26   26   1290  33     80   2  14     no  no    yes     94  1    \n",
              "27   27   1975  33    130   4  14     no  no    yes     94  1    \n",
              "28   28   3995  33    452   8  14     no  no    yes     94  1    \n",
              "29   29   3095  33    340  16  14     no  no    yes     94  1    \n",
              "30   30   3244  66    245   8  14     no  no    yes     94  1    \n",
              "⋮    ⋮    ⋮     ⋮     ⋮    ⋮   ⋮      ⋮   ⋮     ⋮       ⋮   ⋮    \n",
              "6230 6230 2344   66    850 16  15     yes no    yes     39  35   \n",
              "6231 6231 2890  100   1200 24  17     yes no    yes     39  35   \n",
              "6232 6232 2390   66    850 16  17     yes no    yes     39  35   \n",
              "6233 6233 1495   66    528  8  14     no  no    yes     39  35   \n",
              "6234 6234 1844  100    528  8  14     no  no    yes     39  35   \n",
              "6235 6235 1699   66    630  8  15     no  no    no      39  35   \n",
              "6236 6236 3290   75   1600 32  17     yes no    yes     39  35   \n",
              "6237 6237 2790   66   1200 24  17     yes no    yes     39  35   \n",
              "6238 6238 2845  100   1600 24  15     yes no    yes     39  35   \n",
              "6239 6239 1744   66    528  8  14     no  no    yes     39  35   \n",
              "6240 6240 3095  100   1600 32  15     yes no    yes     39  35   \n",
              "6241 6241 1595  100    528  8  14     no  no    yes     39  35   \n",
              "6242 6242 2254  100    850 16  15     yes no    yes     39  35   \n",
              "6243 6243 2723  100   1200 24  15     yes yes   yes     39  35   \n",
              "6244 6244 2745   66   1600 24  15     yes no    yes     39  35   \n",
              "6245 6245 3054   75   1600 32  15     yes no    yes     39  35   \n",
              "6246 6246 2744   66   1200 24  15     yes no    yes     39  35   \n",
              "6247 6247 1554   66    528  8  14     no  no    yes     39  35   \n",
              "6248 6248 1654  100    528  8  14     no  no    yes     39  35   \n",
              "6249 6249 2623   66   1200 24  15     yes yes   yes     39  35   \n",
              "6250 6250 2095   66    850 16  15     yes no    yes     39  35   \n",
              "6251 6251 2495   66   1200 24  15     yes no    yes     39  35   \n",
              "6252 6252 2995   66   1600 32  15     yes no    yes     39  35   \n",
              "6253 6253 1690   66   1200  8  14     no  no    yes     39  35   \n",
              "6254 6254 2154   66    850 16  15     yes no    yes     39  35   \n",
              "6255 6255 1690  100    528  8  15     no  no    yes     39  35   \n",
              "6256 6256 2223   66    850 16  15     yes yes   yes     39  35   \n",
              "6257 6257 2654  100   1200 24  15     yes no    yes     39  35   \n",
              "6258 6258 2195  100    850 16  15     yes no    yes     39  35   \n",
              "6259 6259 2490  100    850 16  17     yes no    yes     39  35   "
            ],
            "text/html": [
              "<table class=\"dataframe\">\n",
              "<caption>A data.frame: 6259 × 11</caption>\n",
              "<thead>\n",
              "\t<tr><th scope=col>X</th><th scope=col>price</th><th scope=col>speed</th><th scope=col>hd</th><th scope=col>ram</th><th scope=col>screen</th><th scope=col>cd</th><th scope=col>multi</th><th scope=col>premium</th><th scope=col>ads</th><th scope=col>trend</th></tr>\n",
              "\t<tr><th scope=col>&lt;int&gt;</th><th scope=col>&lt;int&gt;</th><th scope=col>&lt;int&gt;</th><th scope=col>&lt;int&gt;</th><th scope=col>&lt;int&gt;</th><th scope=col>&lt;int&gt;</th><th scope=col>&lt;chr&gt;</th><th scope=col>&lt;chr&gt;</th><th scope=col>&lt;chr&gt;</th><th scope=col>&lt;int&gt;</th><th scope=col>&lt;int&gt;</th></tr>\n",
              "</thead>\n",
              "<tbody>\n",
              "\t<tr><td> 1</td><td>1499</td><td>25</td><td> 80</td><td> 4</td><td>14</td><td>no </td><td>no</td><td>yes</td><td>94</td><td>1</td></tr>\n",
              "\t<tr><td> 2</td><td>1795</td><td>33</td><td> 85</td><td> 2</td><td>14</td><td>no </td><td>no</td><td>yes</td><td>94</td><td>1</td></tr>\n",
              "\t<tr><td> 3</td><td>1595</td><td>25</td><td>170</td><td> 4</td><td>15</td><td>no </td><td>no</td><td>yes</td><td>94</td><td>1</td></tr>\n",
              "\t<tr><td> 4</td><td>1849</td><td>25</td><td>170</td><td> 8</td><td>14</td><td>no </td><td>no</td><td>no </td><td>94</td><td>1</td></tr>\n",
              "\t<tr><td> 5</td><td>3295</td><td>33</td><td>340</td><td>16</td><td>14</td><td>no </td><td>no</td><td>yes</td><td>94</td><td>1</td></tr>\n",
              "\t<tr><td> 6</td><td>3695</td><td>66</td><td>340</td><td>16</td><td>14</td><td>no </td><td>no</td><td>yes</td><td>94</td><td>1</td></tr>\n",
              "\t<tr><td> 7</td><td>1720</td><td>25</td><td>170</td><td> 4</td><td>14</td><td>yes</td><td>no</td><td>yes</td><td>94</td><td>1</td></tr>\n",
              "\t<tr><td> 8</td><td>1995</td><td>50</td><td> 85</td><td> 2</td><td>14</td><td>no </td><td>no</td><td>yes</td><td>94</td><td>1</td></tr>\n",
              "\t<tr><td> 9</td><td>2225</td><td>50</td><td>210</td><td> 8</td><td>14</td><td>no </td><td>no</td><td>yes</td><td>94</td><td>1</td></tr>\n",
              "\t<tr><td>10</td><td>2575</td><td>50</td><td>210</td><td> 4</td><td>15</td><td>no </td><td>no</td><td>yes</td><td>94</td><td>1</td></tr>\n",
              "\t<tr><td>11</td><td>2195</td><td>33</td><td>170</td><td> 8</td><td>15</td><td>no </td><td>no</td><td>yes</td><td>94</td><td>1</td></tr>\n",
              "\t<tr><td>12</td><td>2605</td><td>66</td><td>210</td><td> 8</td><td>14</td><td>no </td><td>no</td><td>yes</td><td>94</td><td>1</td></tr>\n",
              "\t<tr><td>13</td><td>2045</td><td>50</td><td>130</td><td> 4</td><td>14</td><td>no </td><td>no</td><td>yes</td><td>94</td><td>1</td></tr>\n",
              "\t<tr><td>14</td><td>2295</td><td>25</td><td>245</td><td> 8</td><td>14</td><td>no </td><td>no</td><td>yes</td><td>94</td><td>1</td></tr>\n",
              "\t<tr><td>15</td><td>2699</td><td>50</td><td>212</td><td> 8</td><td>14</td><td>no </td><td>no</td><td>yes</td><td>94</td><td>1</td></tr>\n",
              "\t<tr><td>16</td><td>2225</td><td>50</td><td>130</td><td> 4</td><td>14</td><td>no </td><td>no</td><td>yes</td><td>94</td><td>1</td></tr>\n",
              "\t<tr><td>17</td><td>1595</td><td>33</td><td> 85</td><td> 2</td><td>14</td><td>no </td><td>no</td><td>yes</td><td>94</td><td>1</td></tr>\n",
              "\t<tr><td>18</td><td>2325</td><td>33</td><td>210</td><td> 4</td><td>15</td><td>no </td><td>no</td><td>yes</td><td>94</td><td>1</td></tr>\n",
              "\t<tr><td>19</td><td>2095</td><td>33</td><td>250</td><td> 4</td><td>15</td><td>no </td><td>no</td><td>yes</td><td>94</td><td>1</td></tr>\n",
              "\t<tr><td>20</td><td>4395</td><td>66</td><td>452</td><td> 8</td><td>14</td><td>no </td><td>no</td><td>yes</td><td>94</td><td>1</td></tr>\n",
              "\t<tr><td>21</td><td>1695</td><td>33</td><td>130</td><td> 4</td><td>14</td><td>no </td><td>no</td><td>yes</td><td>94</td><td>1</td></tr>\n",
              "\t<tr><td>22</td><td>2795</td><td>66</td><td>130</td><td> 4</td><td>14</td><td>no </td><td>no</td><td>yes</td><td>94</td><td>1</td></tr>\n",
              "\t<tr><td>23</td><td>2895</td><td>25</td><td>340</td><td>16</td><td>14</td><td>no </td><td>no</td><td>yes</td><td>94</td><td>1</td></tr>\n",
              "\t<tr><td>24</td><td>2875</td><td>50</td><td>210</td><td> 4</td><td>17</td><td>no </td><td>no</td><td>yes</td><td>94</td><td>1</td></tr>\n",
              "\t<tr><td>25</td><td>4195</td><td>50</td><td>452</td><td> 8</td><td>14</td><td>no </td><td>no</td><td>yes</td><td>94</td><td>1</td></tr>\n",
              "\t<tr><td>26</td><td>1290</td><td>33</td><td> 80</td><td> 2</td><td>14</td><td>no </td><td>no</td><td>yes</td><td>94</td><td>1</td></tr>\n",
              "\t<tr><td>27</td><td>1975</td><td>33</td><td>130</td><td> 4</td><td>14</td><td>no </td><td>no</td><td>yes</td><td>94</td><td>1</td></tr>\n",
              "\t<tr><td>28</td><td>3995</td><td>33</td><td>452</td><td> 8</td><td>14</td><td>no </td><td>no</td><td>yes</td><td>94</td><td>1</td></tr>\n",
              "\t<tr><td>29</td><td>3095</td><td>33</td><td>340</td><td>16</td><td>14</td><td>no </td><td>no</td><td>yes</td><td>94</td><td>1</td></tr>\n",
              "\t<tr><td>30</td><td>3244</td><td>66</td><td>245</td><td> 8</td><td>14</td><td>no </td><td>no</td><td>yes</td><td>94</td><td>1</td></tr>\n",
              "\t<tr><td>⋮</td><td>⋮</td><td>⋮</td><td>⋮</td><td>⋮</td><td>⋮</td><td>⋮</td><td>⋮</td><td>⋮</td><td>⋮</td><td>⋮</td></tr>\n",
              "\t<tr><td>6230</td><td>2344</td><td> 66</td><td> 850</td><td>16</td><td>15</td><td>yes</td><td>no </td><td>yes</td><td>39</td><td>35</td></tr>\n",
              "\t<tr><td>6231</td><td>2890</td><td>100</td><td>1200</td><td>24</td><td>17</td><td>yes</td><td>no </td><td>yes</td><td>39</td><td>35</td></tr>\n",
              "\t<tr><td>6232</td><td>2390</td><td> 66</td><td> 850</td><td>16</td><td>17</td><td>yes</td><td>no </td><td>yes</td><td>39</td><td>35</td></tr>\n",
              "\t<tr><td>6233</td><td>1495</td><td> 66</td><td> 528</td><td> 8</td><td>14</td><td>no </td><td>no </td><td>yes</td><td>39</td><td>35</td></tr>\n",
              "\t<tr><td>6234</td><td>1844</td><td>100</td><td> 528</td><td> 8</td><td>14</td><td>no </td><td>no </td><td>yes</td><td>39</td><td>35</td></tr>\n",
              "\t<tr><td>6235</td><td>1699</td><td> 66</td><td> 630</td><td> 8</td><td>15</td><td>no </td><td>no </td><td>no </td><td>39</td><td>35</td></tr>\n",
              "\t<tr><td>6236</td><td>3290</td><td> 75</td><td>1600</td><td>32</td><td>17</td><td>yes</td><td>no </td><td>yes</td><td>39</td><td>35</td></tr>\n",
              "\t<tr><td>6237</td><td>2790</td><td> 66</td><td>1200</td><td>24</td><td>17</td><td>yes</td><td>no </td><td>yes</td><td>39</td><td>35</td></tr>\n",
              "\t<tr><td>6238</td><td>2845</td><td>100</td><td>1600</td><td>24</td><td>15</td><td>yes</td><td>no </td><td>yes</td><td>39</td><td>35</td></tr>\n",
              "\t<tr><td>6239</td><td>1744</td><td> 66</td><td> 528</td><td> 8</td><td>14</td><td>no </td><td>no </td><td>yes</td><td>39</td><td>35</td></tr>\n",
              "\t<tr><td>6240</td><td>3095</td><td>100</td><td>1600</td><td>32</td><td>15</td><td>yes</td><td>no </td><td>yes</td><td>39</td><td>35</td></tr>\n",
              "\t<tr><td>6241</td><td>1595</td><td>100</td><td> 528</td><td> 8</td><td>14</td><td>no </td><td>no </td><td>yes</td><td>39</td><td>35</td></tr>\n",
              "\t<tr><td>6242</td><td>2254</td><td>100</td><td> 850</td><td>16</td><td>15</td><td>yes</td><td>no </td><td>yes</td><td>39</td><td>35</td></tr>\n",
              "\t<tr><td>6243</td><td>2723</td><td>100</td><td>1200</td><td>24</td><td>15</td><td>yes</td><td>yes</td><td>yes</td><td>39</td><td>35</td></tr>\n",
              "\t<tr><td>6244</td><td>2745</td><td> 66</td><td>1600</td><td>24</td><td>15</td><td>yes</td><td>no </td><td>yes</td><td>39</td><td>35</td></tr>\n",
              "\t<tr><td>6245</td><td>3054</td><td> 75</td><td>1600</td><td>32</td><td>15</td><td>yes</td><td>no </td><td>yes</td><td>39</td><td>35</td></tr>\n",
              "\t<tr><td>6246</td><td>2744</td><td> 66</td><td>1200</td><td>24</td><td>15</td><td>yes</td><td>no </td><td>yes</td><td>39</td><td>35</td></tr>\n",
              "\t<tr><td>6247</td><td>1554</td><td> 66</td><td> 528</td><td> 8</td><td>14</td><td>no </td><td>no </td><td>yes</td><td>39</td><td>35</td></tr>\n",
              "\t<tr><td>6248</td><td>1654</td><td>100</td><td> 528</td><td> 8</td><td>14</td><td>no </td><td>no </td><td>yes</td><td>39</td><td>35</td></tr>\n",
              "\t<tr><td>6249</td><td>2623</td><td> 66</td><td>1200</td><td>24</td><td>15</td><td>yes</td><td>yes</td><td>yes</td><td>39</td><td>35</td></tr>\n",
              "\t<tr><td>6250</td><td>2095</td><td> 66</td><td> 850</td><td>16</td><td>15</td><td>yes</td><td>no </td><td>yes</td><td>39</td><td>35</td></tr>\n",
              "\t<tr><td>6251</td><td>2495</td><td> 66</td><td>1200</td><td>24</td><td>15</td><td>yes</td><td>no </td><td>yes</td><td>39</td><td>35</td></tr>\n",
              "\t<tr><td>6252</td><td>2995</td><td> 66</td><td>1600</td><td>32</td><td>15</td><td>yes</td><td>no </td><td>yes</td><td>39</td><td>35</td></tr>\n",
              "\t<tr><td>6253</td><td>1690</td><td> 66</td><td>1200</td><td> 8</td><td>14</td><td>no </td><td>no </td><td>yes</td><td>39</td><td>35</td></tr>\n",
              "\t<tr><td>6254</td><td>2154</td><td> 66</td><td> 850</td><td>16</td><td>15</td><td>yes</td><td>no </td><td>yes</td><td>39</td><td>35</td></tr>\n",
              "\t<tr><td>6255</td><td>1690</td><td>100</td><td> 528</td><td> 8</td><td>15</td><td>no </td><td>no </td><td>yes</td><td>39</td><td>35</td></tr>\n",
              "\t<tr><td>6256</td><td>2223</td><td> 66</td><td> 850</td><td>16</td><td>15</td><td>yes</td><td>yes</td><td>yes</td><td>39</td><td>35</td></tr>\n",
              "\t<tr><td>6257</td><td>2654</td><td>100</td><td>1200</td><td>24</td><td>15</td><td>yes</td><td>no </td><td>yes</td><td>39</td><td>35</td></tr>\n",
              "\t<tr><td>6258</td><td>2195</td><td>100</td><td> 850</td><td>16</td><td>15</td><td>yes</td><td>no </td><td>yes</td><td>39</td><td>35</td></tr>\n",
              "\t<tr><td>6259</td><td>2490</td><td>100</td><td> 850</td><td>16</td><td>17</td><td>yes</td><td>no </td><td>yes</td><td>39</td><td>35</td></tr>\n",
              "</tbody>\n",
              "</table>\n"
            ],
            "text/markdown": "\nA data.frame: 6259 × 11\n\n| X &lt;int&gt; | price &lt;int&gt; | speed &lt;int&gt; | hd &lt;int&gt; | ram &lt;int&gt; | screen &lt;int&gt; | cd &lt;chr&gt; | multi &lt;chr&gt; | premium &lt;chr&gt; | ads &lt;int&gt; | trend &lt;int&gt; |\n|---|---|---|---|---|---|---|---|---|---|---|\n|  1 | 1499 | 25 |  80 |  4 | 14 | no  | no | yes | 94 | 1 |\n|  2 | 1795 | 33 |  85 |  2 | 14 | no  | no | yes | 94 | 1 |\n|  3 | 1595 | 25 | 170 |  4 | 15 | no  | no | yes | 94 | 1 |\n|  4 | 1849 | 25 | 170 |  8 | 14 | no  | no | no  | 94 | 1 |\n|  5 | 3295 | 33 | 340 | 16 | 14 | no  | no | yes | 94 | 1 |\n|  6 | 3695 | 66 | 340 | 16 | 14 | no  | no | yes | 94 | 1 |\n|  7 | 1720 | 25 | 170 |  4 | 14 | yes | no | yes | 94 | 1 |\n|  8 | 1995 | 50 |  85 |  2 | 14 | no  | no | yes | 94 | 1 |\n|  9 | 2225 | 50 | 210 |  8 | 14 | no  | no | yes | 94 | 1 |\n| 10 | 2575 | 50 | 210 |  4 | 15 | no  | no | yes | 94 | 1 |\n| 11 | 2195 | 33 | 170 |  8 | 15 | no  | no | yes | 94 | 1 |\n| 12 | 2605 | 66 | 210 |  8 | 14 | no  | no | yes | 94 | 1 |\n| 13 | 2045 | 50 | 130 |  4 | 14 | no  | no | yes | 94 | 1 |\n| 14 | 2295 | 25 | 245 |  8 | 14 | no  | no | yes | 94 | 1 |\n| 15 | 2699 | 50 | 212 |  8 | 14 | no  | no | yes | 94 | 1 |\n| 16 | 2225 | 50 | 130 |  4 | 14 | no  | no | yes | 94 | 1 |\n| 17 | 1595 | 33 |  85 |  2 | 14 | no  | no | yes | 94 | 1 |\n| 18 | 2325 | 33 | 210 |  4 | 15 | no  | no | yes | 94 | 1 |\n| 19 | 2095 | 33 | 250 |  4 | 15 | no  | no | yes | 94 | 1 |\n| 20 | 4395 | 66 | 452 |  8 | 14 | no  | no | yes | 94 | 1 |\n| 21 | 1695 | 33 | 130 |  4 | 14 | no  | no | yes | 94 | 1 |\n| 22 | 2795 | 66 | 130 |  4 | 14 | no  | no | yes | 94 | 1 |\n| 23 | 2895 | 25 | 340 | 16 | 14 | no  | no | yes | 94 | 1 |\n| 24 | 2875 | 50 | 210 |  4 | 17 | no  | no | yes | 94 | 1 |\n| 25 | 4195 | 50 | 452 |  8 | 14 | no  | no | yes | 94 | 1 |\n| 26 | 1290 | 33 |  80 |  2 | 14 | no  | no | yes | 94 | 1 |\n| 27 | 1975 | 33 | 130 |  4 | 14 | no  | no | yes | 94 | 1 |\n| 28 | 3995 | 33 | 452 |  8 | 14 | no  | no | yes | 94 | 1 |\n| 29 | 3095 | 33 | 340 | 16 | 14 | no  | no | yes | 94 | 1 |\n| 30 | 3244 | 66 | 245 |  8 | 14 | no  | no | yes | 94 | 1 |\n| ⋮ | ⋮ | ⋮ | ⋮ | ⋮ | ⋮ | ⋮ | ⋮ | ⋮ | ⋮ | ⋮ |\n| 6230 | 2344 |  66 |  850 | 16 | 15 | yes | no  | yes | 39 | 35 |\n| 6231 | 2890 | 100 | 1200 | 24 | 17 | yes | no  | yes | 39 | 35 |\n| 6232 | 2390 |  66 |  850 | 16 | 17 | yes | no  | yes | 39 | 35 |\n| 6233 | 1495 |  66 |  528 |  8 | 14 | no  | no  | yes | 39 | 35 |\n| 6234 | 1844 | 100 |  528 |  8 | 14 | no  | no  | yes | 39 | 35 |\n| 6235 | 1699 |  66 |  630 |  8 | 15 | no  | no  | no  | 39 | 35 |\n| 6236 | 3290 |  75 | 1600 | 32 | 17 | yes | no  | yes | 39 | 35 |\n| 6237 | 2790 |  66 | 1200 | 24 | 17 | yes | no  | yes | 39 | 35 |\n| 6238 | 2845 | 100 | 1600 | 24 | 15 | yes | no  | yes | 39 | 35 |\n| 6239 | 1744 |  66 |  528 |  8 | 14 | no  | no  | yes | 39 | 35 |\n| 6240 | 3095 | 100 | 1600 | 32 | 15 | yes | no  | yes | 39 | 35 |\n| 6241 | 1595 | 100 |  528 |  8 | 14 | no  | no  | yes | 39 | 35 |\n| 6242 | 2254 | 100 |  850 | 16 | 15 | yes | no  | yes | 39 | 35 |\n| 6243 | 2723 | 100 | 1200 | 24 | 15 | yes | yes | yes | 39 | 35 |\n| 6244 | 2745 |  66 | 1600 | 24 | 15 | yes | no  | yes | 39 | 35 |\n| 6245 | 3054 |  75 | 1600 | 32 | 15 | yes | no  | yes | 39 | 35 |\n| 6246 | 2744 |  66 | 1200 | 24 | 15 | yes | no  | yes | 39 | 35 |\n| 6247 | 1554 |  66 |  528 |  8 | 14 | no  | no  | yes | 39 | 35 |\n| 6248 | 1654 | 100 |  528 |  8 | 14 | no  | no  | yes | 39 | 35 |\n| 6249 | 2623 |  66 | 1200 | 24 | 15 | yes | yes | yes | 39 | 35 |\n| 6250 | 2095 |  66 |  850 | 16 | 15 | yes | no  | yes | 39 | 35 |\n| 6251 | 2495 |  66 | 1200 | 24 | 15 | yes | no  | yes | 39 | 35 |\n| 6252 | 2995 |  66 | 1600 | 32 | 15 | yes | no  | yes | 39 | 35 |\n| 6253 | 1690 |  66 | 1200 |  8 | 14 | no  | no  | yes | 39 | 35 |\n| 6254 | 2154 |  66 |  850 | 16 | 15 | yes | no  | yes | 39 | 35 |\n| 6255 | 1690 | 100 |  528 |  8 | 15 | no  | no  | yes | 39 | 35 |\n| 6256 | 2223 |  66 |  850 | 16 | 15 | yes | yes | yes | 39 | 35 |\n| 6257 | 2654 | 100 | 1200 | 24 | 15 | yes | no  | yes | 39 | 35 |\n| 6258 | 2195 | 100 |  850 | 16 | 15 | yes | no  | yes | 39 | 35 |\n| 6259 | 2490 | 100 |  850 | 16 | 17 | yes | no  | yes | 39 | 35 |\n\n",
            "text/latex": "A data.frame: 6259 × 11\n\\begin{tabular}{lllllllllll}\n X & price & speed & hd & ram & screen & cd & multi & premium & ads & trend\\\\\n <int> & <int> & <int> & <int> & <int> & <int> & <chr> & <chr> & <chr> & <int> & <int>\\\\\n\\hline\n\t  1 & 1499 & 25 &  80 &  4 & 14 & no  & no & yes & 94 & 1\\\\\n\t  2 & 1795 & 33 &  85 &  2 & 14 & no  & no & yes & 94 & 1\\\\\n\t  3 & 1595 & 25 & 170 &  4 & 15 & no  & no & yes & 94 & 1\\\\\n\t  4 & 1849 & 25 & 170 &  8 & 14 & no  & no & no  & 94 & 1\\\\\n\t  5 & 3295 & 33 & 340 & 16 & 14 & no  & no & yes & 94 & 1\\\\\n\t  6 & 3695 & 66 & 340 & 16 & 14 & no  & no & yes & 94 & 1\\\\\n\t  7 & 1720 & 25 & 170 &  4 & 14 & yes & no & yes & 94 & 1\\\\\n\t  8 & 1995 & 50 &  85 &  2 & 14 & no  & no & yes & 94 & 1\\\\\n\t  9 & 2225 & 50 & 210 &  8 & 14 & no  & no & yes & 94 & 1\\\\\n\t 10 & 2575 & 50 & 210 &  4 & 15 & no  & no & yes & 94 & 1\\\\\n\t 11 & 2195 & 33 & 170 &  8 & 15 & no  & no & yes & 94 & 1\\\\\n\t 12 & 2605 & 66 & 210 &  8 & 14 & no  & no & yes & 94 & 1\\\\\n\t 13 & 2045 & 50 & 130 &  4 & 14 & no  & no & yes & 94 & 1\\\\\n\t 14 & 2295 & 25 & 245 &  8 & 14 & no  & no & yes & 94 & 1\\\\\n\t 15 & 2699 & 50 & 212 &  8 & 14 & no  & no & yes & 94 & 1\\\\\n\t 16 & 2225 & 50 & 130 &  4 & 14 & no  & no & yes & 94 & 1\\\\\n\t 17 & 1595 & 33 &  85 &  2 & 14 & no  & no & yes & 94 & 1\\\\\n\t 18 & 2325 & 33 & 210 &  4 & 15 & no  & no & yes & 94 & 1\\\\\n\t 19 & 2095 & 33 & 250 &  4 & 15 & no  & no & yes & 94 & 1\\\\\n\t 20 & 4395 & 66 & 452 &  8 & 14 & no  & no & yes & 94 & 1\\\\\n\t 21 & 1695 & 33 & 130 &  4 & 14 & no  & no & yes & 94 & 1\\\\\n\t 22 & 2795 & 66 & 130 &  4 & 14 & no  & no & yes & 94 & 1\\\\\n\t 23 & 2895 & 25 & 340 & 16 & 14 & no  & no & yes & 94 & 1\\\\\n\t 24 & 2875 & 50 & 210 &  4 & 17 & no  & no & yes & 94 & 1\\\\\n\t 25 & 4195 & 50 & 452 &  8 & 14 & no  & no & yes & 94 & 1\\\\\n\t 26 & 1290 & 33 &  80 &  2 & 14 & no  & no & yes & 94 & 1\\\\\n\t 27 & 1975 & 33 & 130 &  4 & 14 & no  & no & yes & 94 & 1\\\\\n\t 28 & 3995 & 33 & 452 &  8 & 14 & no  & no & yes & 94 & 1\\\\\n\t 29 & 3095 & 33 & 340 & 16 & 14 & no  & no & yes & 94 & 1\\\\\n\t 30 & 3244 & 66 & 245 &  8 & 14 & no  & no & yes & 94 & 1\\\\\n\t ⋮ & ⋮ & ⋮ & ⋮ & ⋮ & ⋮ & ⋮ & ⋮ & ⋮ & ⋮ & ⋮\\\\\n\t 6230 & 2344 &  66 &  850 & 16 & 15 & yes & no  & yes & 39 & 35\\\\\n\t 6231 & 2890 & 100 & 1200 & 24 & 17 & yes & no  & yes & 39 & 35\\\\\n\t 6232 & 2390 &  66 &  850 & 16 & 17 & yes & no  & yes & 39 & 35\\\\\n\t 6233 & 1495 &  66 &  528 &  8 & 14 & no  & no  & yes & 39 & 35\\\\\n\t 6234 & 1844 & 100 &  528 &  8 & 14 & no  & no  & yes & 39 & 35\\\\\n\t 6235 & 1699 &  66 &  630 &  8 & 15 & no  & no  & no  & 39 & 35\\\\\n\t 6236 & 3290 &  75 & 1600 & 32 & 17 & yes & no  & yes & 39 & 35\\\\\n\t 6237 & 2790 &  66 & 1200 & 24 & 17 & yes & no  & yes & 39 & 35\\\\\n\t 6238 & 2845 & 100 & 1600 & 24 & 15 & yes & no  & yes & 39 & 35\\\\\n\t 6239 & 1744 &  66 &  528 &  8 & 14 & no  & no  & yes & 39 & 35\\\\\n\t 6240 & 3095 & 100 & 1600 & 32 & 15 & yes & no  & yes & 39 & 35\\\\\n\t 6241 & 1595 & 100 &  528 &  8 & 14 & no  & no  & yes & 39 & 35\\\\\n\t 6242 & 2254 & 100 &  850 & 16 & 15 & yes & no  & yes & 39 & 35\\\\\n\t 6243 & 2723 & 100 & 1200 & 24 & 15 & yes & yes & yes & 39 & 35\\\\\n\t 6244 & 2745 &  66 & 1600 & 24 & 15 & yes & no  & yes & 39 & 35\\\\\n\t 6245 & 3054 &  75 & 1600 & 32 & 15 & yes & no  & yes & 39 & 35\\\\\n\t 6246 & 2744 &  66 & 1200 & 24 & 15 & yes & no  & yes & 39 & 35\\\\\n\t 6247 & 1554 &  66 &  528 &  8 & 14 & no  & no  & yes & 39 & 35\\\\\n\t 6248 & 1654 & 100 &  528 &  8 & 14 & no  & no  & yes & 39 & 35\\\\\n\t 6249 & 2623 &  66 & 1200 & 24 & 15 & yes & yes & yes & 39 & 35\\\\\n\t 6250 & 2095 &  66 &  850 & 16 & 15 & yes & no  & yes & 39 & 35\\\\\n\t 6251 & 2495 &  66 & 1200 & 24 & 15 & yes & no  & yes & 39 & 35\\\\\n\t 6252 & 2995 &  66 & 1600 & 32 & 15 & yes & no  & yes & 39 & 35\\\\\n\t 6253 & 1690 &  66 & 1200 &  8 & 14 & no  & no  & yes & 39 & 35\\\\\n\t 6254 & 2154 &  66 &  850 & 16 & 15 & yes & no  & yes & 39 & 35\\\\\n\t 6255 & 1690 & 100 &  528 &  8 & 15 & no  & no  & yes & 39 & 35\\\\\n\t 6256 & 2223 &  66 &  850 & 16 & 15 & yes & yes & yes & 39 & 35\\\\\n\t 6257 & 2654 & 100 & 1200 & 24 & 15 & yes & no  & yes & 39 & 35\\\\\n\t 6258 & 2195 & 100 &  850 & 16 & 15 & yes & no  & yes & 39 & 35\\\\\n\t 6259 & 2490 & 100 &  850 & 16 & 17 & yes & no  & yes & 39 & 35\\\\\n\\end{tabular}\n"
          },
          "metadata": {}
        }
      ],
      "source": [
        "DataComputers<-read.csv(\"https://raw.githubusercontent.com/junaart/ForStudents/master/KIS/Lab_1/Computers.csv\",sep=\",\")\n",
        "View(DataComputers)"
      ]
    },
    {
      "cell_type": "markdown",
      "metadata": {
        "id": "a51994c9-ec24-4204-af1f-4ed67b671a16"
      },
      "source": [
        "Пояснения содержимого датафрейма:\n",
        "\n",
        "A dataframe containing :\n",
        "\n",
        "**price**\n",
        "\n",
        "price in US dollars of 486 PCs\n",
        "\n",
        "**speed**\n",
        "\n",
        "clock speed in MHz\n",
        "\n",
        "**hd**\n",
        "\n",
        "size of hard drive in MB\n",
        "\n",
        "**ram**\n",
        "\n",
        "size of Ram in in MB\n",
        "\n",
        "**screen**\n",
        "\n",
        "size of screen in inches\n",
        "\n",
        "**cd**\n",
        "\n",
        "is a CD-ROM present ?\n",
        "\n",
        "**multi**\n",
        "\n",
        "is a multimedia kit (speakers, sound card) included ?\n",
        "\n",
        "**premium**\n",
        "\n",
        "is the manufacturer was a \"premium\" firm (IBM, COMPAQ) ?\n",
        "\n",
        "**ads**\n",
        "\n",
        "number of 486 price listings for each month\n",
        "\n",
        "**trend**\n",
        "\n",
        "time trend indicating month starting from January of 1993 to November of 1995."
      ]
    },
    {
      "cell_type": "markdown",
      "metadata": {
        "id": "b38e79e0-31d9-482a-a173-103f6c7f65b1"
      },
      "source": [
        "Требуется развернуть КИС, включающую в себя:\n",
        "- серверные станции $С_1$;\n",
        "- рабочие станции аналитиков и менеджеров $C_2$;\n",
        "- рабочие станции обслуживающего персонала $C_3$;\n",
        "- станции сопряжения с видео, аудио оборудованием $C_4$.\n",
        "\n",
        "Станции одного типа считать одинаковыми по всем параметрам.\n",
        "Требования к каждому типу станций перечислены в таблицах ниже:"
      ]
    },
    {
      "cell_type": "code",
      "execution_count": 21,
      "metadata": {
        "id": "34e9fe23-0f72-46c0-865d-923d324eca23",
        "outputId": "377b8406-b986-452b-d490-96ec46ea49c5",
        "colab": {
          "base_uri": "https://localhost:8080/",
          "height": 1000
        }
      },
      "outputs": [
        {
          "output_type": "display_data",
          "data": {
            "text/plain": [
              "   Вариант Количество С1 >= Количество С2 >= Количество С3 >= Количество С4 >=\n",
              "1   1      5                 9               15               9               \n",
              "2   2      6                 8                3               1               \n",
              "3   3      4                14               11               5               \n",
              "4   4      3                15               10               4               \n",
              "5   5      4                19               20               8               \n",
              "6   6      4                15               11               4               \n",
              "7   7      3                16               14               3               \n",
              "8   8      3                16                8               3               \n",
              "9   9      6                 7                3               4               \n",
              "10 10      4                20                5               3               \n",
              "11 11      3                 6                3               7               \n",
              "12 12      5                13               16               1               \n",
              "13 13      6                18                7               2               \n",
              "14 14      6                16               10               1               \n",
              "15 15      6                10                2               4               \n",
              "16 16      3                12               17               9               \n",
              "17 17      5                 7                1               1               \n",
              "18 18      3                10               10               1               \n",
              "19 19      3                16               20               9               \n",
              "20 20      4                18                5               4               \n",
              "21 21      3                13               12               4               \n",
              "22 22      4                14               12               5               \n",
              "23 23      5                13                4               9               \n",
              "24 24      5                17                7               1               \n",
              "25 25      4                 9                2               4               \n",
              "26 26      3                18               20               5               \n",
              "27 27      6                 7                4               1               \n",
              "28 28      6                20                8               6               \n",
              "29 29      3                11                6               4               \n",
              "30 30      4                 9               18               4               \n",
              "31 31      3                19               20               7               \n",
              "32 32      4                 6                1               6               \n",
              "33 33      3                17               10               3               \n",
              "34 34      6                16                4               7               \n",
              "35 35      3                18               18               9               \n",
              "36 36      3                16                5               8               \n",
              "37 37      3                 6               18               3               \n",
              "38 38      3                14               19               4               \n",
              "39 39      4                 6                8               7               \n",
              "40 40      3                 7               14               5               \n",
              "41 41      3                11               16               1               \n",
              "42 42      4                11                8               3               \n",
              "43 43      4                18               14               4               \n",
              "44 44      4                 8                1               3               \n",
              "45 45      6                11                9               1               \n",
              "46 46      5                 6               16               1               \n",
              "47 47      3                12                2               3               \n",
              "48 48      5                11                8               6               \n",
              "49 49      5                20                4               6               \n",
              "50 50      4                 6               18               7               "
            ],
            "text/html": [
              "<table class=\"dataframe\">\n",
              "<caption>A data.frame: 50 × 5</caption>\n",
              "<thead>\n",
              "\t<tr><th scope=col>Вариант</th><th scope=col>Количество С1 &gt;=</th><th scope=col>Количество С2 &gt;=</th><th scope=col>Количество С3 &gt;=</th><th scope=col>Количество С4 &gt;=</th></tr>\n",
              "\t<tr><th scope=col>&lt;int&gt;</th><th scope=col>&lt;int&gt;</th><th scope=col>&lt;int&gt;</th><th scope=col>&lt;int&gt;</th><th scope=col>&lt;int&gt;</th></tr>\n",
              "</thead>\n",
              "<tbody>\n",
              "\t<tr><td> 1</td><td>5</td><td> 9</td><td>15</td><td>9</td></tr>\n",
              "\t<tr><td> 2</td><td>6</td><td> 8</td><td> 3</td><td>1</td></tr>\n",
              "\t<tr><td> 3</td><td>4</td><td>14</td><td>11</td><td>5</td></tr>\n",
              "\t<tr><td> 4</td><td>3</td><td>15</td><td>10</td><td>4</td></tr>\n",
              "\t<tr><td> 5</td><td>4</td><td>19</td><td>20</td><td>8</td></tr>\n",
              "\t<tr><td> 6</td><td>4</td><td>15</td><td>11</td><td>4</td></tr>\n",
              "\t<tr><td> 7</td><td>3</td><td>16</td><td>14</td><td>3</td></tr>\n",
              "\t<tr><td> 8</td><td>3</td><td>16</td><td> 8</td><td>3</td></tr>\n",
              "\t<tr><td> 9</td><td>6</td><td> 7</td><td> 3</td><td>4</td></tr>\n",
              "\t<tr><td>10</td><td>4</td><td>20</td><td> 5</td><td>3</td></tr>\n",
              "\t<tr><td>11</td><td>3</td><td> 6</td><td> 3</td><td>7</td></tr>\n",
              "\t<tr><td>12</td><td>5</td><td>13</td><td>16</td><td>1</td></tr>\n",
              "\t<tr><td>13</td><td>6</td><td>18</td><td> 7</td><td>2</td></tr>\n",
              "\t<tr><td>14</td><td>6</td><td>16</td><td>10</td><td>1</td></tr>\n",
              "\t<tr><td>15</td><td>6</td><td>10</td><td> 2</td><td>4</td></tr>\n",
              "\t<tr><td>16</td><td>3</td><td>12</td><td>17</td><td>9</td></tr>\n",
              "\t<tr><td>17</td><td>5</td><td> 7</td><td> 1</td><td>1</td></tr>\n",
              "\t<tr><td>18</td><td>3</td><td>10</td><td>10</td><td>1</td></tr>\n",
              "\t<tr><td>19</td><td>3</td><td>16</td><td>20</td><td>9</td></tr>\n",
              "\t<tr><td>20</td><td>4</td><td>18</td><td> 5</td><td>4</td></tr>\n",
              "\t<tr><td>21</td><td>3</td><td>13</td><td>12</td><td>4</td></tr>\n",
              "\t<tr><td>22</td><td>4</td><td>14</td><td>12</td><td>5</td></tr>\n",
              "\t<tr><td>23</td><td>5</td><td>13</td><td> 4</td><td>9</td></tr>\n",
              "\t<tr><td>24</td><td>5</td><td>17</td><td> 7</td><td>1</td></tr>\n",
              "\t<tr><td>25</td><td>4</td><td> 9</td><td> 2</td><td>4</td></tr>\n",
              "\t<tr><td>26</td><td>3</td><td>18</td><td>20</td><td>5</td></tr>\n",
              "\t<tr><td>27</td><td>6</td><td> 7</td><td> 4</td><td>1</td></tr>\n",
              "\t<tr><td>28</td><td>6</td><td>20</td><td> 8</td><td>6</td></tr>\n",
              "\t<tr><td>29</td><td>3</td><td>11</td><td> 6</td><td>4</td></tr>\n",
              "\t<tr><td>30</td><td>4</td><td> 9</td><td>18</td><td>4</td></tr>\n",
              "\t<tr><td>31</td><td>3</td><td>19</td><td>20</td><td>7</td></tr>\n",
              "\t<tr><td>32</td><td>4</td><td> 6</td><td> 1</td><td>6</td></tr>\n",
              "\t<tr><td>33</td><td>3</td><td>17</td><td>10</td><td>3</td></tr>\n",
              "\t<tr><td>34</td><td>6</td><td>16</td><td> 4</td><td>7</td></tr>\n",
              "\t<tr><td>35</td><td>3</td><td>18</td><td>18</td><td>9</td></tr>\n",
              "\t<tr><td>36</td><td>3</td><td>16</td><td> 5</td><td>8</td></tr>\n",
              "\t<tr><td>37</td><td>3</td><td> 6</td><td>18</td><td>3</td></tr>\n",
              "\t<tr><td>38</td><td>3</td><td>14</td><td>19</td><td>4</td></tr>\n",
              "\t<tr><td>39</td><td>4</td><td> 6</td><td> 8</td><td>7</td></tr>\n",
              "\t<tr><td>40</td><td>3</td><td> 7</td><td>14</td><td>5</td></tr>\n",
              "\t<tr><td>41</td><td>3</td><td>11</td><td>16</td><td>1</td></tr>\n",
              "\t<tr><td>42</td><td>4</td><td>11</td><td> 8</td><td>3</td></tr>\n",
              "\t<tr><td>43</td><td>4</td><td>18</td><td>14</td><td>4</td></tr>\n",
              "\t<tr><td>44</td><td>4</td><td> 8</td><td> 1</td><td>3</td></tr>\n",
              "\t<tr><td>45</td><td>6</td><td>11</td><td> 9</td><td>1</td></tr>\n",
              "\t<tr><td>46</td><td>5</td><td> 6</td><td>16</td><td>1</td></tr>\n",
              "\t<tr><td>47</td><td>3</td><td>12</td><td> 2</td><td>3</td></tr>\n",
              "\t<tr><td>48</td><td>5</td><td>11</td><td> 8</td><td>6</td></tr>\n",
              "\t<tr><td>49</td><td>5</td><td>20</td><td> 4</td><td>6</td></tr>\n",
              "\t<tr><td>50</td><td>4</td><td> 6</td><td>18</td><td>7</td></tr>\n",
              "</tbody>\n",
              "</table>\n"
            ],
            "text/markdown": "\nA data.frame: 50 × 5\n\n| Вариант &lt;int&gt; | Количество С1 &gt;= &lt;int&gt; | Количество С2 &gt;= &lt;int&gt; | Количество С3 &gt;= &lt;int&gt; | Количество С4 &gt;= &lt;int&gt; |\n|---|---|---|---|---|\n|  1 | 5 |  9 | 15 | 9 |\n|  2 | 6 |  8 |  3 | 1 |\n|  3 | 4 | 14 | 11 | 5 |\n|  4 | 3 | 15 | 10 | 4 |\n|  5 | 4 | 19 | 20 | 8 |\n|  6 | 4 | 15 | 11 | 4 |\n|  7 | 3 | 16 | 14 | 3 |\n|  8 | 3 | 16 |  8 | 3 |\n|  9 | 6 |  7 |  3 | 4 |\n| 10 | 4 | 20 |  5 | 3 |\n| 11 | 3 |  6 |  3 | 7 |\n| 12 | 5 | 13 | 16 | 1 |\n| 13 | 6 | 18 |  7 | 2 |\n| 14 | 6 | 16 | 10 | 1 |\n| 15 | 6 | 10 |  2 | 4 |\n| 16 | 3 | 12 | 17 | 9 |\n| 17 | 5 |  7 |  1 | 1 |\n| 18 | 3 | 10 | 10 | 1 |\n| 19 | 3 | 16 | 20 | 9 |\n| 20 | 4 | 18 |  5 | 4 |\n| 21 | 3 | 13 | 12 | 4 |\n| 22 | 4 | 14 | 12 | 5 |\n| 23 | 5 | 13 |  4 | 9 |\n| 24 | 5 | 17 |  7 | 1 |\n| 25 | 4 |  9 |  2 | 4 |\n| 26 | 3 | 18 | 20 | 5 |\n| 27 | 6 |  7 |  4 | 1 |\n| 28 | 6 | 20 |  8 | 6 |\n| 29 | 3 | 11 |  6 | 4 |\n| 30 | 4 |  9 | 18 | 4 |\n| 31 | 3 | 19 | 20 | 7 |\n| 32 | 4 |  6 |  1 | 6 |\n| 33 | 3 | 17 | 10 | 3 |\n| 34 | 6 | 16 |  4 | 7 |\n| 35 | 3 | 18 | 18 | 9 |\n| 36 | 3 | 16 |  5 | 8 |\n| 37 | 3 |  6 | 18 | 3 |\n| 38 | 3 | 14 | 19 | 4 |\n| 39 | 4 |  6 |  8 | 7 |\n| 40 | 3 |  7 | 14 | 5 |\n| 41 | 3 | 11 | 16 | 1 |\n| 42 | 4 | 11 |  8 | 3 |\n| 43 | 4 | 18 | 14 | 4 |\n| 44 | 4 |  8 |  1 | 3 |\n| 45 | 6 | 11 |  9 | 1 |\n| 46 | 5 |  6 | 16 | 1 |\n| 47 | 3 | 12 |  2 | 3 |\n| 48 | 5 | 11 |  8 | 6 |\n| 49 | 5 | 20 |  4 | 6 |\n| 50 | 4 |  6 | 18 | 7 |\n\n",
            "text/latex": "A data.frame: 50 × 5\n\\begin{tabular}{lllll}\n Вариант & Количество С1 >= & Количество С2 >= & Количество С3 >= & Количество С4 >=\\\\\n <int> & <int> & <int> & <int> & <int>\\\\\n\\hline\n\t  1 & 5 &  9 & 15 & 9\\\\\n\t  2 & 6 &  8 &  3 & 1\\\\\n\t  3 & 4 & 14 & 11 & 5\\\\\n\t  4 & 3 & 15 & 10 & 4\\\\\n\t  5 & 4 & 19 & 20 & 8\\\\\n\t  6 & 4 & 15 & 11 & 4\\\\\n\t  7 & 3 & 16 & 14 & 3\\\\\n\t  8 & 3 & 16 &  8 & 3\\\\\n\t  9 & 6 &  7 &  3 & 4\\\\\n\t 10 & 4 & 20 &  5 & 3\\\\\n\t 11 & 3 &  6 &  3 & 7\\\\\n\t 12 & 5 & 13 & 16 & 1\\\\\n\t 13 & 6 & 18 &  7 & 2\\\\\n\t 14 & 6 & 16 & 10 & 1\\\\\n\t 15 & 6 & 10 &  2 & 4\\\\\n\t 16 & 3 & 12 & 17 & 9\\\\\n\t 17 & 5 &  7 &  1 & 1\\\\\n\t 18 & 3 & 10 & 10 & 1\\\\\n\t 19 & 3 & 16 & 20 & 9\\\\\n\t 20 & 4 & 18 &  5 & 4\\\\\n\t 21 & 3 & 13 & 12 & 4\\\\\n\t 22 & 4 & 14 & 12 & 5\\\\\n\t 23 & 5 & 13 &  4 & 9\\\\\n\t 24 & 5 & 17 &  7 & 1\\\\\n\t 25 & 4 &  9 &  2 & 4\\\\\n\t 26 & 3 & 18 & 20 & 5\\\\\n\t 27 & 6 &  7 &  4 & 1\\\\\n\t 28 & 6 & 20 &  8 & 6\\\\\n\t 29 & 3 & 11 &  6 & 4\\\\\n\t 30 & 4 &  9 & 18 & 4\\\\\n\t 31 & 3 & 19 & 20 & 7\\\\\n\t 32 & 4 &  6 &  1 & 6\\\\\n\t 33 & 3 & 17 & 10 & 3\\\\\n\t 34 & 6 & 16 &  4 & 7\\\\\n\t 35 & 3 & 18 & 18 & 9\\\\\n\t 36 & 3 & 16 &  5 & 8\\\\\n\t 37 & 3 &  6 & 18 & 3\\\\\n\t 38 & 3 & 14 & 19 & 4\\\\\n\t 39 & 4 &  6 &  8 & 7\\\\\n\t 40 & 3 &  7 & 14 & 5\\\\\n\t 41 & 3 & 11 & 16 & 1\\\\\n\t 42 & 4 & 11 &  8 & 3\\\\\n\t 43 & 4 & 18 & 14 & 4\\\\\n\t 44 & 4 &  8 &  1 & 3\\\\\n\t 45 & 6 & 11 &  9 & 1\\\\\n\t 46 & 5 &  6 & 16 & 1\\\\\n\t 47 & 3 & 12 &  2 & 3\\\\\n\t 48 & 5 & 11 &  8 & 6\\\\\n\t 49 & 5 & 20 &  4 & 6\\\\\n\t 50 & 4 &  6 & 18 & 7\\\\\n\\end{tabular}\n"
          },
          "metadata": {}
        }
      ],
      "source": [
        "set.seed(163) \n",
        "Count_low<-data.frame()\n",
        "for (i in c(1:50)){\n",
        "    Count_low<-rbind(Count_low, c(i,sample(c(3:6),1), sample(c(6:20),1), sample(c(1:20),1), sample(c(1:9),1)))}\n",
        "colnames(Count_low)<-c(\"Вариант\",\"Количество С1 >=\",\"Количество С2 >=\", \"Количество С3 >=\", \"Количество С4 >=\") \n",
        "View(Count_low)"
      ]
    },
    {
      "cell_type": "code",
      "execution_count": 22,
      "metadata": {
        "id": "fa109aec-f981-45b0-aae3-9c3362f7e089",
        "outputId": "84eb8798-ec43-4a95-8414-1fd9db1e7893",
        "colab": {
          "base_uri": "https://localhost:8080/",
          "height": 1000
        }
      },
      "outputs": [
        {
          "output_type": "display_data",
          "data": {
            "text/plain": [
              "   Вариант Количество С1 <= Количество С2 <= Количество С3 <= Количество С4 <=\n",
              "1   1       8               28               35               13              \n",
              "2   2      10               24                7                8              \n",
              "3   3       8               20               17               10              \n",
              "4   4       9               29               28               11              \n",
              "5   5      10               25               24               11              \n",
              "6   6       9               24               23               10              \n",
              "7   7       8               29               24               11              \n",
              "8   8       6               36                9               11              \n",
              "9   9      12               18               10                7              \n",
              "10 10       7               26               20                7              \n",
              "11 11       6               14               14                8              \n",
              "12 12      10               24               23                6              \n",
              "13 13      10               34               27                7              \n",
              "14 14       9               31               11                2              \n",
              "15 15       9               17                7                8              \n",
              "16 16       8               19               28               16              \n",
              "17 17       9               18                8               10              \n",
              "18 18       6               29               17                3              \n",
              "19 19       7               32               38               12              \n",
              "20 20      10               31               13                8              \n",
              "21 21       6               25               19               10              \n",
              "22 22       7               29               19                7              \n",
              "23 23      11               33                5               14              \n",
              "24 24      11               28               22                8              \n",
              "25 25       7               17               13                7              \n",
              "26 26       7               38               26                9              \n",
              "27 27      10               26                6                3              \n",
              "28 28      10               37               19                7              \n",
              "29 29       7               29               20               12              \n",
              "30 30       9               27               25                7              \n",
              "31 31       6               33               21               15              \n",
              "32 32       9               22               15                7              \n",
              "33 33       9               24               28               10              \n",
              "34 34      12               34               20               10              \n",
              "35 35       7               35               25               11              \n",
              "36 36       8               25               21               11              \n",
              "37 37       9               15               20                8              \n",
              "38 38       6               28               22                6              \n",
              "39 39       9               13               16               16              \n",
              "40 40       9               15               23                7              \n",
              "41 41       7               18               29                9              \n",
              "42 42       8               17               20               10              \n",
              "43 43       9               28               34               12              \n",
              "44 44      10               24               16                9              \n",
              "45 45      11               21               15                5              \n",
              "46 46       8               23               34                3              \n",
              "47 47       8               29                6                8              \n",
              "48 48       9               23               20               13              \n",
              "49 49       9               29                7                8              \n",
              "50 50       9               18               24               12              "
            ],
            "text/html": [
              "<table class=\"dataframe\">\n",
              "<caption>A data.frame: 50 × 5</caption>\n",
              "<thead>\n",
              "\t<tr><th scope=col>Вариант</th><th scope=col>Количество С1 &lt;=</th><th scope=col>Количество С2 &lt;=</th><th scope=col>Количество С3 &lt;=</th><th scope=col>Количество С4 &lt;=</th></tr>\n",
              "\t<tr><th scope=col>&lt;int&gt;</th><th scope=col>&lt;int&gt;</th><th scope=col>&lt;int&gt;</th><th scope=col>&lt;int&gt;</th><th scope=col>&lt;int&gt;</th></tr>\n",
              "</thead>\n",
              "<tbody>\n",
              "\t<tr><td> 1</td><td> 8</td><td>28</td><td>35</td><td>13</td></tr>\n",
              "\t<tr><td> 2</td><td>10</td><td>24</td><td> 7</td><td> 8</td></tr>\n",
              "\t<tr><td> 3</td><td> 8</td><td>20</td><td>17</td><td>10</td></tr>\n",
              "\t<tr><td> 4</td><td> 9</td><td>29</td><td>28</td><td>11</td></tr>\n",
              "\t<tr><td> 5</td><td>10</td><td>25</td><td>24</td><td>11</td></tr>\n",
              "\t<tr><td> 6</td><td> 9</td><td>24</td><td>23</td><td>10</td></tr>\n",
              "\t<tr><td> 7</td><td> 8</td><td>29</td><td>24</td><td>11</td></tr>\n",
              "\t<tr><td> 8</td><td> 6</td><td>36</td><td> 9</td><td>11</td></tr>\n",
              "\t<tr><td> 9</td><td>12</td><td>18</td><td>10</td><td> 7</td></tr>\n",
              "\t<tr><td>10</td><td> 7</td><td>26</td><td>20</td><td> 7</td></tr>\n",
              "\t<tr><td>11</td><td> 6</td><td>14</td><td>14</td><td> 8</td></tr>\n",
              "\t<tr><td>12</td><td>10</td><td>24</td><td>23</td><td> 6</td></tr>\n",
              "\t<tr><td>13</td><td>10</td><td>34</td><td>27</td><td> 7</td></tr>\n",
              "\t<tr><td>14</td><td> 9</td><td>31</td><td>11</td><td> 2</td></tr>\n",
              "\t<tr><td>15</td><td> 9</td><td>17</td><td> 7</td><td> 8</td></tr>\n",
              "\t<tr><td>16</td><td> 8</td><td>19</td><td>28</td><td>16</td></tr>\n",
              "\t<tr><td>17</td><td> 9</td><td>18</td><td> 8</td><td>10</td></tr>\n",
              "\t<tr><td>18</td><td> 6</td><td>29</td><td>17</td><td> 3</td></tr>\n",
              "\t<tr><td>19</td><td> 7</td><td>32</td><td>38</td><td>12</td></tr>\n",
              "\t<tr><td>20</td><td>10</td><td>31</td><td>13</td><td> 8</td></tr>\n",
              "\t<tr><td>21</td><td> 6</td><td>25</td><td>19</td><td>10</td></tr>\n",
              "\t<tr><td>22</td><td> 7</td><td>29</td><td>19</td><td> 7</td></tr>\n",
              "\t<tr><td>23</td><td>11</td><td>33</td><td> 5</td><td>14</td></tr>\n",
              "\t<tr><td>24</td><td>11</td><td>28</td><td>22</td><td> 8</td></tr>\n",
              "\t<tr><td>25</td><td> 7</td><td>17</td><td>13</td><td> 7</td></tr>\n",
              "\t<tr><td>26</td><td> 7</td><td>38</td><td>26</td><td> 9</td></tr>\n",
              "\t<tr><td>27</td><td>10</td><td>26</td><td> 6</td><td> 3</td></tr>\n",
              "\t<tr><td>28</td><td>10</td><td>37</td><td>19</td><td> 7</td></tr>\n",
              "\t<tr><td>29</td><td> 7</td><td>29</td><td>20</td><td>12</td></tr>\n",
              "\t<tr><td>30</td><td> 9</td><td>27</td><td>25</td><td> 7</td></tr>\n",
              "\t<tr><td>31</td><td> 6</td><td>33</td><td>21</td><td>15</td></tr>\n",
              "\t<tr><td>32</td><td> 9</td><td>22</td><td>15</td><td> 7</td></tr>\n",
              "\t<tr><td>33</td><td> 9</td><td>24</td><td>28</td><td>10</td></tr>\n",
              "\t<tr><td>34</td><td>12</td><td>34</td><td>20</td><td>10</td></tr>\n",
              "\t<tr><td>35</td><td> 7</td><td>35</td><td>25</td><td>11</td></tr>\n",
              "\t<tr><td>36</td><td> 8</td><td>25</td><td>21</td><td>11</td></tr>\n",
              "\t<tr><td>37</td><td> 9</td><td>15</td><td>20</td><td> 8</td></tr>\n",
              "\t<tr><td>38</td><td> 6</td><td>28</td><td>22</td><td> 6</td></tr>\n",
              "\t<tr><td>39</td><td> 9</td><td>13</td><td>16</td><td>16</td></tr>\n",
              "\t<tr><td>40</td><td> 9</td><td>15</td><td>23</td><td> 7</td></tr>\n",
              "\t<tr><td>41</td><td> 7</td><td>18</td><td>29</td><td> 9</td></tr>\n",
              "\t<tr><td>42</td><td> 8</td><td>17</td><td>20</td><td>10</td></tr>\n",
              "\t<tr><td>43</td><td> 9</td><td>28</td><td>34</td><td>12</td></tr>\n",
              "\t<tr><td>44</td><td>10</td><td>24</td><td>16</td><td> 9</td></tr>\n",
              "\t<tr><td>45</td><td>11</td><td>21</td><td>15</td><td> 5</td></tr>\n",
              "\t<tr><td>46</td><td> 8</td><td>23</td><td>34</td><td> 3</td></tr>\n",
              "\t<tr><td>47</td><td> 8</td><td>29</td><td> 6</td><td> 8</td></tr>\n",
              "\t<tr><td>48</td><td> 9</td><td>23</td><td>20</td><td>13</td></tr>\n",
              "\t<tr><td>49</td><td> 9</td><td>29</td><td> 7</td><td> 8</td></tr>\n",
              "\t<tr><td>50</td><td> 9</td><td>18</td><td>24</td><td>12</td></tr>\n",
              "</tbody>\n",
              "</table>\n"
            ],
            "text/markdown": "\nA data.frame: 50 × 5\n\n| Вариант &lt;int&gt; | Количество С1 &lt;= &lt;int&gt; | Количество С2 &lt;= &lt;int&gt; | Количество С3 &lt;= &lt;int&gt; | Количество С4 &lt;= &lt;int&gt; |\n|---|---|---|---|---|\n|  1 |  8 | 28 | 35 | 13 |\n|  2 | 10 | 24 |  7 |  8 |\n|  3 |  8 | 20 | 17 | 10 |\n|  4 |  9 | 29 | 28 | 11 |\n|  5 | 10 | 25 | 24 | 11 |\n|  6 |  9 | 24 | 23 | 10 |\n|  7 |  8 | 29 | 24 | 11 |\n|  8 |  6 | 36 |  9 | 11 |\n|  9 | 12 | 18 | 10 |  7 |\n| 10 |  7 | 26 | 20 |  7 |\n| 11 |  6 | 14 | 14 |  8 |\n| 12 | 10 | 24 | 23 |  6 |\n| 13 | 10 | 34 | 27 |  7 |\n| 14 |  9 | 31 | 11 |  2 |\n| 15 |  9 | 17 |  7 |  8 |\n| 16 |  8 | 19 | 28 | 16 |\n| 17 |  9 | 18 |  8 | 10 |\n| 18 |  6 | 29 | 17 |  3 |\n| 19 |  7 | 32 | 38 | 12 |\n| 20 | 10 | 31 | 13 |  8 |\n| 21 |  6 | 25 | 19 | 10 |\n| 22 |  7 | 29 | 19 |  7 |\n| 23 | 11 | 33 |  5 | 14 |\n| 24 | 11 | 28 | 22 |  8 |\n| 25 |  7 | 17 | 13 |  7 |\n| 26 |  7 | 38 | 26 |  9 |\n| 27 | 10 | 26 |  6 |  3 |\n| 28 | 10 | 37 | 19 |  7 |\n| 29 |  7 | 29 | 20 | 12 |\n| 30 |  9 | 27 | 25 |  7 |\n| 31 |  6 | 33 | 21 | 15 |\n| 32 |  9 | 22 | 15 |  7 |\n| 33 |  9 | 24 | 28 | 10 |\n| 34 | 12 | 34 | 20 | 10 |\n| 35 |  7 | 35 | 25 | 11 |\n| 36 |  8 | 25 | 21 | 11 |\n| 37 |  9 | 15 | 20 |  8 |\n| 38 |  6 | 28 | 22 |  6 |\n| 39 |  9 | 13 | 16 | 16 |\n| 40 |  9 | 15 | 23 |  7 |\n| 41 |  7 | 18 | 29 |  9 |\n| 42 |  8 | 17 | 20 | 10 |\n| 43 |  9 | 28 | 34 | 12 |\n| 44 | 10 | 24 | 16 |  9 |\n| 45 | 11 | 21 | 15 |  5 |\n| 46 |  8 | 23 | 34 |  3 |\n| 47 |  8 | 29 |  6 |  8 |\n| 48 |  9 | 23 | 20 | 13 |\n| 49 |  9 | 29 |  7 |  8 |\n| 50 |  9 | 18 | 24 | 12 |\n\n",
            "text/latex": "A data.frame: 50 × 5\n\\begin{tabular}{lllll}\n Вариант & Количество С1 <= & Количество С2 <= & Количество С3 <= & Количество С4 <=\\\\\n <int> & <int> & <int> & <int> & <int>\\\\\n\\hline\n\t  1 &  8 & 28 & 35 & 13\\\\\n\t  2 & 10 & 24 &  7 &  8\\\\\n\t  3 &  8 & 20 & 17 & 10\\\\\n\t  4 &  9 & 29 & 28 & 11\\\\\n\t  5 & 10 & 25 & 24 & 11\\\\\n\t  6 &  9 & 24 & 23 & 10\\\\\n\t  7 &  8 & 29 & 24 & 11\\\\\n\t  8 &  6 & 36 &  9 & 11\\\\\n\t  9 & 12 & 18 & 10 &  7\\\\\n\t 10 &  7 & 26 & 20 &  7\\\\\n\t 11 &  6 & 14 & 14 &  8\\\\\n\t 12 & 10 & 24 & 23 &  6\\\\\n\t 13 & 10 & 34 & 27 &  7\\\\\n\t 14 &  9 & 31 & 11 &  2\\\\\n\t 15 &  9 & 17 &  7 &  8\\\\\n\t 16 &  8 & 19 & 28 & 16\\\\\n\t 17 &  9 & 18 &  8 & 10\\\\\n\t 18 &  6 & 29 & 17 &  3\\\\\n\t 19 &  7 & 32 & 38 & 12\\\\\n\t 20 & 10 & 31 & 13 &  8\\\\\n\t 21 &  6 & 25 & 19 & 10\\\\\n\t 22 &  7 & 29 & 19 &  7\\\\\n\t 23 & 11 & 33 &  5 & 14\\\\\n\t 24 & 11 & 28 & 22 &  8\\\\\n\t 25 &  7 & 17 & 13 &  7\\\\\n\t 26 &  7 & 38 & 26 &  9\\\\\n\t 27 & 10 & 26 &  6 &  3\\\\\n\t 28 & 10 & 37 & 19 &  7\\\\\n\t 29 &  7 & 29 & 20 & 12\\\\\n\t 30 &  9 & 27 & 25 &  7\\\\\n\t 31 &  6 & 33 & 21 & 15\\\\\n\t 32 &  9 & 22 & 15 &  7\\\\\n\t 33 &  9 & 24 & 28 & 10\\\\\n\t 34 & 12 & 34 & 20 & 10\\\\\n\t 35 &  7 & 35 & 25 & 11\\\\\n\t 36 &  8 & 25 & 21 & 11\\\\\n\t 37 &  9 & 15 & 20 &  8\\\\\n\t 38 &  6 & 28 & 22 &  6\\\\\n\t 39 &  9 & 13 & 16 & 16\\\\\n\t 40 &  9 & 15 & 23 &  7\\\\\n\t 41 &  7 & 18 & 29 &  9\\\\\n\t 42 &  8 & 17 & 20 & 10\\\\\n\t 43 &  9 & 28 & 34 & 12\\\\\n\t 44 & 10 & 24 & 16 &  9\\\\\n\t 45 & 11 & 21 & 15 &  5\\\\\n\t 46 &  8 & 23 & 34 &  3\\\\\n\t 47 &  8 & 29 &  6 &  8\\\\\n\t 48 &  9 & 23 & 20 & 13\\\\\n\t 49 &  9 & 29 &  7 &  8\\\\\n\t 50 &  9 & 18 & 24 & 12\\\\\n\\end{tabular}\n"
          },
          "metadata": {}
        }
      ],
      "source": [
        "Count_up<-data.frame()\n",
        "for (i in c(1:50)){\n",
        "    Count_up<-rbind(Count_up, c(i,Count_low[i,2]+sample(c(3:6),1), Count_low[i,3]+sample(c(6:20),1), \n",
        "                                          Count_low[i,4]+sample(c(1:20),1), Count_low[i,5]+sample(c(1:9),1)))}\n",
        "colnames(Count_up)<-c(\"Вариант\",\"Количество С1 <=\",\"Количество С2 <=\", \"Количество С3 <=\", \"Количество С4 <=\") \n",
        "View(Count_up)"
      ]
    },
    {
      "cell_type": "markdown",
      "metadata": {
        "id": "f403fc7d-dc3b-4c6a-953d-d88015a75c2c"
      },
      "source": [
        "Самостоятельно сформулировать ограничения (максимальные или минимальные) на общую стоимость развертывания всей технической инфраструктуры КИС, возможные ограничения на суммарную стоимость отдельных типов станций ($C_1$, $C_2$, $C_3$, $C_4$), нижние ограничения на частоту процессора для $C_1, C_2$, другие приемлемые ограничения.\n",
        "\n",
        "Построить регрессионную модель для оценки стоимости отдельной рабочей станции в зависимости от частоты процессора, объема оперативной памяти, объема винчестера."
      ]
    },
    {
      "cell_type": "markdown",
      "source": [
        "Сперва решим задачу для нижнего уровня: отберём наиболее оптимальные компьютеры для каждого сегмента по соотношению цена-качество. У каждого сегмента свои критерии отбора, но везде цена минимизируется, остальные параметры максимизируются"
      ],
      "metadata": {
        "id": "rbULmztvCvPF"
      }
    },
    {
      "cell_type": "markdown",
      "source": [
        "## Находим зависимость стоимости от других параметров"
      ],
      "metadata": {
        "id": "hPxVC96LbV9D"
      }
    },
    {
      "cell_type": "code",
      "source": [
        "p_price<-lm(price~speed+hd+ram+screen, DataComputers)\n",
        "p_price"
      ],
      "metadata": {
        "id": "9SUpiOMH6apT",
        "colab": {
          "base_uri": "https://localhost:8080/",
          "height": 142
        },
        "outputId": "a9aebd0b-81f3-40e1-e510-f20a8930bd14"
      },
      "execution_count": 23,
      "outputs": [
        {
          "output_type": "display_data",
          "data": {
            "text/plain": [
              "\n",
              "Call:\n",
              "lm(formula = price ~ speed + hd + ram + screen, data = DataComputers)\n",
              "\n",
              "Coefficients:\n",
              "(Intercept)        speed           hd          ram       screen  \n",
              "    10.3331       5.2493      -0.5794      76.7454     105.5259  \n"
            ]
          },
          "metadata": {}
        }
      ]
    },
    {
      "cell_type": "markdown",
      "source": [
        "## Находим средние значения"
      ],
      "metadata": {
        "id": "X3u0aZu1bePp"
      }
    },
    {
      "cell_type": "code",
      "source": [
        "mean_ram<-mean(DataComputers$ram)\n",
        "mean_speed<-mean(DataComputers$speed)\n",
        "mean_hd<-mean(DataComputers$hd)\n",
        "mean_screen<-mean(DataComputers$screen)\n",
        "\n",
        "mean_ram\n",
        "mean_speed\n",
        "mean_hd\n",
        "mean_screen"
      ],
      "metadata": {
        "colab": {
          "base_uri": "https://localhost:8080/",
          "height": 86
        },
        "id": "67_b8HGtbewm",
        "outputId": "606c6a07-8cfc-4e5c-9777-b4e44d1d061e"
      },
      "execution_count": 24,
      "outputs": [
        {
          "output_type": "display_data",
          "data": {
            "text/html": [
              "8.28694679661288"
            ],
            "text/markdown": "8.28694679661288",
            "text/latex": "8.28694679661288",
            "text/plain": [
              "[1] 8.286947"
            ]
          },
          "metadata": {}
        },
        {
          "output_type": "display_data",
          "data": {
            "text/html": [
              "52.0110241252596"
            ],
            "text/markdown": "52.0110241252596",
            "text/latex": "52.0110241252596",
            "text/plain": [
              "[1] 52.01102"
            ]
          },
          "metadata": {}
        },
        {
          "output_type": "display_data",
          "data": {
            "text/html": [
              "416.601693561272"
            ],
            "text/markdown": "416.601693561272",
            "text/latex": "416.601693561272",
            "text/plain": [
              "[1] 416.6017"
            ]
          },
          "metadata": {}
        },
        {
          "output_type": "display_data",
          "data": {
            "text/html": [
              "14.6087234382489"
            ],
            "text/markdown": "14.6087234382489",
            "text/latex": "14.6087234382489",
            "text/plain": [
              "[1] 14.60872"
            ]
          },
          "metadata": {}
        }
      ]
    },
    {
      "cell_type": "markdown",
      "source": [
        "## Задаем ограничения для C1-C4\n",
        "\n"
      ],
      "metadata": {
        "id": "e8RaWQSnuRWs"
      }
    },
    {
      "cell_type": "code",
      "source": [
        "install.packages(\"hash\", lib = \"/usr/local/lib/R/site-library\")\n",
        "library(\"hash\")"
      ],
      "metadata": {
        "id": "5EBR560V6mAG"
      },
      "execution_count": 25,
      "outputs": []
    },
    {
      "cell_type": "code",
      "source": [
        "\n",
        "restr_c1<-hash()\n",
        "restr_c1[[\"price\"]]<-50000\n",
        "restr_c1[[\"min_n\"]]<-5\n",
        "restr_c1[[\"max_n\"]]<-10\n",
        "restr_c1[[\"hd\"]]<-500\n",
        "restr_c1[[\"ram\"]]<-16\n",
        "restr_c1[[\"screen\"]]<-15\n",
        "restr_c1[[\"multi\"]]<-0\n",
        "restr_c1[[\"speed\"]]<-50\n",
        "#C2\n",
        "restr_c2<-hash()\n",
        "restr_c2[[\"price\"]]<-50000\n",
        "restr_c2[[\"min_n\"]]<-6\n",
        "restr_c2[[\"max_n\"]]<-22\n",
        "restr_c2[[\"hd\"]]<-500\n",
        "restr_c2[[\"ram\"]]<-24\n",
        "restr_c2[[\"screen\"]]<-15\n",
        "restr_c2[[\"multi\"]]<-0\n",
        "restr_c2[[\"speed\"]]<-30\n",
        "#C3\n",
        "restr_c3<-hash()\n",
        "restr_c3[[\"price\"]]<-40000\n",
        "restr_c3[[\"min_n\"]]<-16\n",
        "restr_c3[[\"max_n\"]]<-31\n",
        "restr_c3[[\"hd\"]]<-200\n",
        "restr_c3[[\"ram\"]]<-8\n",
        "restr_c3[[\"screen\"]]<-14\n",
        "restr_c3[[\"multi\"]]<-\"yes\"\n",
        "restr_c3[[\"speed\"]]<-25\n",
        "#C4\n",
        "restr_c4<-hash()\n",
        "restr_c4[[\"price\"]]<-20000\n",
        "restr_c4[[\"min_n\"]]<-3\n",
        "restr_c4[[\"max_n\"]]<-6\n",
        "restr_c4[[\"hd\"]]<-200\n",
        "restr_c4[[\"ram\"]]<-8\n",
        "restr_c4[[\"screen\"]]<-15\n",
        "restr_c4[[\"multi\"]]<-\"yes\"\n",
        "restr_c4[[\"speed\"]]<-25"
      ],
      "metadata": {
        "id": "2bIZm4wWZw_G"
      },
      "execution_count": 26,
      "outputs": []
    },
    {
      "cell_type": "markdown",
      "source": [
        "## Задаем коэффициенты для частных критериев нижнего уровня"
      ],
      "metadata": {
        "id": "-XUhGMRWgSLh"
      }
    },
    {
      "cell_type": "code",
      "source": [
        "w1<-c(0.8,0.3) #speed и ram в C1\n",
        "w2<-c(0.3,0.7) # ram и hd в C2 \n",
        "w3<-c(0.5,0.5) \n",
        "w4<-c(0.4,0.7)\n",
        "h2<-c(0.25,0.25,0.25,0.25)\n",
        "h2_goal<-w1[1]*h2[1]*mean_speed+w1[2]*h2[1]*mean_ram+ w2[1]*h2[2]*mean_ram+w2[2]*h2[2]*mean_hd+ w3[1]*h2[3]*mean_speed+w3[2]*h2[3]*mean_screen+w4[1]*h2[4]*mean_speed+w4[2]*h2[4]*mean_hd"
      ],
      "metadata": {
        "id": "7CcrAoaegRWU"
      },
      "execution_count": 27,
      "outputs": []
    },
    {
      "cell_type": "markdown",
      "source": [
        "## Решаем двухуровневую задачу оптимизации"
      ],
      "metadata": {
        "id": "BugnTE35gmuo"
      }
    },
    {
      "cell_type": "code",
      "source": [
        "#В целевой функции H1 - общая стоимость системы:\n",
        "#для C1 = 10.3331*N1+5.2493*N1*speed+76.7454*N1*ram-0.5794*N1*hd+105.5259*N1*screen\n",
        "#для C2 = 10.3331*N2+5.2493*N2*speed+76.7454*N2*ram-0.5794*N2*hd+105.5259*N2*screen\n",
        "#для C3 = 10.3331*N3+5.2493*N3*speed+76.7454*N3*ram-0.5794*N3*hd+105.5259*N3*screen\n",
        "#для C4 = 10.3331*N4+5.2493*N4*speed+76.7454*N4*ram-0.5794*N4*hd+105.5259*N4*screen\n"
      ],
      "metadata": {
        "id": "pH3snyeaguSX"
      },
      "execution_count": 28,
      "outputs": []
    },
    {
      "cell_type": "code",
      "source": [
        "#x1=10.3331*N1;   x2= N1*speed,   x3= N1*hd,   x4= N1*ram,   x5= N1*screen,\n",
        "#x6=10.3331*N2;   x7= N2*speed,   x8= N2*hd,   x9= N2*ram,   x10= N2*screen,\n",
        "#x11=10.3331*N3;  x12= N3*speed,  x13= N3*hd,  x14= N4*ram,  x15= N3*screen,\n",
        "#x16=10.3331*N4;  x17= N4*speed,  x18= N4*hd,  x19= N4*ram,  x20= N4*screen,"
      ],
      "metadata": {
        "id": "e77VQ62Ag0ou"
      },
      "execution_count": 29,
      "outputs": []
    },
    {
      "cell_type": "code",
      "source": [
        "# Учитываем условия работоспособонсти:\n",
        "mean_hd<-c(max(mean_hd, restr_c1[[\"hd\"]]),max(mean_hd, restr_c2[[\"hd\"]]),\n",
        "           max(mean_hd, restr_c3[[\"hd\"]]),max(mean_hd, restr_c4[[\"hd\"]]))\n",
        "\n",
        "mean_ram<-c(max(mean_ram, restr_c1[[\"ram\"]]),max(mean_ram, restr_c2[[\"ram\"]]),\n",
        "            max(mean_ram, restr_c3[[\"ram\"]]),max(mean_ram, restr_c4[[\"ram\"]]))\n",
        "\n",
        "mean_speed<-c(max(mean_speed, restr_c1[[\"speed\"]]),max(mean_speed, restr_c2[[\"speed\"]]),\n",
        "              max(mean_speed, restr_c3[[\"speed\"]]),max(mean_speed, restr_c4[[\"speed\"]]))\n",
        "\n",
        "mean_screen<-c(max(mean_screen, restr_c1[[\"screen\"]]),max(mean_screen, restr_c2[[\"screen\"]]),\n",
        "              max(mean_screen, restr_c3[[\"screen\"]]),max(mean_screen, restr_c4[[\"screen\"]]))\n"
      ],
      "metadata": {
        "id": "n6WcSFjv_dap"
      },
      "execution_count": 30,
      "outputs": []
    },
    {
      "cell_type": "code",
      "source": [
        "install.packages(\"lpSolve\")\n",
        "library(lpSolve)"
      ],
      "metadata": {
        "colab": {
          "base_uri": "https://localhost:8080/"
        },
        "id": "eTIc19668Kk1",
        "outputId": "208b837e-d380-4bd6-9de3-53c457c5b9bb"
      },
      "execution_count": 31,
      "outputs": [
        {
          "output_type": "stream",
          "name": "stderr",
          "text": [
            "Installing package into ‘/usr/local/lib/R/site-library’\n",
            "(as ‘lib’ is unspecified)\n",
            "\n"
          ]
        }
      ]
    },
    {
      "cell_type": "code",
      "source": [
        "objective.in<-c(1, p_price$coefficients[2], p_price$coefficients[3], p_price$coefficients[4],\n",
        "                p_price$coefficients[5], 1, p_price$coefficients[2], p_price$coefficients[3],\n",
        "                p_price$coefficients[4], p_price$coefficients[5], 1, p_price$coefficients[2],\n",
        "                p_price$coefficients[3], p_price$coefficients[4], p_price$coefficients[5], \n",
        "                1, p_price$coefficients[2], p_price$coefficients[3], p_price$coefficients[4],\n",
        "                p_price$coefficients[5])\n",
        "const.mat<-matrix(c(0,w1[1]*h2[1],0,w1[2]*h2[1],0,0,0,w2[2]*h2[2],w2[1]*h2[2],0,0,w3[1]*h2[3],0,0,w3[2]*h2[3],0,w4[1]*h2[4],w4[2]*h2[4],0,0,\n",
        "                    1,p_price$coefficients[2],p_price$coefficients[3],p_price$coefficients[4],p_price$coefficients[5],0,0,0,0,0,0,0,0,0,0,0,0,0,0,0,\n",
        "                    0,0,0,0,0,1,p_price$coefficients[2],p_price$coefficients[3],p_price$coefficients[4],p_price$coefficients[5],0,0,0,0,0,0,0,0,0,0,\n",
        "                    0,0,0,0,0,0,0,0,0,0,1,p_price$coefficients[2],p_price$coefficients[3],p_price$coefficients[4],p_price$coefficients[5],0,0,0,0,0,\n",
        "                    0,0,0,0,0,0,0,0,0,0,0,0,0,0,0,1,p_price$coefficients[2],p_price$coefficients[3],p_price$coefficients[4],p_price$coefficients[5],\n",
        "                    1,0,0,0,0,0,0,0,0,0,0,0,0,0,0,0,0,0,0,0,\n",
        "                    1,0,0,0,0,0,0,0,0,0,0,0,0,0,0,0,0,0,0,0,\n",
        "                    0,1,0,0,0,0,0,0,0,0,0,0,0,0,0,0,0,0,0,0,\n",
        "                    0,1,0,0,0,0,0,0,0,0,0,0,0,0,0,0,0,0,0,0,\n",
        "                    0,0,1,0,0,0,0,0,0,0,0,0,0,0,0,0,0,0,0,0,\n",
        "                    0,0,1,0,0,0,0,0,0,0,0,0,0,0,0,0,0,0,0,0,\n",
        "                    0,0,0,1,0,0,0,0,0,0,0,0,0,0,0,0,0,0,0,0,\n",
        "                    0,0,0,1,0,0,0,0,0,0,0,0,0,0,0,0,0,0,0,0,\n",
        "                    0,0,0,0,1,0,0,0,0,0,0,0,0,0,0,0,0,0,0,0,  \n",
        "                    0,0,0,0,1,0,0,0,0,0,0,0,0,0,0,0,0,0,0,0,\n",
        "                    0,0,0,0,0,1,0,0,0,0,0,0,0,0,0,0,0,0,0,0,\n",
        "                    0,0,0,0,0,1,0,0,0,0,0,0,0,0,0,0,0,0,0,0,\n",
        "                    0,0,0,0,0,0,1,0,0,0,0,0,0,0,0,0,0,0,0,0,\n",
        "                    0,0,0,0,0,0,1,0,0,0,0,0,0,0,0,0,0,0,0,0,\n",
        "                    0,0,0,0,0,0,0,1,0,0,0,0,0,0,0,0,0,0,0,0,\n",
        "                    0,0,0,0,0,0,0,1,0,0,0,0,0,0,0,0,0,0,0,0,\n",
        "                    0,0,0,0,0,0,0,0,1,0,0,0,0,0,0,0,0,0,0,0,\n",
        "                    0,0,0,0,0,0,0,0,1,0,0,0,0,0,0,0,0,0,0,0,\n",
        "                    0,0,0,0,0,0,0,0,0,1,0,0,0,0,0,0,0,0,0,0,\n",
        "                    0,0,0,0,0,0,0,0,0,1,0,0,0,0,0,0,0,0,0,0,\n",
        "                    0,0,0,0,0,0,0,0,0,0,1,0,0,0,0,0,0,0,0,0,\n",
        "                    0,0,0,0,0,0,0,0,0,0,1,0,0,0,0,0,0,0,0,0,\n",
        "                    0,0,0,0,0,0,0,0,0,0,0,1,0,0,0,0,0,0,0,0,\n",
        "                    0,0,0,0,0,0,0,0,0,0,0,1,0,0,0,0,0,0,0,0,\n",
        "                    0,0,0,0,0,0,0,0,0,0,0,0,1,0,0,0,0,0,0,0,\n",
        "                    0,0,0,0,0,0,0,0,0,0,0,0,1,0,0,0,0,0,0,0,\n",
        "                    0,0,0,0,0,0,0,0,0,0,0,0,0,1,0,0,0,0,0,0,\n",
        "                    0,0,0,0,0,0,0,0,0,0,0,0,0,1,0,0,0,0,0,0,\n",
        "                    0,0,0,0,0,0,0,0,0,0,0,0,0,0,1,0,0,0,0,0,\n",
        "                    0,0,0,0,0,0,0,0,0,0,0,0,0,0,1,0,0,0,0,0,\n",
        "                    0,0,0,0,0,0,0,0,0,0,0,0,0,0,0,1,0,0,0,0,\n",
        "                    0,0,0,0,0,0,0,0,0,0,0,0,0,0,0,1,0,0,0,0,\n",
        "                    0,0,0,0,0,0,0,0,0,0,0,0,0,0,0,0,1,0,0,0,\n",
        "                    0,0,0,0,0,0,0,0,0,0,0,0,0,0,0,0,1,0,0,0,\n",
        "                    0,0,0,0,0,0,0,0,0,0,0,0,0,0,0,0,0,1,0,0,\n",
        "                    0,0,0,0,0,0,0,0,0,0,0,0,0,0,0,0,0,1,0,0,\n",
        "                    0,0,0,0,0,0,0,0,0,0,0,0,0,0,0,0,0,0,1,0,\n",
        "                    0,0,0,0,0,0,0,0,0,0,0,0,0,0,0,0,0,0,1,0,\n",
        "                    0,0,0,0,0,0,0,0,0,0,0,0,0,0,0,0,0,0,0,1,\n",
        "                    0,0,0,0,0,0,0,0,0,0,0,0,0,0,0,0,0,0,0,1), nrow=45, byrow=TRUE)\n",
        "const.dir<-c(\">=\",\"<=\",\"<=\",\"<=\", \"<=\",\n",
        "             \">=\",\"<=\",\">=\",\"<=\",\">=\",\"<=\",\">=\",\"<=\",\">=\",\"<=\",\n",
        "             \">=\",\"<=\",\">=\",\"<=\",\">=\",\"<=\",\">=\",\"<=\",\">=\",\"<=\",\">=\",\"<=\",\">=\",\"<=\",\">=\",\"<=\",\n",
        "             \">=\",\"<=\",\">=\",\"<=\",\">=\",\"<=\",\">=\",\"<=\",\">=\",\"<=\",\">=\",\"<=\",\">=\",\"<=\")\n",
        "const.rhs<-c(h2_goal,restr_c1[[\"price\"]],restr_c2[[\"price\"]],restr_c3[[\"price\"]],restr_c4[[\"price\"]],\n",
        "             restr_c1[[\"min_n\"]]*p_price$coefficients[1],restr_c1[[\"max_n\"]]*p_price$coefficients[1],\n",
        "             restr_c1[[\"min_n\"]]*mean_speed[1],restr_c1[[\"max_n\"]]*mean_speed[1],\n",
        "             restr_c1[[\"min_n\"]]*mean_hd[1],restr_c1[[\"max_n\"]]*mean_hd[1],\n",
        "             restr_c1[[\"min_n\"]]*mean_ram[1],restr_c1[[\"max_n\"]]*mean_ram[1],\n",
        "             restr_c1[[\"min_n\"]]*mean_screen[1],restr_c1[[\"max_n\"]]*mean_screen[1],\n",
        "             restr_c2[[\"min_n\"]]*p_price$coefficients[1],restr_c2[[\"max_n\"]]*p_price$coefficients[1],\n",
        "             restr_c2[[\"min_n\"]]*mean_speed[2],restr_c2[[\"max_n\"]]*mean_speed[2],\n",
        "             restr_c2[[\"min_n\"]]*mean_hd[2],restr_c2[[\"max_n\"]]*mean_hd[2],\n",
        "             restr_c2[[\"min_n\"]]*mean_ram[2],restr_c2[[\"max_n\"]]*mean_ram[2],\n",
        "             restr_c2[[\"min_n\"]]*mean_screen[2],restr_c2[[\"max_n\"]]*mean_screen[2],\n",
        "             restr_c3[[\"min_n\"]]*p_price$coefficients[1],restr_c3[[\"max_n\"]]*p_price$coefficients[1],\n",
        "             restr_c3[[\"min_n\"]]*mean_speed[3],restr_c3[[\"max_n\"]]*mean_speed[3],\n",
        "             restr_c3[[\"min_n\"]]*mean_hd[3],restr_c3[[\"max_n\"]]*mean_hd[3],\n",
        "             restr_c3[[\"min_n\"]]*mean_ram[3],restr_c3[[\"max_n\"]]*mean_ram[3],\n",
        "             restr_c3[[\"min_n\"]]*mean_screen[3],restr_c3[[\"max_n\"]]*mean_screen[3],\n",
        "             restr_c4[[\"min_n\"]]*p_price$coefficients[1],restr_c4[[\"max_n\"]]*p_price$coefficients[1],\n",
        "             restr_c4[[\"min_n\"]]*mean_speed[4],restr_c4[[\"max_n\"]]*mean_speed[4],\n",
        "             restr_c4[[\"min_n\"]]*mean_hd[4],restr_c4[[\"max_n\"]]*mean_hd[4],\n",
        "             restr_c4[[\"min_n\"]]*mean_ram[4],restr_c4[[\"max_n\"]]*mean_ram[4],\n",
        "             restr_c4[[\"min_n\"]]*mean_screen[4],restr_c4[[\"max_n\"]]*mean_screen[4])\n",
        "res<-lp(\"min\",objective.in, const.mat, const.dir, const.rhs)\n",
        "res$constraints"
      ],
      "metadata": {
        "id": "85vRt9by_j8W",
        "colab": {
          "base_uri": "https://localhost:8080/",
          "height": 744
        },
        "outputId": "e14135fc-3506-4a4d-c6c8-329442710d58"
      },
      "execution_count": 32,
      "outputs": [
        {
          "output_type": "display_data",
          "data": {
            "text/html": [
              "<table class=\"dataframe\">\n",
              "<caption>A matrix: 22 × 45 of type dbl</caption>\n",
              "<tbody>\n",
              "\t<tr><th scope=row></th><td>  0.0000</td><td>    1.000000</td><td>    0.000000</td><td>    0.000000</td><td>    0.000000</td><td> 1.00000</td><td>  1.0000</td><td>  0.0000</td><td>  0.0000</td><td>   0</td><td>⋯</td><td> 0.00000</td><td> 0.00000</td><td>  0.0000</td><td>  0.0000</td><td>   0.000</td><td>   0.00</td><td> 0.00000</td><td> 0.00000</td><td> 0</td><td> 0</td></tr>\n",
              "\t<tr><th scope=row></th><td>  0.2000</td><td>    5.249299</td><td>    0.000000</td><td>    0.000000</td><td>    0.000000</td><td> 0.00000</td><td>  0.0000</td><td>  1.0000</td><td>  1.0000</td><td>   0</td><td>⋯</td><td> 0.00000</td><td> 0.00000</td><td>  0.0000</td><td>  0.0000</td><td>   0.000</td><td>   0.00</td><td> 0.00000</td><td> 0.00000</td><td> 0</td><td> 0</td></tr>\n",
              "\t<tr><th scope=row></th><td>  0.0000</td><td>   -0.579360</td><td>    0.000000</td><td>    0.000000</td><td>    0.000000</td><td> 0.00000</td><td>  0.0000</td><td>  0.0000</td><td>  0.0000</td><td>   1</td><td>⋯</td><td> 0.00000</td><td> 0.00000</td><td>  0.0000</td><td>  0.0000</td><td>   0.000</td><td>   0.00</td><td> 0.00000</td><td> 0.00000</td><td> 0</td><td> 0</td></tr>\n",
              "\t<tr><th scope=row></th><td>  0.0750</td><td>   76.745450</td><td>    0.000000</td><td>    0.000000</td><td>    0.000000</td><td> 0.00000</td><td>  0.0000</td><td>  0.0000</td><td>  0.0000</td><td>   0</td><td>⋯</td><td> 0.00000</td><td> 0.00000</td><td>  0.0000</td><td>  0.0000</td><td>   0.000</td><td>   0.00</td><td> 0.00000</td><td> 0.00000</td><td> 0</td><td> 0</td></tr>\n",
              "\t<tr><th scope=row></th><td>  0.0000</td><td>  105.525919</td><td>    0.000000</td><td>    0.000000</td><td>    0.000000</td><td> 0.00000</td><td>  0.0000</td><td>  0.0000</td><td>  0.0000</td><td>   0</td><td>⋯</td><td> 0.00000</td><td> 0.00000</td><td>  0.0000</td><td>  0.0000</td><td>   0.000</td><td>   0.00</td><td> 0.00000</td><td> 0.00000</td><td> 0</td><td> 0</td></tr>\n",
              "\t<tr><th scope=row></th><td>  0.0000</td><td>    0.000000</td><td>    1.000000</td><td>    0.000000</td><td>    0.000000</td><td> 0.00000</td><td>  0.0000</td><td>  0.0000</td><td>  0.0000</td><td>   0</td><td>⋯</td><td> 0.00000</td><td> 0.00000</td><td>  0.0000</td><td>  0.0000</td><td>   0.000</td><td>   0.00</td><td> 0.00000</td><td> 0.00000</td><td> 0</td><td> 0</td></tr>\n",
              "\t<tr><th scope=row></th><td>  0.0000</td><td>    0.000000</td><td>    5.249299</td><td>    0.000000</td><td>    0.000000</td><td> 0.00000</td><td>  0.0000</td><td>  0.0000</td><td>  0.0000</td><td>   0</td><td>⋯</td><td> 0.00000</td><td> 0.00000</td><td>  0.0000</td><td>  0.0000</td><td>   0.000</td><td>   0.00</td><td> 0.00000</td><td> 0.00000</td><td> 0</td><td> 0</td></tr>\n",
              "\t<tr><th scope=row></th><td>  0.1750</td><td>    0.000000</td><td>   -0.579360</td><td>    0.000000</td><td>    0.000000</td><td> 0.00000</td><td>  0.0000</td><td>  0.0000</td><td>  0.0000</td><td>   0</td><td>⋯</td><td> 0.00000</td><td> 0.00000</td><td>  0.0000</td><td>  0.0000</td><td>   0.000</td><td>   0.00</td><td> 0.00000</td><td> 0.00000</td><td> 0</td><td> 0</td></tr>\n",
              "\t<tr><th scope=row></th><td>  0.0750</td><td>    0.000000</td><td>   76.745450</td><td>    0.000000</td><td>    0.000000</td><td> 0.00000</td><td>  0.0000</td><td>  0.0000</td><td>  0.0000</td><td>   0</td><td>⋯</td><td> 0.00000</td><td> 0.00000</td><td>  0.0000</td><td>  0.0000</td><td>   0.000</td><td>   0.00</td><td> 0.00000</td><td> 0.00000</td><td> 0</td><td> 0</td></tr>\n",
              "\t<tr><th scope=row></th><td>  0.0000</td><td>    0.000000</td><td>  105.525919</td><td>    0.000000</td><td>    0.000000</td><td> 0.00000</td><td>  0.0000</td><td>  0.0000</td><td>  0.0000</td><td>   0</td><td>⋯</td><td> 0.00000</td><td> 0.00000</td><td>  0.0000</td><td>  0.0000</td><td>   0.000</td><td>   0.00</td><td> 0.00000</td><td> 0.00000</td><td> 0</td><td> 0</td></tr>\n",
              "\t<tr><th scope=row></th><td>  0.0000</td><td>    0.000000</td><td>    0.000000</td><td>    1.000000</td><td>    0.000000</td><td> 0.00000</td><td>  0.0000</td><td>  0.0000</td><td>  0.0000</td><td>   0</td><td>⋯</td><td> 0.00000</td><td> 0.00000</td><td>  0.0000</td><td>  0.0000</td><td>   0.000</td><td>   0.00</td><td> 0.00000</td><td> 0.00000</td><td> 0</td><td> 0</td></tr>\n",
              "\t<tr><th scope=row></th><td>  0.1250</td><td>    0.000000</td><td>    0.000000</td><td>    5.249299</td><td>    0.000000</td><td> 0.00000</td><td>  0.0000</td><td>  0.0000</td><td>  0.0000</td><td>   0</td><td>⋯</td><td> 0.00000</td><td> 0.00000</td><td>  0.0000</td><td>  0.0000</td><td>   0.000</td><td>   0.00</td><td> 0.00000</td><td> 0.00000</td><td> 0</td><td> 0</td></tr>\n",
              "\t<tr><th scope=row></th><td>  0.0000</td><td>    0.000000</td><td>    0.000000</td><td>   -0.579360</td><td>    0.000000</td><td> 0.00000</td><td>  0.0000</td><td>  0.0000</td><td>  0.0000</td><td>   0</td><td>⋯</td><td> 0.00000</td><td> 0.00000</td><td>  0.0000</td><td>  0.0000</td><td>   0.000</td><td>   0.00</td><td> 0.00000</td><td> 0.00000</td><td> 0</td><td> 0</td></tr>\n",
              "\t<tr><th scope=row></th><td>  0.0000</td><td>    0.000000</td><td>    0.000000</td><td>   76.745450</td><td>    0.000000</td><td> 0.00000</td><td>  0.0000</td><td>  0.0000</td><td>  0.0000</td><td>   0</td><td>⋯</td><td> 0.00000</td><td> 0.00000</td><td>  0.0000</td><td>  0.0000</td><td>   0.000</td><td>   0.00</td><td> 0.00000</td><td> 0.00000</td><td> 0</td><td> 0</td></tr>\n",
              "\t<tr><th scope=row></th><td>  0.1250</td><td>    0.000000</td><td>    0.000000</td><td>  105.525919</td><td>    0.000000</td><td> 0.00000</td><td>  0.0000</td><td>  0.0000</td><td>  0.0000</td><td>   0</td><td>⋯</td><td> 0.00000</td><td> 0.00000</td><td>  0.0000</td><td>  0.0000</td><td>   0.000</td><td>   0.00</td><td> 0.00000</td><td> 0.00000</td><td> 0</td><td> 0</td></tr>\n",
              "\t<tr><th scope=row></th><td>  0.0000</td><td>    0.000000</td><td>    0.000000</td><td>    0.000000</td><td>    1.000000</td><td> 0.00000</td><td>  0.0000</td><td>  0.0000</td><td>  0.0000</td><td>   0</td><td>⋯</td><td> 1.00000</td><td> 1.00000</td><td>  0.0000</td><td>  0.0000</td><td>   0.000</td><td>   0.00</td><td> 0.00000</td><td> 0.00000</td><td> 0</td><td> 0</td></tr>\n",
              "\t<tr><th scope=row></th><td>  0.1000</td><td>    0.000000</td><td>    0.000000</td><td>    0.000000</td><td>    5.249299</td><td> 0.00000</td><td>  0.0000</td><td>  0.0000</td><td>  0.0000</td><td>   0</td><td>⋯</td><td> 0.00000</td><td> 0.00000</td><td>  1.0000</td><td>  1.0000</td><td>   0.000</td><td>   0.00</td><td> 0.00000</td><td> 0.00000</td><td> 0</td><td> 0</td></tr>\n",
              "\t<tr><th scope=row></th><td>  0.1750</td><td>    0.000000</td><td>    0.000000</td><td>    0.000000</td><td>   -0.579360</td><td> 0.00000</td><td>  0.0000</td><td>  0.0000</td><td>  0.0000</td><td>   0</td><td>⋯</td><td> 0.00000</td><td> 0.00000</td><td>  0.0000</td><td>  0.0000</td><td>   1.000</td><td>   1.00</td><td> 0.00000</td><td> 0.00000</td><td> 0</td><td> 0</td></tr>\n",
              "\t<tr><th scope=row></th><td>  0.0000</td><td>    0.000000</td><td>    0.000000</td><td>    0.000000</td><td>   76.745450</td><td> 0.00000</td><td>  0.0000</td><td>  0.0000</td><td>  0.0000</td><td>   0</td><td>⋯</td><td> 0.00000</td><td> 0.00000</td><td>  0.0000</td><td>  0.0000</td><td>   0.000</td><td>   0.00</td><td> 1.00000</td><td> 1.00000</td><td> 0</td><td> 0</td></tr>\n",
              "\t<tr><th scope=row></th><td>  0.0000</td><td>    0.000000</td><td>    0.000000</td><td>    0.000000</td><td>  105.525919</td><td> 0.00000</td><td>  0.0000</td><td>  0.0000</td><td>  0.0000</td><td>   0</td><td>⋯</td><td> 0.00000</td><td> 0.00000</td><td>  0.0000</td><td>  0.0000</td><td>   0.000</td><td>   0.00</td><td> 0.00000</td><td> 0.00000</td><td> 1</td><td> 1</td></tr>\n",
              "\t<tr><th scope=row>const.dir.num</th><td>  2.0000</td><td>    1.000000</td><td>    1.000000</td><td>    1.000000</td><td>    1.000000</td><td> 2.00000</td><td>  1.0000</td><td>  2.0000</td><td>  1.0000</td><td>   2</td><td>⋯</td><td> 2.00000</td><td> 1.00000</td><td>  2.0000</td><td>  1.0000</td><td>   2.000</td><td>   1.00</td><td> 2.00000</td><td> 1.00000</td><td> 2</td><td> 1</td></tr>\n",
              "\t<tr><th scope=row>const.rhs</th><td>170.9844</td><td>50000.000000</td><td>50000.000000</td><td>40000.000000</td><td>20000.000000</td><td>51.66553</td><td>103.3311</td><td>260.0551</td><td>520.1102</td><td>2500</td><td>⋯</td><td>30.99932</td><td>61.99864</td><td>156.0331</td><td>312.0661</td><td>1249.805</td><td>2499.61</td><td>24.86084</td><td>49.72168</td><td>45</td><td>90</td></tr>\n",
              "</tbody>\n",
              "</table>\n"
            ],
            "text/markdown": "\nA matrix: 22 × 45 of type dbl\n\n| <!----> |   0.0000 |     1.000000 |     0.000000 |     0.000000 |     0.000000 |  1.00000 |   1.0000 |   0.0000 |   0.0000 |    0 | ⋯ |  0.00000 |  0.00000 |   0.0000 |   0.0000 |    0.000 |    0.00 |  0.00000 |  0.00000 |  0 |  0 |\n| <!----> |   0.2000 |     5.249299 |     0.000000 |     0.000000 |     0.000000 |  0.00000 |   0.0000 |   1.0000 |   1.0000 |    0 | ⋯ |  0.00000 |  0.00000 |   0.0000 |   0.0000 |    0.000 |    0.00 |  0.00000 |  0.00000 |  0 |  0 |\n| <!----> |   0.0000 |    -0.579360 |     0.000000 |     0.000000 |     0.000000 |  0.00000 |   0.0000 |   0.0000 |   0.0000 |    1 | ⋯ |  0.00000 |  0.00000 |   0.0000 |   0.0000 |    0.000 |    0.00 |  0.00000 |  0.00000 |  0 |  0 |\n| <!----> |   0.0750 |    76.745450 |     0.000000 |     0.000000 |     0.000000 |  0.00000 |   0.0000 |   0.0000 |   0.0000 |    0 | ⋯ |  0.00000 |  0.00000 |   0.0000 |   0.0000 |    0.000 |    0.00 |  0.00000 |  0.00000 |  0 |  0 |\n| <!----> |   0.0000 |   105.525919 |     0.000000 |     0.000000 |     0.000000 |  0.00000 |   0.0000 |   0.0000 |   0.0000 |    0 | ⋯ |  0.00000 |  0.00000 |   0.0000 |   0.0000 |    0.000 |    0.00 |  0.00000 |  0.00000 |  0 |  0 |\n| <!----> |   0.0000 |     0.000000 |     1.000000 |     0.000000 |     0.000000 |  0.00000 |   0.0000 |   0.0000 |   0.0000 |    0 | ⋯ |  0.00000 |  0.00000 |   0.0000 |   0.0000 |    0.000 |    0.00 |  0.00000 |  0.00000 |  0 |  0 |\n| <!----> |   0.0000 |     0.000000 |     5.249299 |     0.000000 |     0.000000 |  0.00000 |   0.0000 |   0.0000 |   0.0000 |    0 | ⋯ |  0.00000 |  0.00000 |   0.0000 |   0.0000 |    0.000 |    0.00 |  0.00000 |  0.00000 |  0 |  0 |\n| <!----> |   0.1750 |     0.000000 |    -0.579360 |     0.000000 |     0.000000 |  0.00000 |   0.0000 |   0.0000 |   0.0000 |    0 | ⋯ |  0.00000 |  0.00000 |   0.0000 |   0.0000 |    0.000 |    0.00 |  0.00000 |  0.00000 |  0 |  0 |\n| <!----> |   0.0750 |     0.000000 |    76.745450 |     0.000000 |     0.000000 |  0.00000 |   0.0000 |   0.0000 |   0.0000 |    0 | ⋯ |  0.00000 |  0.00000 |   0.0000 |   0.0000 |    0.000 |    0.00 |  0.00000 |  0.00000 |  0 |  0 |\n| <!----> |   0.0000 |     0.000000 |   105.525919 |     0.000000 |     0.000000 |  0.00000 |   0.0000 |   0.0000 |   0.0000 |    0 | ⋯ |  0.00000 |  0.00000 |   0.0000 |   0.0000 |    0.000 |    0.00 |  0.00000 |  0.00000 |  0 |  0 |\n| <!----> |   0.0000 |     0.000000 |     0.000000 |     1.000000 |     0.000000 |  0.00000 |   0.0000 |   0.0000 |   0.0000 |    0 | ⋯ |  0.00000 |  0.00000 |   0.0000 |   0.0000 |    0.000 |    0.00 |  0.00000 |  0.00000 |  0 |  0 |\n| <!----> |   0.1250 |     0.000000 |     0.000000 |     5.249299 |     0.000000 |  0.00000 |   0.0000 |   0.0000 |   0.0000 |    0 | ⋯ |  0.00000 |  0.00000 |   0.0000 |   0.0000 |    0.000 |    0.00 |  0.00000 |  0.00000 |  0 |  0 |\n| <!----> |   0.0000 |     0.000000 |     0.000000 |    -0.579360 |     0.000000 |  0.00000 |   0.0000 |   0.0000 |   0.0000 |    0 | ⋯ |  0.00000 |  0.00000 |   0.0000 |   0.0000 |    0.000 |    0.00 |  0.00000 |  0.00000 |  0 |  0 |\n| <!----> |   0.0000 |     0.000000 |     0.000000 |    76.745450 |     0.000000 |  0.00000 |   0.0000 |   0.0000 |   0.0000 |    0 | ⋯ |  0.00000 |  0.00000 |   0.0000 |   0.0000 |    0.000 |    0.00 |  0.00000 |  0.00000 |  0 |  0 |\n| <!----> |   0.1250 |     0.000000 |     0.000000 |   105.525919 |     0.000000 |  0.00000 |   0.0000 |   0.0000 |   0.0000 |    0 | ⋯ |  0.00000 |  0.00000 |   0.0000 |   0.0000 |    0.000 |    0.00 |  0.00000 |  0.00000 |  0 |  0 |\n| <!----> |   0.0000 |     0.000000 |     0.000000 |     0.000000 |     1.000000 |  0.00000 |   0.0000 |   0.0000 |   0.0000 |    0 | ⋯ |  1.00000 |  1.00000 |   0.0000 |   0.0000 |    0.000 |    0.00 |  0.00000 |  0.00000 |  0 |  0 |\n| <!----> |   0.1000 |     0.000000 |     0.000000 |     0.000000 |     5.249299 |  0.00000 |   0.0000 |   0.0000 |   0.0000 |    0 | ⋯ |  0.00000 |  0.00000 |   1.0000 |   1.0000 |    0.000 |    0.00 |  0.00000 |  0.00000 |  0 |  0 |\n| <!----> |   0.1750 |     0.000000 |     0.000000 |     0.000000 |    -0.579360 |  0.00000 |   0.0000 |   0.0000 |   0.0000 |    0 | ⋯ |  0.00000 |  0.00000 |   0.0000 |   0.0000 |    1.000 |    1.00 |  0.00000 |  0.00000 |  0 |  0 |\n| <!----> |   0.0000 |     0.000000 |     0.000000 |     0.000000 |    76.745450 |  0.00000 |   0.0000 |   0.0000 |   0.0000 |    0 | ⋯ |  0.00000 |  0.00000 |   0.0000 |   0.0000 |    0.000 |    0.00 |  1.00000 |  1.00000 |  0 |  0 |\n| <!----> |   0.0000 |     0.000000 |     0.000000 |     0.000000 |   105.525919 |  0.00000 |   0.0000 |   0.0000 |   0.0000 |    0 | ⋯ |  0.00000 |  0.00000 |   0.0000 |   0.0000 |    0.000 |    0.00 |  0.00000 |  0.00000 |  1 |  1 |\n| const.dir.num |   2.0000 |     1.000000 |     1.000000 |     1.000000 |     1.000000 |  2.00000 |   1.0000 |   2.0000 |   1.0000 |    2 | ⋯ |  2.00000 |  1.00000 |   2.0000 |   1.0000 |    2.000 |    1.00 |  2.00000 |  1.00000 |  2 |  1 |\n| const.rhs | 170.9844 | 50000.000000 | 50000.000000 | 40000.000000 | 20000.000000 | 51.66553 | 103.3311 | 260.0551 | 520.1102 | 2500 | ⋯ | 30.99932 | 61.99864 | 156.0331 | 312.0661 | 1249.805 | 2499.61 | 24.86084 | 49.72168 | 45 | 90 |\n\n",
            "text/latex": "A matrix: 22 × 45 of type dbl\n\\begin{tabular}{r|lllllllllllllllllllll}\n\t &   0.0000 &     1.000000 &     0.000000 &     0.000000 &     0.000000 &  1.00000 &   1.0000 &   0.0000 &   0.0000 &    0 & ⋯ &  0.00000 &  0.00000 &   0.0000 &   0.0000 &    0.000 &    0.00 &  0.00000 &  0.00000 &  0 &  0\\\\\n\t &   0.2000 &     5.249299 &     0.000000 &     0.000000 &     0.000000 &  0.00000 &   0.0000 &   1.0000 &   1.0000 &    0 & ⋯ &  0.00000 &  0.00000 &   0.0000 &   0.0000 &    0.000 &    0.00 &  0.00000 &  0.00000 &  0 &  0\\\\\n\t &   0.0000 &    -0.579360 &     0.000000 &     0.000000 &     0.000000 &  0.00000 &   0.0000 &   0.0000 &   0.0000 &    1 & ⋯ &  0.00000 &  0.00000 &   0.0000 &   0.0000 &    0.000 &    0.00 &  0.00000 &  0.00000 &  0 &  0\\\\\n\t &   0.0750 &    76.745450 &     0.000000 &     0.000000 &     0.000000 &  0.00000 &   0.0000 &   0.0000 &   0.0000 &    0 & ⋯ &  0.00000 &  0.00000 &   0.0000 &   0.0000 &    0.000 &    0.00 &  0.00000 &  0.00000 &  0 &  0\\\\\n\t &   0.0000 &   105.525919 &     0.000000 &     0.000000 &     0.000000 &  0.00000 &   0.0000 &   0.0000 &   0.0000 &    0 & ⋯ &  0.00000 &  0.00000 &   0.0000 &   0.0000 &    0.000 &    0.00 &  0.00000 &  0.00000 &  0 &  0\\\\\n\t &   0.0000 &     0.000000 &     1.000000 &     0.000000 &     0.000000 &  0.00000 &   0.0000 &   0.0000 &   0.0000 &    0 & ⋯ &  0.00000 &  0.00000 &   0.0000 &   0.0000 &    0.000 &    0.00 &  0.00000 &  0.00000 &  0 &  0\\\\\n\t &   0.0000 &     0.000000 &     5.249299 &     0.000000 &     0.000000 &  0.00000 &   0.0000 &   0.0000 &   0.0000 &    0 & ⋯ &  0.00000 &  0.00000 &   0.0000 &   0.0000 &    0.000 &    0.00 &  0.00000 &  0.00000 &  0 &  0\\\\\n\t &   0.1750 &     0.000000 &    -0.579360 &     0.000000 &     0.000000 &  0.00000 &   0.0000 &   0.0000 &   0.0000 &    0 & ⋯ &  0.00000 &  0.00000 &   0.0000 &   0.0000 &    0.000 &    0.00 &  0.00000 &  0.00000 &  0 &  0\\\\\n\t &   0.0750 &     0.000000 &    76.745450 &     0.000000 &     0.000000 &  0.00000 &   0.0000 &   0.0000 &   0.0000 &    0 & ⋯ &  0.00000 &  0.00000 &   0.0000 &   0.0000 &    0.000 &    0.00 &  0.00000 &  0.00000 &  0 &  0\\\\\n\t &   0.0000 &     0.000000 &   105.525919 &     0.000000 &     0.000000 &  0.00000 &   0.0000 &   0.0000 &   0.0000 &    0 & ⋯ &  0.00000 &  0.00000 &   0.0000 &   0.0000 &    0.000 &    0.00 &  0.00000 &  0.00000 &  0 &  0\\\\\n\t &   0.0000 &     0.000000 &     0.000000 &     1.000000 &     0.000000 &  0.00000 &   0.0000 &   0.0000 &   0.0000 &    0 & ⋯ &  0.00000 &  0.00000 &   0.0000 &   0.0000 &    0.000 &    0.00 &  0.00000 &  0.00000 &  0 &  0\\\\\n\t &   0.1250 &     0.000000 &     0.000000 &     5.249299 &     0.000000 &  0.00000 &   0.0000 &   0.0000 &   0.0000 &    0 & ⋯ &  0.00000 &  0.00000 &   0.0000 &   0.0000 &    0.000 &    0.00 &  0.00000 &  0.00000 &  0 &  0\\\\\n\t &   0.0000 &     0.000000 &     0.000000 &    -0.579360 &     0.000000 &  0.00000 &   0.0000 &   0.0000 &   0.0000 &    0 & ⋯ &  0.00000 &  0.00000 &   0.0000 &   0.0000 &    0.000 &    0.00 &  0.00000 &  0.00000 &  0 &  0\\\\\n\t &   0.0000 &     0.000000 &     0.000000 &    76.745450 &     0.000000 &  0.00000 &   0.0000 &   0.0000 &   0.0000 &    0 & ⋯ &  0.00000 &  0.00000 &   0.0000 &   0.0000 &    0.000 &    0.00 &  0.00000 &  0.00000 &  0 &  0\\\\\n\t &   0.1250 &     0.000000 &     0.000000 &   105.525919 &     0.000000 &  0.00000 &   0.0000 &   0.0000 &   0.0000 &    0 & ⋯ &  0.00000 &  0.00000 &   0.0000 &   0.0000 &    0.000 &    0.00 &  0.00000 &  0.00000 &  0 &  0\\\\\n\t &   0.0000 &     0.000000 &     0.000000 &     0.000000 &     1.000000 &  0.00000 &   0.0000 &   0.0000 &   0.0000 &    0 & ⋯ &  1.00000 &  1.00000 &   0.0000 &   0.0000 &    0.000 &    0.00 &  0.00000 &  0.00000 &  0 &  0\\\\\n\t &   0.1000 &     0.000000 &     0.000000 &     0.000000 &     5.249299 &  0.00000 &   0.0000 &   0.0000 &   0.0000 &    0 & ⋯ &  0.00000 &  0.00000 &   1.0000 &   1.0000 &    0.000 &    0.00 &  0.00000 &  0.00000 &  0 &  0\\\\\n\t &   0.1750 &     0.000000 &     0.000000 &     0.000000 &    -0.579360 &  0.00000 &   0.0000 &   0.0000 &   0.0000 &    0 & ⋯ &  0.00000 &  0.00000 &   0.0000 &   0.0000 &    1.000 &    1.00 &  0.00000 &  0.00000 &  0 &  0\\\\\n\t &   0.0000 &     0.000000 &     0.000000 &     0.000000 &    76.745450 &  0.00000 &   0.0000 &   0.0000 &   0.0000 &    0 & ⋯ &  0.00000 &  0.00000 &   0.0000 &   0.0000 &    0.000 &    0.00 &  1.00000 &  1.00000 &  0 &  0\\\\\n\t &   0.0000 &     0.000000 &     0.000000 &     0.000000 &   105.525919 &  0.00000 &   0.0000 &   0.0000 &   0.0000 &    0 & ⋯ &  0.00000 &  0.00000 &   0.0000 &   0.0000 &    0.000 &    0.00 &  0.00000 &  0.00000 &  1 &  1\\\\\n\tconst.dir.num &   2.0000 &     1.000000 &     1.000000 &     1.000000 &     1.000000 &  2.00000 &   1.0000 &   2.0000 &   1.0000 &    2 & ⋯ &  2.00000 &  1.00000 &   2.0000 &   1.0000 &    2.000 &    1.00 &  2.00000 &  1.00000 &  2 &  1\\\\\n\tconst.rhs & 170.9844 & 50000.000000 & 50000.000000 & 40000.000000 & 20000.000000 & 51.66553 & 103.3311 & 260.0551 & 520.1102 & 2500 & ⋯ & 30.99932 & 61.99864 & 156.0331 & 312.0661 & 1249.805 & 2499.61 & 24.86084 & 49.72168 & 45 & 90\\\\\n\\end{tabular}\n",
            "text/plain": [
              "              [,1]     [,2]         [,3]         [,4]         [,5]        \n",
              "                0.0000     1.000000     0.000000     0.000000     0.000000\n",
              "                0.2000     5.249299     0.000000     0.000000     0.000000\n",
              "                0.0000    -0.579360     0.000000     0.000000     0.000000\n",
              "                0.0750    76.745450     0.000000     0.000000     0.000000\n",
              "                0.0000   105.525919     0.000000     0.000000     0.000000\n",
              "                0.0000     0.000000     1.000000     0.000000     0.000000\n",
              "                0.0000     0.000000     5.249299     0.000000     0.000000\n",
              "                0.1750     0.000000    -0.579360     0.000000     0.000000\n",
              "                0.0750     0.000000    76.745450     0.000000     0.000000\n",
              "                0.0000     0.000000   105.525919     0.000000     0.000000\n",
              "                0.0000     0.000000     0.000000     1.000000     0.000000\n",
              "                0.1250     0.000000     0.000000     5.249299     0.000000\n",
              "                0.0000     0.000000     0.000000    -0.579360     0.000000\n",
              "                0.0000     0.000000     0.000000    76.745450     0.000000\n",
              "                0.1250     0.000000     0.000000   105.525919     0.000000\n",
              "                0.0000     0.000000     0.000000     0.000000     1.000000\n",
              "                0.1000     0.000000     0.000000     0.000000     5.249299\n",
              "                0.1750     0.000000     0.000000     0.000000    -0.579360\n",
              "                0.0000     0.000000     0.000000     0.000000    76.745450\n",
              "                0.0000     0.000000     0.000000     0.000000   105.525919\n",
              "const.dir.num   2.0000     1.000000     1.000000     1.000000     1.000000\n",
              "const.rhs     170.9844 50000.000000 50000.000000 40000.000000 20000.000000\n",
              "              [,6]     [,7]     [,8]     [,9]     [,10] [,11] [,12]    [,13]   \n",
              "               1.00000   1.0000   0.0000   0.0000    0  ⋯      0.00000  0.00000\n",
              "               0.00000   0.0000   1.0000   1.0000    0  ⋯      0.00000  0.00000\n",
              "               0.00000   0.0000   0.0000   0.0000    1  ⋯      0.00000  0.00000\n",
              "               0.00000   0.0000   0.0000   0.0000    0  ⋯      0.00000  0.00000\n",
              "               0.00000   0.0000   0.0000   0.0000    0  ⋯      0.00000  0.00000\n",
              "               0.00000   0.0000   0.0000   0.0000    0  ⋯      0.00000  0.00000\n",
              "               0.00000   0.0000   0.0000   0.0000    0  ⋯      0.00000  0.00000\n",
              "               0.00000   0.0000   0.0000   0.0000    0  ⋯      0.00000  0.00000\n",
              "               0.00000   0.0000   0.0000   0.0000    0  ⋯      0.00000  0.00000\n",
              "               0.00000   0.0000   0.0000   0.0000    0  ⋯      0.00000  0.00000\n",
              "               0.00000   0.0000   0.0000   0.0000    0  ⋯      0.00000  0.00000\n",
              "               0.00000   0.0000   0.0000   0.0000    0  ⋯      0.00000  0.00000\n",
              "               0.00000   0.0000   0.0000   0.0000    0  ⋯      0.00000  0.00000\n",
              "               0.00000   0.0000   0.0000   0.0000    0  ⋯      0.00000  0.00000\n",
              "               0.00000   0.0000   0.0000   0.0000    0  ⋯      0.00000  0.00000\n",
              "               0.00000   0.0000   0.0000   0.0000    0  ⋯      1.00000  1.00000\n",
              "               0.00000   0.0000   0.0000   0.0000    0  ⋯      0.00000  0.00000\n",
              "               0.00000   0.0000   0.0000   0.0000    0  ⋯      0.00000  0.00000\n",
              "               0.00000   0.0000   0.0000   0.0000    0  ⋯      0.00000  0.00000\n",
              "               0.00000   0.0000   0.0000   0.0000    0  ⋯      0.00000  0.00000\n",
              "const.dir.num  2.00000   1.0000   2.0000   1.0000    2  ⋯      2.00000  1.00000\n",
              "const.rhs     51.66553 103.3311 260.0551 520.1102 2500  ⋯     30.99932 61.99864\n",
              "              [,14]    [,15]    [,16]    [,17]   [,18]    [,19]    [,20] [,21]\n",
              "                0.0000   0.0000    0.000    0.00  0.00000  0.00000  0     0   \n",
              "                0.0000   0.0000    0.000    0.00  0.00000  0.00000  0     0   \n",
              "                0.0000   0.0000    0.000    0.00  0.00000  0.00000  0     0   \n",
              "                0.0000   0.0000    0.000    0.00  0.00000  0.00000  0     0   \n",
              "                0.0000   0.0000    0.000    0.00  0.00000  0.00000  0     0   \n",
              "                0.0000   0.0000    0.000    0.00  0.00000  0.00000  0     0   \n",
              "                0.0000   0.0000    0.000    0.00  0.00000  0.00000  0     0   \n",
              "                0.0000   0.0000    0.000    0.00  0.00000  0.00000  0     0   \n",
              "                0.0000   0.0000    0.000    0.00  0.00000  0.00000  0     0   \n",
              "                0.0000   0.0000    0.000    0.00  0.00000  0.00000  0     0   \n",
              "                0.0000   0.0000    0.000    0.00  0.00000  0.00000  0     0   \n",
              "                0.0000   0.0000    0.000    0.00  0.00000  0.00000  0     0   \n",
              "                0.0000   0.0000    0.000    0.00  0.00000  0.00000  0     0   \n",
              "                0.0000   0.0000    0.000    0.00  0.00000  0.00000  0     0   \n",
              "                0.0000   0.0000    0.000    0.00  0.00000  0.00000  0     0   \n",
              "                0.0000   0.0000    0.000    0.00  0.00000  0.00000  0     0   \n",
              "                1.0000   1.0000    0.000    0.00  0.00000  0.00000  0     0   \n",
              "                0.0000   0.0000    1.000    1.00  0.00000  0.00000  0     0   \n",
              "                0.0000   0.0000    0.000    0.00  1.00000  1.00000  0     0   \n",
              "                0.0000   0.0000    0.000    0.00  0.00000  0.00000  1     1   \n",
              "const.dir.num   2.0000   1.0000    2.000    1.00  2.00000  1.00000  2     1   \n",
              "const.rhs     156.0331 312.0661 1249.805 2499.61 24.86084 49.72168 45    90   "
            ]
          },
          "metadata": {}
        }
      ]
    },
    {
      "cell_type": "markdown",
      "source": [
        "## Проверим"
      ],
      "metadata": {
        "id": "pgMhNBfpAwt4"
      }
    },
    {
      "cell_type": "code",
      "source": [
        "HH1<-function(p)\n",
        "{ return(sum(c(1, p_price$coefficients[2], p_price$coefficients[3], p_price$coefficients[4],\n",
        "               p_price$coefficients[5], 1, p_price$coefficients[2], p_price$coefficients[3],\n",
        "               p_price$coefficients[4], p_price$coefficients[5], 1, p_price$coefficients[2],\n",
        "               p_price$coefficients[3], p_price$coefficients[4], p_price$coefficients[5], \n",
        "               1, p_price$coefficients[2], p_price$coefficients[3], p_price$coefficients[4],\n",
        "               p_price$coefficients[5])*p))\n",
        "}\n",
        "HH2<-function(p){return(sum(c(0,w1[1]*h2[1],0,w1[2]*h2[1],0,0,0,w2[2]*h2[2],w2[1]*h2[2],0,0,0,w3[2]*h2[3],w3[1]*h2[3],0,0,w4[1]*h2[4],w4[2]*h2[4],0,0)*p))}\n",
        "HH1(res$solution)\n",
        "HH2(res$solution)"
      ],
      "metadata": {
        "colab": {
          "base_uri": "https://localhost:8080/",
          "height": 52
        },
        "id": "sUf1hk01Av1o",
        "outputId": "ef32104c-fa76-43de-85ac-661028dc997f"
      },
      "execution_count": 33,
      "outputs": [
        {
          "output_type": "display_data",
          "data": {
            "text/html": [
              "66401.1993534309"
            ],
            "text/markdown": "66401.1993534309",
            "text/latex": "66401.1993534309",
            "text/plain": [
              "[1] 66401.2"
            ]
          },
          "metadata": {}
        },
        {
          "output_type": "display_data",
          "data": {
            "text/html": [
              "4077.75156574533"
            ],
            "text/markdown": "4077.75156574533",
            "text/latex": "4077.75156574533",
            "text/plain": [
              "[1] 4077.752"
            ]
          },
          "metadata": {}
        }
      ]
    },
    {
      "cell_type": "markdown",
      "source": [
        "## Проверяем условия роботоспособности"
      ],
      "metadata": {
        "id": "c4fQt84_A5yF"
      }
    },
    {
      "cell_type": "code",
      "source": [
        "apply_restr<-function(data, restr) \n",
        "{\n",
        "  new_data<-data.frame()\n",
        "  for (i in c(1:length(rownames(data))))\n",
        "  {\n",
        "    if (restr[[\"multi\"]]!=0)\n",
        "      if ((data[i,3]>=restr[[\"speed\"]]) & (data[i,4]>=restr[[\"hd\"]]) \n",
        "          & (data[i,6]>=restr[[\"screen\"]]) & (data[i,5]>=restr[[\"ram\"]])\n",
        "          & (data[i,8]==restr[[\"multi\"]]))\n",
        "            new_data<-rbind(new_data,data[i,])\n",
        "    if (restr[[\"multi\"]]==0)\n",
        "      if ((data[i,3]>=restr[[\"speed\"]]) & (data[i,4]>=restr[[\"hd\"]])\n",
        "          & (data[i,6]>=restr[[\"screen\"]]) & (data[i,5]>=restr[[\"ram\"]]))\n",
        "        new_data<-rbind(new_data,data[i,])\n",
        "  }\n",
        "  return(new_data)\n",
        "}\n",
        "\n",
        "new_computers_c1<-apply_restr(DataComputers, restr_c1)\n",
        "new_computers_c2<-apply_restr(DataComputers, restr_c2)\n",
        "new_computers_c3<-apply_restr(DataComputers, restr_c3)\n",
        "new_computers_c4<-apply_restr(DataComputers, restr_c4)"
      ],
      "metadata": {
        "id": "ayYU_GFzA90z"
      },
      "execution_count": 34,
      "outputs": []
    },
    {
      "cell_type": "markdown",
      "source": [
        "## Нормализация"
      ],
      "metadata": {
        "id": "HkF7sDILBP7q"
      }
    },
    {
      "cell_type": "code",
      "source": [
        "normalize<-function(data)\n",
        "{\n",
        "  new_data<-data\n",
        "  mmax<-max(data$price); mmin<-min(data$price)\n",
        "  price<-(mmax-new_data$price)*100/(mmax-mmin)\n",
        "  mmax<-max(data$speed); mmin<-min(data$speed)\n",
        "  speed<-(new_data$speed-mmin)*100/(mmax-mmin)\n",
        "  mmax<-max(data$hd); mmin<-min(data$hd)\n",
        "  hd<-(new_data$hd-mmin)*100/(mmax-mmin)\n",
        "  mmax<-max(data$ram); mmin<-min(data$ram)\n",
        "  ram<-(new_data$ram-mmin)*100/(mmax-mmin)\n",
        "  mmax<-max(data$screen); mmin<-min(data$screen)\n",
        "  screen<-(new_data$screen-mmin)*100/(mmax-mmin)\n",
        "  result<-data.frame(price,speed,hd,ram,screen)\n",
        "  rownames(result)<-rownames(new_data)\n",
        "  return(result)\n",
        "}\n",
        "\n",
        "norm_computers_c1<-normalize(new_computers_c1)\n",
        "norm_computers_c2<-normalize(new_computers_c2)\n",
        "norm_computers_c3<-normalize(new_computers_c3)\n",
        "norm_computers_c4<-normalize(new_computers_c4)"
      ],
      "metadata": {
        "id": "fYmazkoiBPVK"
      },
      "execution_count": 35,
      "outputs": []
    },
    {
      "cell_type": "markdown",
      "source": [
        "## Доминация по Паретто"
      ],
      "metadata": {
        "id": "ipg7qL3aBfrE"
      }
    },
    {
      "cell_type": "code",
      "source": [
        "DPareto<-function(X,Y){\n",
        "  p<-TRUE; l<-FALSE; i<-1;\n",
        "  while (p & (i<=length(X))){\n",
        "    if (X[i]<Y[i]) p<-FALSE\n",
        "    if (X[i]>Y[i]) l<-TRUE\n",
        "    i<-i+1\n",
        "  }\n",
        "  if (!p | !l) return(FALSE)\n",
        "  else return(TRUE)\n",
        "}"
      ],
      "metadata": {
        "id": "VD_0GIa4Bj08"
      },
      "execution_count": 36,
      "outputs": []
    },
    {
      "cell_type": "markdown",
      "source": [
        "## Ищем оптимальные решения по Паретто"
      ],
      "metadata": {
        "id": "0RaFHqr1BoLO"
      }
    },
    {
      "cell_type": "code",
      "source": [
        "pareto_opt<-function(data)\n",
        "{\n",
        "  result<-c()\n",
        "  for (i in c(1:length(rownames(data)))){\n",
        "    p<-TRUE\n",
        "    for (j in c(1:length(rownames(data)))){\n",
        "      if (DPareto(data[j,],data[i,]))\n",
        "        p<-FALSE}\n",
        "    if (p) result<-c(result, rownames(data)[i])\n",
        "  }\n",
        "  return(result)  \n",
        "}"
      ],
      "metadata": {
        "id": "IxZkePQsBmAa"
      },
      "execution_count": 37,
      "outputs": []
    },
    {
      "cell_type": "code",
      "source": [
        "pareto_c1<-pareto_opt(norm_computers_c1)\n",
        "pareto_c2<-pareto_opt(norm_computers_c2)\n",
        "pareto_c3<-pareto_opt(norm_computers_c3)\n",
        "pareto_c4<-pareto_opt(norm_computers_c4)"
      ],
      "metadata": {
        "id": "phogaZzLDX_k"
      },
      "execution_count": 38,
      "outputs": []
    },
    {
      "cell_type": "markdown",
      "source": [
        "## Определяем идеальные точки"
      ],
      "metadata": {
        "id": "blbB-9n7ibJg"
      }
    },
    {
      "cell_type": "code",
      "source": [
        "\n",
        "N1<-res$solution[1]/p_price$coefficients[1]\n",
        "N2<-res$solution[6]/p_price$coefficients[1]\n",
        "N3<-res$solution[11]/p_price$coefficients[1]\n",
        "N4<-res$solution[16]/p_price$coefficients[1]\n",
        "ideal_c1<-c(res$solution[2]/N1,res$solution[3]/N1,res$solution[4]/N1,res$solution[5]/N1)\n",
        "ideal_c2<-c(res$solution[7]/N2,res$solution[8]/N2,res$solution[9]/N2,res$solution[10]/N2)\n",
        "ideal_c3<-c(res$solution[12]/N3,res$solution[13]/N3,res$solution[14]/N3,res$solution[15]/N3)\n",
        "ideal_c4<-c(res$solution[17]/N4,res$solution[18]/N4,res$solution[19]/N4,res$solution[20]/N4)"
      ],
      "metadata": {
        "id": "1X4xfLRXinwQ"
      },
      "execution_count": 39,
      "outputs": []
    },
    {
      "cell_type": "markdown",
      "source": [
        "## Находим расстояние между точками"
      ],
      "metadata": {
        "id": "YEwx5b99iqco"
      }
    },
    {
      "cell_type": "code",
      "source": [
        "\n",
        "distance<-function(A, B) {return(sqrt(sum((A-B)^2)))}\n",
        "for (i in c(1,2,3,4))\n",
        "{\n",
        "  if (i==1)\n",
        "  {\n",
        "    k<-pareto_c1[1]\n",
        "    k_min<-distance(ideal_c1, new_computers_c1[k,c(3:6)])\n",
        "    print(\"Для C1:\")\n",
        "    for (j in pareto_c1)\n",
        "    {\n",
        "      print(paste(j, \":\", as.character(distance(ideal_c1, new_computers_c1[j,c(3:6)]))))\n",
        "      if (distance(ideal_c1, new_computers_c1[j,c(3:6)])<k_min)\n",
        "      {\n",
        "        k_min<-distance(ideal_c1, new_computers_c1[j,c(3:6)])\n",
        "        k<-j\n",
        "      }     \n",
        "    }\n",
        "    cat(\"\\n\")\n",
        "    print(paste(\"Лучший для C1: \",k,\" : \", k_min))\n",
        "    cat(\"\\n\")\n",
        "  }\n",
        "  else\n",
        "    if (i==2)\n",
        "    {\n",
        "      k<-pareto_c2[1]\n",
        "      k_min<-distance(ideal_c2, new_computers_c2[k,c(3:6)])\n",
        "      print(\"Для C2:\")\n",
        "      for (j in pareto_c2)\n",
        "      {\n",
        "        print(paste(j, \":\", as.character(distance(ideal_c2, new_computers_c2[j,c(3:6)]))))\n",
        "        if (distance(ideal_c2, new_computers_c2[j,c(3:6)])<k_min)\n",
        "        {\n",
        "          k_min<-distance(ideal_c2, new_computers_c2[j,c(3:6)])\n",
        "          k<-j\n",
        "        }  \n",
        "      }\n",
        "      cat(\"\\n\")\n",
        "      print(paste(\"Лучший для C2: \",k,\" : \", k_min))\n",
        "      cat(\"\\n\")\n",
        "    }\n",
        "    else\n",
        "      if (i==3)\n",
        "      {\n",
        "        k<-pareto_c3[1]\n",
        "        k_min<-distance(ideal_c3, new_computers_c3[k,c(3:6)])\n",
        "        print(\"Для C3:\")\n",
        "        for (j in pareto_c3)\n",
        "        {\n",
        "          print(paste(j, \":\", as.character(distance(ideal_c3, new_computers_c3[j,c(3:6)]))))\n",
        "          if (distance(ideal_c3, new_computers_c3[j,c(3:6)])<k_min)\n",
        "          {\n",
        "            k_min<-distance(ideal_c3, new_computers_c3[j,c(3:6)])\n",
        "            k<-j\n",
        "          }  \n",
        "        }\n",
        "        cat(\"\\n\")\n",
        "        print(paste(\"Лучший для C3: \",k,\" : \", k_min))\n",
        "        cat(\"\\n\")\n",
        "      }\n",
        "      else\n",
        "        if (i==4)\n",
        "        {\n",
        "          k<-pareto_c4[1]\n",
        "          k_min<-distance(ideal_c4, new_computers_c4[k,c(3:6)])\n",
        "          print(\"Для C4:\")\n",
        "          for (j in pareto_c4)\n",
        "          {\n",
        "            print(paste(j, \":\", as.character(distance(ideal_c4, new_computers_c4[j,c(3:6)]))))\n",
        "            if (distance(ideal_c4, new_computers_c4[j,c(3:6)])<k_min)\n",
        "            {\n",
        "              k_min<-distance(ideal_c4, new_computers_c4[j,c(3:6)])\n",
        "              k<-j\n",
        "            }  \n",
        "          }\n",
        "          cat(\"\\n\")\n",
        "          print(paste(\"Лучший для C4: \",k,\" : \", k_min))\n",
        "          cat(\"\\n\")\n",
        "        }\n",
        "}"
      ],
      "metadata": {
        "id": "wuQpckGyOgrS",
        "colab": {
          "base_uri": "https://localhost:8080/"
        },
        "outputId": "b3ab8833-14db-4185-e200-e7ac5835a2a0"
      },
      "execution_count": 40,
      "outputs": [
        {
          "output_type": "stream",
          "name": "stdout",
          "text": [
            "[1] \"Для C1:\"\n",
            "[1] \"4847 : 8.48788654686054\"\n",
            "[1] \"5660 : 270.984303995212\"\n",
            "[1] \"5882 : 264.391644734675\"\n",
            "[1] \"5961 : 1101.0462941246\"\n",
            "[1] \"6045 : 14.1312223825141\"\n",
            "[1] \"6068 : 201.485714162988\"\n",
            "[1] \"6083 : 200.488631712684\"\n",
            "[1] \"6094 : 200.488631712684\"\n",
            "[1] \"6118 : 201.485714162988\"\n",
            "[1] \"6137 : 14.1312223825141\"\n",
            "[1] \"6147 : 201.485714162988\"\n",
            "[1] \"6149 : 201.475787656406\"\n",
            "[1] \"6158 : 47.9889758747404\"\n",
            "[1] \"6162 : 205.832314774688\"\n",
            "[1] \"6166 : 14.1312223825141\"\n",
            "[1] \"6168 : 13.9889758747404\"\n",
            "[1] \"6169 : 205.676789661611\"\n",
            "[1] \"6175 : 48.0306340319011\"\n",
            "[1] \"6181 : 200.488631712684\"\n",
            "[1] \"6194 : 600.65671811091\"\n",
            "[1] \"6200 : 602.12867545526\"\n",
            "[1] \"6201 : 600.653388412793\"\n",
            "[1] \"6203 : 205.832314774688\"\n",
            "[1] \"6206 : 600.376291542249\"\n",
            "[1] \"6213 : 205.842031192627\"\n",
            "[1] \"6222 : 205.832314774688\"\n",
            "[1] \"6231 : 205.842031192627\"\n",
            "[1] \"6236 : 600.65671811091\"\n",
            "[1] \"6238 : 601.969219981808\"\n",
            "[1] \"6240 : 602.12867545526\"\n",
            "[1] \"6244 : 600.21637052485\"\n",
            "[1] \"6245 : 600.653388412793\"\n",
            "[1] \"6252 : 600.376291542249\"\n",
            "\n",
            "[1] \"Лучший для C1:  4847  :  8.48788654686054\"\n",
            "\n",
            "[1] \"Для C2:\"\n",
            "[1] \"4710 : 833.552555921182\"\n",
            "[1] \"4847 : 833.338159850175\"\n",
            "[1] \"6068 : 633.753583124293\"\n",
            "[1] \"6118 : 633.753583124293\"\n",
            "[1] \"6147 : 633.753583124293\"\n",
            "[1] \"6149 : 633.750427315738\"\n",
            "[1] \"6162 : 635.148843119955\"\n",
            "[1] \"6194 : 234.608050706308\"\n",
            "[1] \"6200 : 238.351392380978\"\n",
            "[1] \"6201 : 234.599525694776\"\n",
            "[1] \"6203 : 635.148843119955\"\n",
            "[1] \"6206 : 233.889152998741\"\n",
            "[1] \"6213 : 635.151991980358\"\n",
            "[1] \"6222 : 635.148843119955\"\n",
            "[1] \"6231 : 635.151991980358\"\n",
            "[1] \"6236 : 234.608050706308\"\n",
            "[1] \"6238 : 238.217098987354\"\n",
            "[1] \"6240 : 238.351392380978\"\n",
            "[1] \"6244 : 233.752296011116\"\n",
            "[1] \"6245 : 234.599525694776\"\n",
            "[1] \"6252 : 233.889152998741\"\n",
            "\n",
            "[1] \"Лучший для C2:  6244  :  233.752296011116\"\n",
            "\n",
            "[1] \"Для C3:\"\n",
            "[1] \"5290 : 78.460498264149\"\n",
            "[1] \"5300 : 273.193041253134\"\n",
            "[1] \"5486 : 267.174197453614\"\n",
            "[1] \"5619 : 267.53220659595\"\n",
            "[1] \"5660 : 80.9213210770687\"\n",
            "[1] \"5796 : 80.5188564707476\"\n",
            "[1] \"5815 : 268.153469363801\"\n",
            "[1] \"5822 : 78.4250258629956\"\n",
            "[1] \"5830 : 267.53220659595\"\n",
            "[1] \"5838 : 266.532623179748\"\n",
            "[1] \"5847 : 64.8299428705879\"\n",
            "[1] \"5882 : 455.435413358345\"\n",
            "[1] \"5941 : 263.182807997294\"\n",
            "[1] \"5950 : 271.442349998037\"\n",
            "[1] \"5961 : 1293.74761959161\"\n",
            "[1] \"6012 : 271.442349998037\"\n",
            "[1] \"6018 : 64.3285704953794\"\n",
            "[1] \"6044 : 45.0656701103695\"\n",
            "[1] \"6058 : 64.3285704953794\"\n",
            "[1] \"6065 : 271.442349998037\"\n",
            "[1] \"6081 : 267.532612989472\"\n",
            "[1] \"6092 : 45.0656701103695\"\n",
            "[1] \"6093 : 271.442349998037\"\n",
            "[1] \"6098 : 267.542607209291\"\n",
            "[1] \"6106 : 262.539599299277\"\n",
            "[1] \"6114 : 267.532612989472\"\n",
            "[1] \"6136 : 64.3285704953794\"\n",
            "[1] \"6149 : 393.820097952605\"\n",
            "[1] \"6158 : 198.865839207913\"\n",
            "[1] \"6168 : 193.495146307046\"\n",
            "[1] \"6186 : 793.521929994806\"\n",
            "[1] \"6205 : 396.066557973702\"\n",
            "[1] \"6227 : 793.521929994806\"\n",
            "[1] \"6243 : 396.066557973702\"\n",
            "\n",
            "[1] \"Лучший для C3:  6044  :  45.0656701103695\"\n",
            "\n",
            "[1] \"Для C4:\"\n",
            "[1] \"5290 : 104.166755243954\"\n",
            "[1] \"5300 : 247.192924478581\"\n",
            "[1] \"5619 : 293.537050480208\"\n",
            "[1] \"5660 : 106.032652117417\"\n",
            "[1] \"5796 : 105.733223084322\"\n",
            "[1] \"5815 : 294.103385853284\"\n",
            "[1] \"5822 : 104.147553490486\"\n",
            "[1] \"5830 : 293.537050480208\"\n",
            "[1] \"5838 : 292.178398402204\"\n",
            "[1] \"5847 : 51.4641545095208\"\n",
            "[1] \"5882 : 429.555330264792\"\n",
            "[1] \"5941 : 289.12586826353\"\n",
            "[1] \"5961 : 1267.72871364224\"\n",
            "[1] \"6098 : 293.543863851078\"\n",
            "[1] \"6149 : 367.852073898077\"\n",
            "[1] \"6158 : 173.734116000907\"\n",
            "[1] \"6168 : 167.559818283306\"\n",
            "[1] \"6186 : 767.507555288113\"\n",
            "[1] \"6205 : 370.2561236021\"\n",
            "[1] \"6227 : 767.507555288113\"\n",
            "[1] \"6243 : 370.2561236021\"\n",
            "\n",
            "[1] \"Лучший для C4:  5847  :  51.4641545095208\"\n",
            "\n"
          ]
        }
      ]
    },
    {
      "cell_type": "markdown",
      "source": [
        "Итого: <br>\n",
        "- сегмент $C_1$: номер варианта 4847\n",
        "- сегмент $C_2$: номер варианта 6244\n",
        "- сегмент $C_3$: номер варианта 6044\n",
        "- сегмент $C_4$: номер варианта 5847"
      ],
      "metadata": {
        "id": "8HJothwYbFii"
      }
    }
  ]
}
